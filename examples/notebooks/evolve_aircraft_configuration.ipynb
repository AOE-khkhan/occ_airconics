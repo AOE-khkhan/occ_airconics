{
 "cells": [
  {
   "cell_type": "markdown",
   "metadata": {},
   "source": [
    "# Aircraft Configuration GP example"
   ]
  },
  {
   "cell_type": "markdown",
   "metadata": {},
   "source": [
    "This notebook is designed to test whether a simple simple comprised of bounding boxes can be generated using [deap](http://deap.readthedocs.io/en/master/api/tools.html), a Python Evolutionary Algorithm Package."
   ]
  },
  {
   "cell_type": "code",
   "execution_count": null,
   "metadata": {
    "collapsed": false,
    "scrolled": false
   },
   "outputs": [],
   "source": [
    "import numpy as np\n",
    "import pydot\n",
    "from airconics.topology import Topology_GPTools, Topology\n",
    "\n",
    "from IPython.display import Image, display\n",
    "\n",
    "from airconics.Addons.WebServer.TornadoWeb import TornadoWebRenderer"
   ]
  },
  {
   "cell_type": "code",
   "execution_count": null,
   "metadata": {
    "collapsed": false,
    "scrolled": false
   },
   "outputs": [],
   "source": [
    "topo_tools = Topology_GPTools(MaxAttachments=4)\n",
    "# Try to compile a single individual and visualise both the tree and geometry\n",
    "topo = topo_tools.randomize()\n",
    "\n",
    "renderer = TornadoWebRenderer()\n",
    "topo.Display(renderer)\n",
    "\n",
    "display(renderer)\n",
    "display(Image(topo.pydot_graph().create_png()))"
   ]
  },
  {
   "cell_type": "markdown",
   "metadata": {},
   "source": [
    "## Conventional Airliner"
   ]
  },
  {
   "cell_type": "code",
   "execution_count": null,
   "metadata": {
    "collapsed": false
   },
   "outputs": [],
   "source": [
    "import os, airconics\n",
    "from airconics import Topology\n",
    "from airconics.Addons.WebServer.TornadoWeb import TornadoWebRenderer\n",
    "from IPython.display import Image, display\n",
    "\n",
    "topo = Topology()\n",
    "\n",
    "fname = os.path.join(os.path.dirname(airconics.__file__),'resources/configuration_app/presets/airliner.json')\n",
    "\n",
    "topo.from_file(fname)\n",
    "\n",
    "renderer = TornadoWebRenderer()\n",
    "\n",
    "topo.Display(renderer)\n",
    "\n",
    "display(Image(topo.pydot_graph().create_png()))\n",
    "\n",
    "renderer"
   ]
  },
  {
   "cell_type": "markdown",
   "metadata": {},
   "source": [
    "## General Atomics MQ-1 Predator"
   ]
  },
  {
   "cell_type": "markdown",
   "metadata": {},
   "source": [
    "### Aircraft configuration from JSON files"
   ]
  },
  {
   "cell_type": "markdown",
   "metadata": {},
   "source": [
    "User defined JSON can be used to create new component hierarchies using the `Topology_GPTools.from_file` or `from_JSON` methods. This offers an interface for describing new aircraft layouts that is human-readable. The format is described in the table below; see the [presets directory](https://github.com/p-chambers/occ_airconics/tree/v0.3-dev/airconics/resources/configuration_app/presets) on github for examples.\n",
    "\n",
    "<b>Notes:\n",
    "* Attributes are not order sensitive, but each of the named attributes must appear once\n",
    "* The `<N>` should be replaced with a number describing the number of descendent\n",
    "* The order that component fitting primitives appear in the JSON file DOES affect the result\n",
    "    - If a component with two sub attachments (`liftingsurface2`) appears in the file, the following two components will be sub geometries of that lifting surface. \n",
    "* Scalar variable inputs are all expected to lie between 0 and 1, unless otherwise specified; this dimensionless value is then used to fit the geometry to its parent.\n",
    "* The lifting surface `Type` attribute can be any of keys the pre-defined wing types `airconics.topology.LSURF_FUNCTIONS` dictionary, e.g., `\"AirlinerWing\"`, `\"TaperedWing\"`, etc.\n",
    "</b>.\n",
    "\n",
    "<table>\n",
    "\t<col width=\"3\">\n",
    "\t<col width=\"6\">\n",
    "\t<tr>\n",
    "\t\t<th>Primitive Name</th>\n",
    "\t\t<th>Attributes</th>\n",
    "\t</tr>\n",
    "\t<tr>\n",
    "\t\t<td>liftingsurfaceN</td>\n",
    "\t\t<td>$X$ : longitudinal position, scalar<br>\n",
    "$Y$ : lateral position, scalar<br>\n",
    "$Z$ : vertical position, scalar<br>\n",
    "ChordFactor : scalar<br>\n",
    "ScaleFactor : scalar<br>\n",
    "Rotation : scalar (−1 < Rotation < 1)<br>\n",
    "Type : wing type, string (see **notes** above)</td>\n",
    "\t</tr>\n",
    "\t<tr>\n",
    "\t\t<td>fuselageN</td>\n",
    "\t\t<td>$X$ : longitudinal position, scalar<br>\n",
    "$Y$ : lateral position, scalar<br>\n",
    "$Z$ : vertical position, scalar<br>\n",
    "XScaleFactor : scalar<br>\n",
    "NoseLengthRatio : scalar<br>\n",
    "TailLengthRatio : scalar<br>\n",
    "FinenessRatio : scalar\t</td>\n",
    "\t</tr>\n",
    "\t<tr>\n",
    "\t\t<td>mirrorN</td>\n",
    "\t\t<td>None. This primitive simply mirrors N direct descendants, and their associated subtrees, in the $XZ$ plane.</td>\n",
    "\t</tr>\n",
    "</table>\n",
    "\n",
    "\n",
    "We'll use the [predator example](https://github.com/p-chambers/occ_airconics/blob/v0.3-dev/airconics/resources/configuration_app/presets/predator.json) here for demonstration."
   ]
  },
  {
   "cell_type": "code",
   "execution_count": null,
   "metadata": {
    "collapsed": false,
    "scrolled": false
   },
   "outputs": [],
   "source": [
    "import os, airconics\n",
    "from airconics import Topology\n",
    "from airconics.Addons.WebServer.TornadoWeb import TornadoWebRenderer\n",
    "from IPython.display import Image, display\n",
    "\n",
    "topo = Topology()\n",
    "\n",
    "fname = os.path.join(os.path.dirname(airconics.__file__),'resources/configuration_app/presets/proteus.json')\n",
    "\n",
    "topo.from_file(fname)\n",
    "\n",
    "renderer = TornadoWebRenderer()\n",
    "\n",
    "topo.Display(renderer)\n",
    "\n",
    "display(Image(topo.pydot_graph().create_png()))\n",
    "\n",
    "renderer"
   ]
  },
  {
   "cell_type": "markdown",
   "metadata": {},
   "source": [
    "Why not also try creating one from scratch? Let's aim for the Scaled Composites Proteus:\n",
    "\n",
    "![SC Proteus aircraft](Proteus.jpg)\n",
    "**Photo source: NASA**"
   ]
  },
  {
   "cell_type": "code",
   "execution_count": null,
   "metadata": {
    "collapsed": false,
    "scrolled": false
   },
   "outputs": [],
   "source": [
    "import os, airconics\n",
    "from airconics import Topology\n",
    "import numpy as np\n",
    "import pydot\n",
    "from airconics.topology import Topology_GPTools\n",
    "from IPython.display import Image, display\n",
    "from airconics.Addons.WebServer.TornadoWeb import TornadoWebRenderer\n",
    "\n",
    "# Note that we don't have to do anything special to turn a list of\n",
    "# dictionaries into json format before calling topo_tools.from_json:\n",
    "#  The primtives_array is already in json format!\n",
    "primitives_array = [\n",
    "  {\n",
    "    \"primitive\": \"fuselage1\", \n",
    "    \"args\": {\n",
    "        \"X\": 0.0, \n",
    "        \"Y\": 0.0, \n",
    "        \"Z\": 0.0,\n",
    "        \"XScaleFactor\": 1.0,\n",
    "        \"NoseLengthRatio\": 0.182,\n",
    "        \"TailLengthRatio\": 0.293,\n",
    "        \"FinenessRatio\": 1.0\n",
    "      }\n",
    "  },\n",
    "  {\n",
    "    \"primitive\": \"mirror3\"\n",
    "  }, \n",
    "  {\n",
    "    \"primitive\": \"liftingsurface0\",\n",
    "    \"args\": {\n",
    "        \"X\": 0.27, \n",
    "        \"Y\": 0.0, \n",
    "        \"Z\": 0.68,     \n",
    "        \"ScaleFactor\": 0.42,\n",
    "        \"ChordFactor\": 0.22,\n",
    "        \"Rotation\": 0.05, \n",
    "        \"Type\": \"StraightWing\"\n",
    "    }\n",
    "  },\n",
    "  {\n",
    "    \"primitive\": \"engine0\",\n",
    "    \"args\": {\n",
    "        \"SpanStation\": 0.7,\n",
    "        \"XChordFactor\": 0.16,\n",
    "        \"DiameterLenRatio\": 0.21,\n",
    "        \"PylonSweep\": 0.5,\n",
    "        \"PylonLenRatio\": 0.5,\n",
    "        \"Rotation\": 3*np.pi/4.\n",
    "    }\n",
    "},\n",
    "\n",
    "  {\n",
    "    \"primitive\": \"liftingsurface1\", \n",
    "    \"args\": {\n",
    "        \"X\": 0.77,\n",
    "        \"Y\": 0.0, \n",
    "        \"Z\": 0.3, \n",
    "        \"ChordFactor\": 0.8, \n",
    "        \"ScaleFactor\": 0.14,\n",
    "        \"Rotation\": 0.09, \n",
    "        \"Type\": \"StraightWing\"\n",
    "    }\n",
    "  },\n",
    "  {\n",
    "    \"primitive\": \"fuselage3\", \n",
    "    \"args\": {\n",
    "        \"X\": 1.0, \n",
    "        \"Y\": 1.0, \n",
    "        \"Z\": 1.0,\n",
    "        \"XScaleFactor\": 2.8,\n",
    "        \"NoseLengthRatio\": 0.182,\n",
    "        \"TailLengthRatio\": 0.293,\n",
    "        \"FinenessRatio\": 1.0\n",
    "    }\n",
    "  }, \n",
    "  {\n",
    "    \"primitive\": \"liftingsurface1\",\n",
    "    \"args\": {\n",
    "        \"X\": 0.0, \n",
    "        \"Y\": 0.0, \n",
    "        \"Z\": 0.0,     \n",
    "        \"ScaleFactor\": 0.9,\n",
    "        \"ChordFactor\": 0.31,\n",
    "        \"Rotation\": 0.09, \n",
    "        \"Type\": \"StraightWing\"\n",
    "    }\n",
    "  },\n",
    "  {\n",
    "    \"primitive\": \"liftingsurface0\",\n",
    "    \"args\": {\n",
    "        \"X\": 1.0,\n",
    "        \"Y\": 1.0, \n",
    "        \"Z\": 1.0, \n",
    "        \"ChordFactor\": 0.42,\n",
    "        \"ScaleFactor\": 0.7,\n",
    "        \"Rotation\": -0.16, \n",
    "        \"Type\": \"TaperedWing\"\n",
    "    }\n",
    "  }, \n",
    "  {\n",
    "    \"primitive\": \"liftingsurface0\",\n",
    "    \"args\": {\n",
    "        \"X\": 0.67,\n",
    "        \"Y\": 0.0, \n",
    "        \"Z\": 0.1, \n",
    "        \"ChordFactor\": 1.0,\n",
    "        \"ScaleFactor\": 0.4,\n",
    "        \"Rotation\": -np.pi/2., \n",
    "        \"Type\": \"AirlinerFin\"\n",
    "    }\n",
    "  }, \n",
    "  {\n",
    "    \"primitive\": \"liftingsurface0\",\n",
    "    \"args\": {\n",
    "        \"X\": 0.67,\n",
    "        \"Y\": 0.0, \n",
    "        \"Z\": 0.9, \n",
    "        \"ChordFactor\": 1.0, \n",
    "        \"ScaleFactor\": 0.42,\n",
    "        \"Rotation\": np.pi/2., \n",
    "        \"Type\": \"AirlinerFin\"\n",
    "    }\n",
    "  }\n",
    "]\n",
    "\n",
    "topo = Topology(SimplificationReqd=True)\n",
    "topo.from_json(primitives_array)\n",
    "# topo.Write('Proteus.step')\n",
    "\n",
    "renderer = TornadoWebRenderer()\n",
    "\n",
    "topo.Display(renderer)\n",
    "\n",
    "display(Image(topo.pydot_graph().create_png()))\n",
    "\n",
    "renderer"
   ]
  },
  {
   "cell_type": "markdown",
   "metadata": {},
   "source": [
    "## Optimisation\n",
    "\n",
    "**Note**: The optimisation setup code provided here is already included in the `Topology_GPTools` class, and can be used as default via the `Topology_GPTools.optimize` method. It is included here for those interested in how the evolutionary algorithm operates."
   ]
  },
  {
   "cell_type": "markdown",
   "metadata": {},
   "source": [
    "### The Objective Function"
   ]
  },
  {
   "cell_type": "markdown",
   "metadata": {},
   "source": [
    "User-defined functions for the topology optimisation are catered for in the `Topology_GPTools` class. The function should take in a `Topology` (See: `airconics.topology.Topology`), and return a single number: default behaviour is that this measure of fitness will be maximised, i.e., topologies with a greater value returned by this function will be selected more favourably for mutation, reproduction, etc.\n",
    "\n",
    "The objective function shown below will be used to maximise the similarity of an individuals component tree to a reference case: the airliner model. With this setup, the evolutionary algorithm will be subject to a simple test case for the genetic algorithm: that is, to test if the evolutionary process can obtain a given solution, without giving it any knowledge of what the solution is.\n",
    "\n",
    "Considering that 'success' in this case would be achieved if the algorithm yields a geometry and configuration that is suitably (visually?) similar to the airliner model, results of interest should be,\n",
    "\n",
    "* what population size, and number of generations gives a good probability of 'success'\n",
    "* "
   ]
  },
  {
   "cell_type": "code",
   "execution_count": null,
   "metadata": {
    "collapsed": false,
    "scrolled": false
   },
   "outputs": [],
   "source": [
    "from airconics.topology import Topology_GPTools, Topology, create_diffed_fitness\n",
    "import os\n",
    "import numpy as np\n",
    "from IPython.display import Image, display\n",
    "from airconics.Addons.WebServer.TornadoWeb import TornadoWebRenderer\n",
    "import airconics\n",
    "\n",
    "# Use the proteus.json preset to 'diff' against\n",
    "fname_reference = os.path.join(os.path.dirname(airconics.__file__),\n",
    "                     'resources/configuration_app/presets/proteus.json')\n",
    "diffed_fitness = create_diffed_fitness(fname_reference)"
   ]
  },
  {
   "cell_type": "code",
   "execution_count": null,
   "metadata": {
    "collapsed": false,
    "scrolled": false
   },
   "outputs": [],
   "source": [
    "# Check that the fitness function gives back a zero if the tree is exactly the same\n",
    "topo = Topology()\n",
    "\n",
    "topo.from_file(fname_reference)\n",
    "\n",
    "tree_json = topo.to_json()\n",
    "tree_components = [node['primitive'] for node in tree_json]\n",
    "\n",
    "\n",
    "\n",
    "print(diffed_fitness(topo))\n",
    "assert(diffed_fitness(topo) == 0)"
   ]
  },
  {
   "cell_type": "markdown",
   "metadata": {},
   "source": [
    "### Evolution Setup"
   ]
  },
  {
   "cell_type": "code",
   "execution_count": null,
   "metadata": {
    "collapsed": false,
    "scrolled": false
   },
   "outputs": [],
   "source": [
    "from deap import tools, gp, algorithms\n",
    "from airconics.topology import generate_topology\n",
    "import random \n",
    "\n",
    "random.seed(69)\n",
    "\n",
    "# The below are the default settings for Topology_GPTools, and are\n",
    "# included for illustration. See docs or help for explanation of inputs\n",
    "topo_tools = Topology_GPTools(MaxAttachments=4,\n",
    "                              min_levels=2,\n",
    "                              max_levels=4,\n",
    "                              min_mut=1,\n",
    "                              max_mut=3,\n",
    "                              fitness_funct=diffed_fitness,\n",
    "                             fitness_weights=(-1.0,),\n",
    "                             history=True)  # Minimization!\n",
    "\n",
    "\n",
    "# For now, I'll remove the construction of the geometry. This part\n",
    "# takes time, and the current fitness function doesn't require a\n",
    "# full CAD model - full scale analysis simulation would leave this in.\n",
    "def eval_topology_treeonly(individual, pset, diff_funct):\n",
    "    # simulate a topology run\n",
    "    topo = airconics.Topology(construct_geometry=False)\n",
    "    routine = gp.compile(individual, pset)\n",
    "    topo.run(routine)\n",
    "    return diff_funct(topo),\n",
    "\n",
    "topo_tools._toolbox.register(\"evaluate\", eval_topology_treeonly, pset=topo_tools._pset, diff_funct=diffed_fitness)\n",
    "\n",
    "\n",
    "# This is small in GP, but this is used for demonstration purposes.\n",
    "# Larger scale simulations should have a much larger population.\n",
    "popsize = 4000\n",
    "\n",
    "import time\n",
    "t = time.time()\n",
    "population, logbook, hof, gen_best = topo_tools.optimize(n=popsize, cxpd=0.5, mutpd=0.2, ngen=200)\n",
    "print(\"Evolution took {} seconds\".format(time.time() - t))\n",
    "\n",
    "# get the best individual and rerun it:\n",
    "best = hof[0]\n",
    "best_topology = topo_tools.spawn_topology(best)\n",
    "\n",
    "renderer = TornadoWebRenderer()\n",
    "\n",
    "best_topology.Display(renderer)\n",
    "\n",
    "renderer"
   ]
  },
  {
   "cell_type": "code",
   "execution_count": null,
   "metadata": {
    "collapsed": false,
    "scrolled": true
   },
   "outputs": [],
   "source": [
    "display(Image(best_topology.pydot_graph().create_png()))"
   ]
  },
  {
   "cell_type": "code",
   "execution_count": null,
   "metadata": {
    "collapsed": false
   },
   "outputs": [],
   "source": [
    "# Here's some code for creating the network diagram, but the\n",
    "# diagram doesn't show a lot, and can take a long time to generate:\n",
    "#  leaving this commented out for now.\n",
    "\n",
    "# import networkx\n",
    "# import matplotlib.pyplot as plt\n",
    "# %matplotlib notebook\n",
    "\n",
    "# graph = networkx.DiGraph(topo_tools.history.getGenealogy(best))\n",
    "# graph = graph.reverse()     # Make the grah top-down\n",
    "\n",
    "# colors = [topo_tools._toolbox.evaluate(topo_tools.history.genealogy_history[i])[0] for i in graph]\n",
    "# networkx.draw(graph, node_color=colors, show='ipynb')"
   ]
  },
  {
   "cell_type": "code",
   "execution_count": null,
   "metadata": {
    "collapsed": false
   },
   "outputs": [],
   "source": [
    "import matplotlib.pyplot as plt\n",
    "%matplotlib notebook\n",
    "# Write and plot the accompanying statistics of the evolution\n",
    "gen, best, worst, avg = logbook.select(\"gen\", \"min\", \"max\", \"avg\")\n",
    "log_array = np.column_stack([gen, best, worst, avg])\n",
    "# print(log_array)\n",
    "np.savetxt('log.txt', log_array, header='gen    best(min)    worst    avg')\n",
    "\n",
    "# Plot\n",
    "fig = plt.figure()\n",
    "ax1 = fig.add_subplot(111)\n",
    "ax1.plot(gen, best, 'b-', label=r'Best')\n",
    "ax1.plot(gen, worst, 'r-', label=r'Worst')\n",
    "ax1.plot(gen, avg, 'g-', label=r'Avg')\n",
    "\n",
    "ax1.set_xlabel('Generation')\n",
    "ax1.set_ylabel('Fitness')\n",
    "ax1.legend(loc=\"upper right\")"
   ]
  }
 ],
 "metadata": {
  "anaconda-cloud": {},
  "kernelspec": {
   "display_name": "Python [conda root]",
   "language": "python",
   "name": "conda-root-py"
  },
  "language_info": {
   "codemirror_mode": {
    "name": "ipython",
    "version": 2
   },
   "file_extension": ".py",
   "mimetype": "text/x-python",
   "name": "python",
   "nbconvert_exporter": "python",
   "pygments_lexer": "ipython2",
   "version": "2.7.12"
  }
 },
 "nbformat": 4,
 "nbformat_minor": 1
}
