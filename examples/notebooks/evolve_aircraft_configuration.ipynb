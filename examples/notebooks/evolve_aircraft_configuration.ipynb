{
 "cells": [
  {
   "cell_type": "markdown",
   "metadata": {},
   "source": [
    "# Aircraft Configuration GP example"
   ]
  },
  {
   "cell_type": "markdown",
   "metadata": {},
   "source": [
    "This notebook is designed to test whether a simple simple comprised of bounding boxes can be generated using [deap](http://deap.readthedocs.io/en/master/api/tools.html), a Python Evolutionary Algorithm Package."
   ]
  },
  {
   "cell_type": "code",
   "execution_count": null,
   "metadata": {
    "collapsed": false,
    "scrolled": false
   },
   "outputs": [],
   "source": [
    "import numpy as np\n",
    "import pydot\n",
    "from airconics.topology import Topology_GPTools\n",
    "\n",
    "from IPython.display import Image, display\n",
    "\n",
    "from airconics.Addons.WebServer.TornadoWeb import TornadoWebRenderer"
   ]
  },
  {
   "cell_type": "code",
   "execution_count": null,
   "metadata": {
    "collapsed": false,
    "scrolled": false
   },
   "outputs": [],
   "source": [
    "topo_tools = Topology_GPTools()\n",
    "# Try to compile a single individual and visualise both the tree and geometry\n",
    "topo = topo_tools.randomize()\n",
    "\n",
    "print(topo)\n",
    "\n",
    "renderer = TornadoWebRenderer()\n",
    "topo.Display(renderer)\n",
    "\n",
    "renderer"
   ]
  },
  {
   "cell_type": "code",
   "execution_count": null,
   "metadata": {
    "collapsed": false
   },
   "outputs": [],
   "source": [
    "Image(topo.pydot_graph().create_png())"
   ]
  },
  {
   "cell_type": "code",
   "execution_count": null,
   "metadata": {
    "collapsed": false
   },
   "outputs": [],
   "source": [
    "expr_string = \"\"\"fuselage1(0., 0., 0., 1.0, 0.182, 0.293, 0.5, mirror2(\n",
    "    liftingsurface0(0., 0., 0., 1., 0.68, 0., AirlinerTP),\n",
    "    liftingsurface0(0.55, 0., 0., 1., 0.5, 0.28, AirlinerFin)))\"\"\"\n",
    "config2 = topo_tools.from_string(expr_string)\n",
    "\n",
    "print(config2)\n",
    "\n",
    "from airconics.Addons.WebServer.TornadoWeb import TornadoWebRenderer\n",
    "\n",
    "renderer = TornadoWebRenderer()\n",
    "\n",
    "config2.Display(renderer)\n",
    "\n",
    "renderer\n",
    "\n"
   ]
  },
  {
   "cell_type": "code",
   "execution_count": null,
   "metadata": {
    "collapsed": false
   },
   "outputs": [],
   "source": [
    "# config2.Write('GP_output.step')\n",
    "graph = config2.pydot_graph()\n",
    "Image(graph.create_png())\n",
    "\n",
    "repr(config2._deap_tree)"
   ]
  },
  {
   "cell_type": "code",
   "execution_count": null,
   "metadata": {
    "collapsed": false
   },
   "outputs": [],
   "source": [
    "# For now, I'll have to do this by hand...\n",
    "graph = \"\"\"digraph G {\n",
    "ranksep=\"0.1\";\n",
    "nodesep=\"0.1\";\n",
    "# splines=ortho;\n",
    "node [style=filled];\n",
    "edge [arrowhead=none];\n",
    "subgraph cluster_standard {\n",
    "color=invis;\n",
    "0 [shape=ellipse, fillcolor=\"#136ed4\", label=fuselage1, fontcolor=\"white\"];\n",
    "1 [shape=ellipse, label=<X<SUB>0</SUB>>];\n",
    "2 [shape=ellipse, label=<Y<SUB>0</SUB>>];\n",
    "3 [shape=ellipse, label=<Z<SUB>0</SUB>>];\n",
    "4 [shape=ellipse, label=<SF>];\n",
    "5 [shape=ellipse, label=<L<SUB>N</SUB>/L>];\n",
    "6 [shape=ellipse, label=<L<SUB>T</SUB>/L>];\n",
    "7 [shape=ellipse, label=\"L/D\"];\n",
    "8 [shape=box, fillcolor=\"#136ed4\", label=\"mirror2\", fontcolor=\"white\"];\n",
    "}\n",
    "\n",
    "subgraph cluster_mirrored {\n",
    "style=dashed;\n",
    "9 [shape=box, fillcolor=\"#136ed4\", label=liftingsurface0, fontcolor=\"white\"];\n",
    "10 [shape=ellipse, label=<<O>X</O><SUB>1</SUB>>];\n",
    "11 [shape=ellipse, label=<<O>Y</O><SUB>1</SUB>>];\n",
    "12 [shape=ellipse, label=<<O>Z</O><SUB>1</SUB>>];\n",
    "13 [shape=ellipse, label=<<O>SF</O><SUB>1</SUB>>];\n",
    "20 [shape=ellipse, label=<Shape_functs<SUB>1</SUB>>];\n",
    "\n",
    "rank=same;\n",
    "14 [shape=box, fillcolor=\"#136ed4\", label=liftingsurface0, fontcolor=\"white\"];\n",
    "15 [shape=ellipse, label=<<O>X</O><SUB>2</SUB>>];\n",
    "16 [shape=ellipse, label=<<O>Y</O><SUB>2</SUB>>];\n",
    "17 [shape=ellipse, label=<<O>Z</O><SUB>2</SUB>>];\n",
    "18 [shape=ellipse, label=<<O>SF</O><SUB>2</SUB>>];\n",
    "21 [shape=ellipse, label=<Shape_functs<SUB>2</SUB>>];\n",
    "}\n",
    "\n",
    "0 -> 8;\n",
    "8-> 9;\n",
    "8 -> 14;\n",
    "\n",
    "0 -> 1;\n",
    "0 -> 2;\n",
    "0 -> 3;\n",
    "0 -> 4;\n",
    "0 -> 5;\n",
    "0 -> 6;\n",
    "0 -> 7;\n",
    "# 0 -> 9;\n",
    "# 0 -> 14;\n",
    "9 -> 10;\n",
    "9 -> 11;\n",
    "9 -> 12;\n",
    "9 -> 13;\n",
    "9-> 20;\n",
    "14 -> 15;\n",
    "14 -> 16;\n",
    "14 -> 17;\n",
    "14 -> 18;\n",
    "14->21;\n",
    "}\n",
    "\"\"\"\n",
    "dotgraph = pydot.graph_from_dot_data(graph)\n",
    "# dotgraph.write_svg('/home/pchambers/Documents/PhD/SABTalk_2017/images/tree1.svg')\n",
    "Image(dotgraph.create_png())"
   ]
  },
  {
   "cell_type": "code",
   "execution_count": null,
   "metadata": {
    "collapsed": false
   },
   "outputs": [],
   "source": [
    "# dotgraph.write_pdf('/home/pchambers/Documents/PhD/Aviation2017/aviation_2017_paper/figure/gplayout_tree2.pdf')"
   ]
  },
  {
   "cell_type": "markdown",
   "metadata": {},
   "source": [
    "## Conventional Airliner"
   ]
  },
  {
   "cell_type": "code",
   "execution_count": null,
   "metadata": {
    "collapsed": false
   },
   "outputs": [],
   "source": [
    "expr_string = \"\"\"fuselage2(0.3, 0., 0., 1., 0.293, 0.183, 0.38, \n",
    "            liftingsurface0(0.6, 0., 0.2, 1., 0.42, 1.0, AirlinerFin) mirror2(\n",
    "                liftingsurface0(0.65, 0., 0.2, 1., 0.42, 0., AirlinerTP), liftingsurface0( 0.1, 0., 0.05, 1., 0.8, 0., AirlinerWing)))\"\"\"\n",
    "\n",
    "topo = topo_tools.from_string(expr_string)\n",
    "\n",
    "renderer = TornadoWebRenderer()\n",
    "\n",
    "topo.Display(renderer)\n",
    "\n",
    "display(Image(topo.pydot_graph().create_png()))\n",
    "\n",
    "renderer"
   ]
  },
  {
   "cell_type": "markdown",
   "metadata": {},
   "source": [
    "## General Atomics MQ-1 Predator"
   ]
  },
  {
   "cell_type": "markdown",
   "metadata": {},
   "source": [
    "### Aircraft configuration from JSON files"
   ]
  },
  {
   "cell_type": "markdown",
   "metadata": {},
   "source": [
    "User defined JSON can be used to create new component hierarchies using the `Topology_GPTools.from_file` or `from_JSON` methods. This offers an interface for describing new aircraft layouts that is human-readable. The format is described in the table below; see the [presets directory](https://github.com/p-chambers/occ_airconics/tree/v0.3-dev/airconics/resources/configuration_app/presets) on github for examples.\n",
    "\n",
    "<b>Notes:\n",
    "* Attributes are not order sensitive, but each of the named attributes must appear once\n",
    "* The `<N>` should be replaced with a number describing the number of descendent\n",
    "* The order that component fitting primitives appear in the JSON file DOES affect the result\n",
    "    - If a component with two sub attachments (`liftingsurface2`) appears in the file, the following two components will be sub geometries of that lifting surface. \n",
    "* Scalar variable inputs are all expected to lie between 0 and 1, unless otherwise specified; this dimensionless value is then used to fit the geometry to its parent.\n",
    "* The lifting surface `Type` attribute can be any of keys the pre-defined wing types `airconics.topology.LSURF_FUNCTIONS` dictionary, e.g., `\"AirlinerWing\"`, `\"TaperedWing\"`, etc.\n",
    "</b>.\n",
    "\n",
    "<table>\n",
    "\t<col width=\"3\">\n",
    "\t<col width=\"6\">\n",
    "\t<tr>\n",
    "\t\t<th>Primitive Name</th>\n",
    "\t\t<th>Attributes</th>\n",
    "\t</tr>\n",
    "\t<tr>\n",
    "\t\t<td>liftingsurfaceN</td>\n",
    "\t\t<td>$X$ : longitudinal position, scalar<br>\n",
    "$Y$ : lateral position, scalar<br>\n",
    "$Z$ : vertical position, scalar<br>\n",
    "ChordFactor : scalar<br>\n",
    "ScaleFactor : scalar<br>\n",
    "Rotation : scalar (−1 < Rotation < 1)<br>\n",
    "Type : wing type, string (see **notes** above)</td>\n",
    "\t</tr>\n",
    "\t<tr>\n",
    "\t\t<td>fuselageN</td>\n",
    "\t\t<td>$X$ : longitudinal position, scalar<br>\n",
    "$Y$ : lateral position, scalar<br>\n",
    "$Z$ : vertical position, scalar<br>\n",
    "XScaleFactor : scalar<br>\n",
    "NoseLengthRatio : scalar<br>\n",
    "TailLengthRatio : scalar<br>\n",
    "FinenessRatio : scalar\t</td>\n",
    "\t</tr>\n",
    "\t<tr>\n",
    "\t\t<td>mirrorN</td>\n",
    "\t\t<td>None. This primitive simply mirrors N direct descendants, and their associated subtrees, in the $XZ$ plane.</td>\n",
    "\t</tr>\n",
    "</table>\n",
    "\n",
    "\n",
    "We'll use the [predator example](https://github.com/p-chambers/occ_airconics/blob/v0.3-dev/airconics/resources/configuration_app/presets/predator.json) here for demonstration."
   ]
  },
  {
   "cell_type": "code",
   "execution_count": null,
   "metadata": {
    "collapsed": false
   },
   "outputs": [],
   "source": [
    "import os, airconics\n",
    "\n",
    "topo_tools = Topology_GPTools(MaxAttachments=4)\n",
    "\n",
    "print(os.path.join(os.path.dirname(airconics.__file__)))\n",
    "\n",
    "fname = os.path.join(os.path.dirname(airconics.__file__),'resources/configuration_app/presets/predator.json')\n",
    "\n",
    "topo = topo_tools.from_file(fname)\n",
    "\n",
    "renderer = TornadoWebRenderer()\n",
    "\n",
    "topo.Display(renderer)\n",
    "\n",
    "display(Image(topo.pydot_graph().create_png()))\n",
    "\n",
    "renderer"
   ]
  },
  {
   "cell_type": "markdown",
   "metadata": {},
   "source": [
    "Why not also try creating one from scratch? Let's aim for the Scaled Composites Proteus:\n",
    "\n",
    "![SC Proteus aircraft](Proteus.jpg)\n",
    "**Photo source: NASA**"
   ]
  },
  {
   "cell_type": "code",
   "execution_count": null,
   "metadata": {
    "collapsed": false
   },
   "outputs": [],
   "source": [
    "import os, airconics\n",
    "\n",
    "# Note that we don't have to do anything special to turn a list of\n",
    "# dictionaries into json format before calling topo_tools.from_json:\n",
    "#  The primtives_array is already in json format!\n",
    "primitives_array = [\n",
    "  {\n",
    "    \"primitive\": \"fuselage1\", \n",
    "    \"args\": {\n",
    "        \"X\": 0.0, \n",
    "        \"Y\": 0.0, \n",
    "        \"Z\": 0.0,\n",
    "        \"XScaleFactor\": 1.0,\n",
    "        \"NoseLengthRatio\": 0.182,\n",
    "        \"TailLengthRatio\": 0.293,\n",
    "        \"FinenessRatio\": 1.0\n",
    "      }\n",
    "  },\n",
    "  {\n",
    "    \"primitive\": \"mirror2\"\n",
    "  }, \n",
    "  {\n",
    "    \"primitive\": \"liftingsurface0\",\n",
    "    \"args\": {\n",
    "        \"X\": 0.27, \n",
    "        \"Y\": 0.0, \n",
    "        \"Z\": 0.68,     \n",
    "        \"ScaleFactor\": 0.42,\n",
    "        \"ChordFactor\": 0.22,\n",
    "        \"Rotation\": 0.05, \n",
    "        \"Type\": \"StraightWing\"\n",
    "    }\n",
    "  },\n",
    "  {\n",
    "    \"primitive\": \"liftingsurface1\", \n",
    "    \"args\": {\n",
    "        \"X\": 0.77,\n",
    "        \"Y\": 0.0, \n",
    "        \"Z\": 0.5, \n",
    "        \"ChordFactor\": 0.8, \n",
    "        \"ScaleFactor\": 0.14,\n",
    "        \"Rotation\": 0.0, \n",
    "        \"Type\": \"StraightWing\"\n",
    "    }\n",
    "  },\n",
    "  {\n",
    "    \"primitive\": \"fuselage3\", \n",
    "    \"args\": {\n",
    "        \"X\": 1.0, \n",
    "        \"Y\": 1.0, \n",
    "        \"Z\": 1.0,\n",
    "        \"XScaleFactor\": 2.8,\n",
    "        \"NoseLengthRatio\": 0.182,\n",
    "        \"TailLengthRatio\": 0.293,\n",
    "        \"FinenessRatio\": 1.0\n",
    "    }\n",
    "  }, \n",
    "  {\n",
    "    \"primitive\": \"liftingsurface0\",\n",
    "    \"args\": {\n",
    "        \"X\": 0.0, \n",
    "        \"Y\": 0.0, \n",
    "        \"Z\": 0.0,     \n",
    "        \"ScaleFactor\": 0.9,\n",
    "        \"ChordFactor\": 0.31,\n",
    "        \"Rotation\": 0.0, \n",
    "        \"Type\": \"TaperedWing\"\n",
    "    }\n",
    "  },\n",
    "\n",
    "  {\n",
    "    \"primitive\": \"liftingsurface0\",\n",
    "    \"args\": {\n",
    "        \"X\": 0.85,\n",
    "        \"Y\": 0.0, \n",
    "        \"Z\": 0.9, \n",
    "        \"ChordFactor\": 0.9,\n",
    "        \"ScaleFactor\": 0.035,\n",
    "        \"Rotation\": -1.0, \n",
    "        \"Type\": \"AirlinerFin\"\n",
    "    }\n",
    "  }, \n",
    "  {\n",
    "    \"primitive\": \"liftingsurface0\",\n",
    "    \"args\": {\n",
    "        \"X\": 0.85,\n",
    "        \"Y\": 0.0, \n",
    "        \"Z\": 0.1, \n",
    "        \"ChordFactor\": 0.65, \n",
    "        \"ScaleFactor\": 0.09,\n",
    "        \"Rotation\": 1, \n",
    "        \"Type\": \"AirlinerFin\"\n",
    "    }\n",
    "  }\n",
    "]\n",
    "\n",
    "    \n",
    "topo = topo_tools.from_json(primitives_array)\n",
    "\n",
    "\n",
    "renderer = TornadoWebRenderer()\n",
    "\n",
    "topo.Display(renderer)\n",
    "\n",
    "display(Image(topo.pydot_graph().create_png()))\n",
    "\n",
    "renderer"
   ]
  },
  {
   "cell_type": "markdown",
   "metadata": {},
   "source": [
    "## Optimisation\n",
    "\n",
    "**Note**: The optimisation setup code provided here is already included in the `Topology_GPTools` class, and can be used as default via the `Topology_GPTools.optimize` method. It is included here for those interested in how the evolutionary algorithm operates."
   ]
  },
  {
   "cell_type": "markdown",
   "metadata": {},
   "source": [
    "### The Objective Function"
   ]
  },
  {
   "cell_type": "markdown",
   "metadata": {},
   "source": [
    "User-defined functions for the topology optimisation are catered for in the `Topology_GPTools` class. The function should take in a `Topology` (See: `airconics.topology.Topology`), and return a single number: default behaviour is that this measure of fitness will be maximised, i.e., topologies with a greater value returned by this function will be selected more favourably for mutation, reproduction, etc.\n",
    "\n",
    "The objective function shown below will be used to maximise the similarity of an individuals component tree to a reference case: the airliner model. With this setup, the evolutionary algorithm will be subject to a simple test case for the genetic algorithm: that is, to test if the evolutionary process can obtain a given solution, without giving it any knowledge of what the solution is.\n",
    "\n",
    "Considering that 'success' in this case would be achieved if the algorithm yields a geometry and configuration that is suitably (visually?) similar to the airliner model, results of interest should be,\n",
    "\n",
    "* what population size, and number of generations gives a good probability of 'success'\n",
    "* "
   ]
  },
  {
   "cell_type": "code",
   "execution_count": null,
   "metadata": {
    "collapsed": false
   },
   "outputs": [],
   "source": [
    "from airconics.topology import Topology_GPTools\n",
    "import os\n",
    "import numpy as np\n",
    "from IPython.display import Image, display\n",
    "from airconics.Addons.WebServer.TornadoWeb import TornadoWebRenderer\n",
    "import airconics\n",
    "\n",
    "def create_diffed_airliner_fitness():\n",
    "    \"\"\"\n",
    "    Produces a fitness function for checking the similarity of an input\n",
    "    airconics topology with a reference: the airliner example.\n",
    "\n",
    "    Uses difflib's gestalt pattern matching algorithms.\n",
    "\n",
    "    Returns\n",
    "    -------~\n",
    "    diffed_fitness : function\n",
    "        A function which takes an airconics topology as its input\n",
    "\n",
    "    Notes\n",
    "    -----\n",
    "    * This function is used so that the reference geometry/layout needs to\n",
    "    be created once only.\n",
    "    \n",
    "    * Eventually this function should use some information from the\n",
    "    geometry model, e.g., total wing area, as part of the objective function.\n",
    "    \"\"\"\n",
    "    # Create the reference list of primitive strings\n",
    "    topo_tools = Topology_GPTools(MaxAttachments=4)\n",
    "    fname = os.path.join(os.path.dirname(airconics.__file__),\n",
    "                         'resources/configuration_app/presets/airliner.json')\n",
    "    topo = topo_tools.from_file(fname)\n",
    "    \n",
    "    # Obtain a list of all component primitives in the tree\n",
    "    airliner_json = topo.to_json()\n",
    "\n",
    "    airliner_components = [node['primitive'] for node in airliner_json]\n",
    "\n",
    "    def diffed_airliner_fitness(topology):\n",
    "        \"\"\"Currently just uses difflibs gestalt pattern matcher. Eventually,\n",
    "        this should use data from the inputs of the matched components \n",
    "        \"\"\"\n",
    "        import difflib\n",
    "\n",
    "        tree_json = topology.to_json()\n",
    "        tree_components = [node['primitive'] for node in tree_json]\n",
    "\n",
    "        sm = difflib.SequenceMatcher(None, tree_components, airliner_components)\n",
    "\n",
    "        return sm.ratio()\n",
    "    return diffed_airliner_fitness"
   ]
  },
  {
   "cell_type": "code",
   "execution_count": null,
   "metadata": {
    "collapsed": false
   },
   "outputs": [],
   "source": [
    "diffed_airliner_fitness = create_diffed_airliner_fitness()"
   ]
  },
  {
   "cell_type": "markdown",
   "metadata": {},
   "source": [
    "### Evolution Setup"
   ]
  },
  {
   "cell_type": "code",
   "execution_count": null,
   "metadata": {
    "collapsed": false
   },
   "outputs": [],
   "source": [
    "from deap import tools, gp, algorithms\n",
    "\n",
    "topo_tools = Topology_GPTools(MaxAttachments=4, fitness_funct=diffed_airliner_fitness)\n",
    "\n",
    "# This is a duplicate of the code included in topo_tools.create_toolbox, for illustration:\n",
    "# The evolutionary operators\n",
    "topo_tools._toolbox.register(\"evaluate\", topo_tools.evalTopology)\n",
    "topo_tools._toolbox.register(\"select\", tools.selTournament, tournsize=2)\n",
    "topo_tools._toolbox.register(\"mate\", gp.cxOnePoint)\n",
    "topo_tools._toolbox.register(\"expr_mut\", gp.genFull, min_=0, max_=2)\n",
    "topo_tools._toolbox.register(\"mutate\", gp.mutUniform,\n",
    "                 expr=topo_tools._toolbox.expr_mut, pset=topo_tools._pset)\n",
    "\n",
    "# This is a duplicate of the code in topo_tools.optimize\n",
    "stats = tools.Statistics(lambda ind: ind.fitness.values)\n",
    "stats.register(\"avg\", np.mean)\n",
    "stats.register(\"std\", np.std)\n",
    "stats.register(\"min\", np.min)\n",
    "stats.register(\"max\", np.max)\n",
    "hof = tools.HallOfFame(1)\n",
    "\n",
    "# This is small in GP, but this is used for demonstration purposes.\n",
    "# Larger scale simulations should have a much larger population.\n",
    "popsize = 10\n",
    "\n",
    "population = topo_tools._toolbox.population(popsize)\n",
    "\n",
    "# This is commented out to save reset time of this notebook during development\n",
    "algorithms.eaSimple(population, topo_tools._toolbox, 0.5, 0.2,\n",
    "                    20, stats, halloffame=hof)\n",
    "\n",
    "# # get the best individual and rerun it:\n",
    "best = hof[0]\n",
    "best_topology = topo_tools.run(best)\n",
    "\n",
    "renderer = TornadoWebRenderer()\n",
    "\n",
    "best_topology.Display(renderer)\n",
    "\n",
    "renderer"
   ]
  },
  {
   "cell_type": "code",
   "execution_count": null,
   "metadata": {
    "collapsed": false
   },
   "outputs": [],
   "source": [
    "for tree in population:\n",
    "    individual = topo_tools.run(tree)\n"
   ]
  },
  {
   "cell_type": "code",
   "execution_count": null,
   "metadata": {
    "collapsed": false
   },
   "outputs": [],
   "source": [
    "import re\n",
    "import itertools\n",
    "json_obj = []\n",
    "for node in individual._deap_tree:\n",
    "    if node.arity > 0:\n",
    "        print(node.name)\n",
    "        nodetype = re.sub(r'\\d+', '', node.name)\n",
    "        json_obj.append({'primitive': node.name})\n",
    "        cycle = itertools.cycle(individual.varNames[nodetype])\n",
    "        json_obj[-1]['args'] = {}\n",
    "    else:\n",
    "        print(node.value)\n",
    "        json_obj[-1]['args'][next(cycle)] = node.value\n"
   ]
  },
  {
   "cell_type": "code",
   "execution_count": null,
   "metadata": {
    "collapsed": true
   },
   "outputs": [],
   "source": []
  }
 ],
 "metadata": {
  "anaconda-cloud": {},
  "kernelspec": {
   "display_name": "Python [conda root]",
   "language": "python",
   "name": "conda-root-py"
  },
  "language_info": {
   "codemirror_mode": {
    "name": "ipython",
    "version": 2
   },
   "file_extension": ".py",
   "mimetype": "text/x-python",
   "name": "python",
   "nbconvert_exporter": "python",
   "pygments_lexer": "ipython2",
   "version": "2.7.13"
  }
 },
 "nbformat": 4,
 "nbformat_minor": 1
}
