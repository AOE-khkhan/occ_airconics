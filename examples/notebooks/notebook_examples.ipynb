{
 "cells": [
  {
   "cell_type": "markdown",
   "metadata": {},
   "source": [
    "# Notebook for Airconics examples "
   ]
  },
  {
   "cell_type": "markdown",
   "metadata": {},
   "source": [
    "This IPython notebook contains examples for generating and rendering the AirCONICS parametric transonic airliner example using the interactive `WebServer` from [PythonOCC-contrib](https://github.com/tpaviot/pythonocc-contrib). Parts are generated under their respective headings and rendered collectively in the final cells.\n",
    "\n",
    "For examples using the pythonocc-core Qt viewer, refer to the airconics [examples/core directory](https://github.com/p-chambers/occ_airconics/tree/master/examples/core)"
   ]
  },
  {
   "cell_type": "code",
   "execution_count": 1,
   "metadata": {
    "collapsed": false
   },
   "outputs": [],
   "source": [
    "import airconics\n",
    "import airconics.AirCONICStools as act\n",
    "from airconics.Addons.WebServer.TornadoWeb import TornadoWebRenderer\n",
    "from IPython.display import display"
   ]
  },
  {
   "cell_type": "markdown",
   "metadata": {},
   "source": [
    "## Parameter Definitions\n",
    "Parameters used here correspond to a geometry similar to that of the Boeing 787-8"
   ]
  },
  {
   "cell_type": "code",
   "execution_count": 2,
   "metadata": {
    "collapsed": false
   },
   "outputs": [],
   "source": [
    "Propulsion=1\n",
    "EngineDia=2.9\n",
    "FuselageScaling=[55.902, 55.902, 55.902]\n",
    "WingScaleFactor=44.56\n",
    "WingChordFactor=1.0\n",
    "Topology=1\n",
    "EngineSpanStation=0.31\n",
    "EngineCtrBelowLE=0.3558\n",
    "EngineCtrFwdOfLE=0.9837\n",
    "Scarf_deg=3\n",
    "\n",
    "# Derived Parameters\n",
    "FuselageHeight = FuselageScaling[2]*0.105\n",
    "FuselageLength = FuselageScaling[0]\n",
    "FuselageWidth  = FuselageScaling[1]*0.106\n",
    "WingApex = [0.1748*FuselageLength,0,-0.0523*FuselageHeight]\n",
    "# Fin:\n",
    "FinChordFact = 1.01\n",
    "FinScaleFact = WingScaleFactor/2.032\n",
    "# TailPlane\n",
    "TPChordFact = 1.01\n",
    "TPScaleFact = WingScaleFactor * 0.388\n",
    "# Engine:\n",
    "NacelleLength = 1.95*EngineDia\n",
    "\n"
   ]
  },
  {
   "cell_type": "markdown",
   "metadata": {},
   "source": [
    "## Wing, Transonic Airliner\n",
    "\n",
    "Formulation of lifting surfaces in `occ_airconics` (and AirCONICS) follows the suggestions in Sobester [1] in which geometry--attached curvilinear functionals are used instead of parameters for shape definition. That is, $G(\\textbf{f}, \\textbf{X})$, where\n",
    "\n",
    "$$\\qquad \\textbf{f} = \\left[ f_1(\\textbf{X}_1), f_2(\\textbf{X}_2), ... f_m(\\textbf{X}_m)\\right],$$\n",
    "and\n",
    "\n",
    "$$\\textbf{X}_i = \\left[x_1^i, x_2^i,...\\right], \\forall i = 1,...m$$\n",
    "\n",
    "as opposed to the conventional $G(\\bf{X})$ formulation where the shape $G$ changes in response to changes in design parameters $\\textbf{X}$. The functions $f_i$ are defined by:\n",
    "\n",
    "> $Sweep (\\epsilon)$\n",
    "\n",
    "> $Chord (\\epsilon)$\n",
    "\n",
    "> $Rotation (\\epsilon)$\n",
    "\n",
    "> $Twist (\\epsilon)$\n",
    "\n",
    "> $Airfoil (\\epsilon)$\n",
    "\n",
    "where $\\epsilon$ is a functional parameters ranging from 0 at the root of the wing to 1 at the tip. Output of the airfoil function uses the `airconics.primitives.Airfoil` class here, which fits a NURBS curve to airfoil coordinates.\n",
    "\n",
    "The following code demonstrates construction of a wing using built in examples for a transonic airliner wing and tailplane (below)."
   ]
  },
  {
   "cell_type": "code",
   "execution_count": 13,
   "metadata": {
    "collapsed": false,
    "scrolled": true
   },
   "outputs": [
    {
     "data": {
      "text/html": [
       "\n",
       "<div id='placeholder_313ac42c811847a4a1a8b06c28ab76c7'></div>\n",
       "<script type='text/javascript'>\n",
       "    var iframe = document.createElement('iframe');\n",
       "    iframe.style.border = 'none';\n",
       "    iframe.style.width = '100%';\n",
       "    iframe.style.height = '600px';\n",
       "    iframe.src = window.location.protocol + '//' + window.location.hostname + ':33807/get/313ac42c811847a4a1a8b06c28ab76c7/';\n",
       "    document.getElementById('placeholder_313ac42c811847a4a1a8b06c28ab76c7').appendChild(iframe);\n",
       "</script>\n"
      ],
      "text/plain": [
       "<TornadoWebRenderer at http://PChambers_ngcm:33807/get/313ac42c811847a4a1a8b06c28ab76c7>"
      ]
     },
     "metadata": {},
     "output_type": "display_data"
    }
   ],
   "source": [
    "# Import all example functional definitions for the Common Research Model (CRM) Wing:\n",
    "from airconics.examples.wing_example_transonic_airliner import *\n",
    "\n",
    "# Position of the apex of the wing\n",
    "P = WingApex\n",
    "\n",
    "# Class definition\n",
    "NSeg = 11\n",
    "ChordFactor = 1\n",
    "ScaleFactor = 50\n",
    "\n",
    "# Generate (surface building is done during construction of the class)\n",
    "Wing = liftingsurface.LiftingSurface(P, mySweepAngleFunctionAirliner, \n",
    "                                        myDihedralFunctionAirliner, \n",
    "                                        myTwistFunctionAirliner, \n",
    "                                        myChordFunctionAirliner, \n",
    "                                        myAirfoilFunctionAirliner,\n",
    "                                        SegmentNo=NSeg,\n",
    "                                        ScaleFactor=WingScaleFactor,\n",
    "                                        ChordFactor=WingChordFactor)\n",
    "\n",
    "# Evaluate the root chord:\n",
    "RootChord = Wing.RootChord\n",
    "\n",
    "# Display\n",
    "renderer = TornadoWebRenderer()\n",
    "Wing.Display(renderer)\n",
    "display(renderer)"
   ]
  },
  {
   "cell_type": "markdown",
   "metadata": {
    "collapsed": false
   },
   "source": [
    "## Tailplane, Transonic Airliner\n",
    "\n",
    "The same `Lifting Surface` class is used here to generate the fin and tailplane of the aircraft, using a different set of input functionals (also defined in `airconics.examples`)."
   ]
  },
  {
   "cell_type": "code",
   "execution_count": 4,
   "metadata": {
    "collapsed": false
   },
   "outputs": [
    {
     "data": {
      "text/html": [
       "\n",
       "<div id='placeholder_b2c8bfc65816475b8de21f8fa3555d79'></div>\n",
       "<script type='text/javascript'>\n",
       "    var iframe = document.createElement('iframe');\n",
       "    iframe.style.border = 'none';\n",
       "    iframe.style.width = '100%';\n",
       "    iframe.style.height = '600px';\n",
       "    iframe.src = window.location.protocol + '//' + window.location.hostname + ':50110/get/b2c8bfc65816475b8de21f8fa3555d79/';\n",
       "    document.getElementById('placeholder_b2c8bfc65816475b8de21f8fa3555d79').appendChild(iframe);\n",
       "</script>\n"
      ],
      "text/plain": [
       "<TornadoWebRenderer at http://PChambers_ngcm:50110/get/b2c8bfc65816475b8de21f8fa3555d79>"
      ]
     },
     "metadata": {},
     "output_type": "display_data"
    }
   ],
   "source": [
    "from OCC.gp import gp_Ax1, gp_Pnt, gp_Dir\n",
    "from airconics.examples.tailplane_example_transonic_airliner import *\n",
    "\n",
    "# Position of the apex of the fin\n",
    "P = [36.98-0.49-0.02, 0.0, 2.395-0.141]\n",
    "\n",
    "SegmentNo = 10\n",
    "\n",
    "Fin = liftingsurface.LiftingSurface(P, mySweepAngleFunctionFin,\n",
    "                                    myDihedralFunctionFin,\n",
    "                                    myTwistFunctionFin,\n",
    "                                    myChordFunctionFin,\n",
    "                                    myAirfoilFunctionFin,\n",
    "                                    SegmentNo=SegmentNo,\n",
    "                                    ChordFactor=FinChordFact,\n",
    "                                    ScaleFactor=FinScaleFact)\n",
    "\n",
    "#    Create the rotation axis centered at the apex point in the x direction\n",
    "RotAxis = gp_Ax1(gp_Pnt(*P), gp_Dir(1, 0, 0))\n",
    "\n",
    "\n",
    "Fin.RotateComponents(RotAxis, 90)\n",
    "\n",
    "# Position of the apex of the tailplane\n",
    "P = [43, 0.000, 1.633+0.02]\n",
    "\n",
    "SegmentNo = 100\n",
    "ChordFactor = 1.01\n",
    "ScaleFactor = 17.3\n",
    "\n",
    "TP = liftingsurface.LiftingSurface(P, mySweepAngleFunctionTP,\n",
    "                                   myDihedralFunctionTP,\n",
    "                                   myTwistFunctionTP,\n",
    "                                   myChordFunctionTP,\n",
    "                                   myAirfoilFunctionTP,\n",
    "                                   SegmentNo=SegmentNo,\n",
    "                                   ChordFactor=TPChordFact,\n",
    "                                   ScaleFactor=TPScaleFact)\n",
    "\n",
    "# Display\n",
    "renderer = TornadoWebRenderer()\n",
    "Fin.Display(renderer)\n",
    "TP.Display(renderer)\n",
    "display(renderer)"
   ]
  },
  {
   "cell_type": "markdown",
   "metadata": {},
   "source": [
    "## Fuselage Transonic Airliner"
   ]
  },
  {
   "cell_type": "markdown",
   "metadata": {},
   "source": [
    "Fuselage shapes are created following the parameterisation used in Sobester [2]. That is, the outer mould line (OML) is split into a `Nose`, `Central` and `Tail` section, the length of which is described on input to `Fuselage` class as a percentage of the total length. Rib curves are then formed by fitting a NURBS curve to the intersection points of sectional planar cuts and the guide curves of the extremeties of the OML e.g. Port, top and bottom curves. The OML is fitted in `occ_airconics` using the Open CASCADE `ThruSections` loft."
   ]
  },
  {
   "cell_type": "code",
   "execution_count": 5,
   "metadata": {
    "collapsed": false
   },
   "outputs": [
    {
     "name": "stdout",
     "output_type": "stream",
     "text": [
      "('Surface fit attempt ', 1)\n",
      "('Attempting thrusections surface fit with network density                setup ', array([35, 30, 15,  5, 20]))\n",
      "Network surface fit succesful on attempt 1\n"
     ]
    },
    {
     "data": {
      "text/html": [
       "\n",
       "<div id='placeholder_9068debb6b28421d807b17f4704ff49c'></div>\n",
       "<script type='text/javascript'>\n",
       "    var iframe = document.createElement('iframe');\n",
       "    iframe.style.border = 'none';\n",
       "    iframe.style.width = '100%';\n",
       "    iframe.style.height = '600px';\n",
       "    iframe.src = window.location.protocol + '//' + window.location.hostname + ':52001/get/9068debb6b28421d807b17f4704ff49c/';\n",
       "    document.getElementById('placeholder_9068debb6b28421d807b17f4704ff49c').appendChild(iframe);\n",
       "</script>\n"
      ],
      "text/plain": [
       "<TornadoWebRenderer at http://PChambers_ngcm:52001/get/9068debb6b28421d807b17f4704ff49c>"
      ]
     },
     "metadata": {},
     "output_type": "display_data"
    }
   ],
   "source": [
    "from airconics.fuselage_oml import Fuselage\n",
    "\n",
    "NoseLengthRatio=0.182\n",
    "TailLengthRatio=0.293\n",
    "\n",
    "Fus = Fuselage(NoseLengthRatio, TailLengthRatio, Scaling=FuselageScaling,\n",
    "             NoseCoordinates=[0., 0., 0],\n",
    "             CylindricalMidSection=False,\n",
    "             Maxi_attempt=5)\n",
    "\n",
    "# Display\n",
    "renderer = TornadoWebRenderer()\n",
    "Fus.Display(renderer)\n",
    "display(renderer)"
   ]
  },
  {
   "cell_type": "code",
   "execution_count": 6,
   "metadata": {
    "collapsed": false
   },
   "outputs": [],
   "source": [
    "# Export (can be commented out)\n",
    "# act.export_STEPFile([Fus['OML']], 'fuselage.stp')"
   ]
  },
  {
   "cell_type": "markdown",
   "metadata": {},
   "source": [
    "## Wing-Body Fairing:\n",
    "The wing-body fairing is here created as a simple ellipsoid shape around the root section of the wing. \n",
    "\n",
    "*Note that this component will be displayed only in the final model.*"
   ]
  },
  {
   "cell_type": "code",
   "execution_count": 7,
   "metadata": {
    "collapsed": false
   },
   "outputs": [],
   "source": [
    "# WingBodyFairing: A simple ellipsoid:\n",
    "from airconics.base import AirconicsShape\n",
    "WTBFZ = RootChord*0.009 #787: 0.2\n",
    "WTBFheight = 1.8*0.1212*RootChord #787:2.7\n",
    "WTBFwidth = 1.08*FuselageWidth\n",
    "WTBFXCentre = WingApex[0] + RootChord/2.0 + RootChord*0.1297 # 787: 23.8\n",
    "WTBFlength = 1.167*RootChord #787:26\n",
    "\n",
    "WBF_shape = act.make_ellipsoid([WTBFXCentre, 0, WTBFZ], WTBFlength, WTBFwidth, WTBFheight)\n",
    "WBF = AirconicsShape(components={'WBF': WBF_shape})"
   ]
  },
  {
   "cell_type": "markdown",
   "metadata": {},
   "source": [
    "## Engine + Pylon"
   ]
  },
  {
   "cell_type": "markdown",
   "metadata": {},
   "source": [
    "First, obtain the wing section and chord at which the engine will be fitted, then fit then engine. The default inputs to the Engine class produce a turbofan engine with Nacelle similar to that of the RR Trent 1000 / GEnx and its pylon (**Currently a flat plate only**)."
   ]
  },
  {
   "cell_type": "code",
   "execution_count": 8,
   "metadata": {
    "collapsed": false
   },
   "outputs": [
    {
     "data": {
      "text/html": [
       "\n",
       "<div id='placeholder_a2beb7058c3346a98b1f7c45fe126187'></div>\n",
       "<script type='text/javascript'>\n",
       "    var iframe = document.createElement('iframe');\n",
       "    iframe.style.border = 'none';\n",
       "    iframe.style.width = '100%';\n",
       "    iframe.style.height = '600px';\n",
       "    iframe.src = window.location.protocol + '//' + window.location.hostname + ':49110/get/a2beb7058c3346a98b1f7c45fe126187/';\n",
       "    document.getElementById('placeholder_a2beb7058c3346a98b1f7c45fe126187').appendChild(iframe);\n",
       "</script>\n"
      ],
      "text/plain": [
       "<TornadoWebRenderer at http://PChambers_ngcm:49110/get/a2beb7058c3346a98b1f7c45fe126187>"
      ]
     },
     "metadata": {},
     "output_type": "display_data"
    }
   ],
   "source": [
    "from airconics import engine\n",
    "\n",
    "EngineSection, Chord = act.CutSect(Wing['Surface'], EngineSpanStation)\n",
    "CEP = Chord.EndPoint()\n",
    "Centreloc = [CEP.X()-EngineCtrFwdOfLE*NacelleLength,\n",
    "            CEP.Y(), \n",
    "            CEP.Z()-EngineCtrBelowLE*NacelleLength]\n",
    "\n",
    "eng =  engine.Engine(Chord,\n",
    "                     CentreLocation=Centreloc,\n",
    "                     ScarfAngle=Scarf_deg,\n",
    "                     HighlightRadius=EngineDia/2.0,\n",
    "                     MeanNacelleLength=NacelleLength)\n",
    "\n",
    "# Display\n",
    "renderer = TornadoWebRenderer()\n",
    "eng.Display(renderer)\n",
    "display(renderer)\n",
    "renderer."
   ]
  },
  {
   "cell_type": "markdown",
   "metadata": {},
   "source": [
    "## Miscelaneous operations"
   ]
  },
  {
   "cell_type": "code",
   "execution_count": 9,
   "metadata": {
    "collapsed": false
   },
   "outputs": [
    {
     "name": "stdout",
     "output_type": "stream",
     "text": [
      "can work? True\n",
      "error status: - Ok\n",
      "Note: MirrorComponents currently mirrors only the shape\n",
      "components, other attributes will not be mirrored\n",
      "\n",
      "Note: MirrorComponents currently mirrors only the shape\n",
      "components, other attributes will not be mirrored\n",
      "\n",
      "Note: MirrorComponents currently mirrors only the shape\n",
      "components, other attributes will not be mirrored\n",
      "\n"
     ]
    }
   ],
   "source": [
    "# Trim the inboard section of the main wing:\n",
    "CutCirc = act.make_circle3pt([0,WTBFwidth/4.,-45], [0,WTBFwidth/4.,45], [90,WTBFwidth/4.,0])\n",
    "CutCircDisk = act.PlanarSurf(CutCirc)\n",
    "Wing['Surface'] = act.TrimShapebyPlane(Wing['Surface'], CutCircDisk)\n",
    "\n",
    "#Mirror the main wing and tailplane using class methods:\n",
    "Wing2 = Wing.MirrorComponents(plane='xz')\n",
    "TP2 = TP.MirrorComponents(plane='xz')\n",
    "eng2 = eng.MirrorComponents(plane='xz')"
   ]
  },
  {
   "cell_type": "markdown",
   "metadata": {},
   "source": [
    "## Ipython Cell Renderer:"
   ]
  },
  {
   "cell_type": "code",
   "execution_count": 10,
   "metadata": {
    "collapsed": false
   },
   "outputs": [
    {
     "data": {
      "text/html": [
       "\n",
       "<div id='placeholder_224e2187fded48e6a38c5a4b36d100c8'></div>\n",
       "<script type='text/javascript'>\n",
       "    var iframe = document.createElement('iframe');\n",
       "    iframe.style.border = 'none';\n",
       "    iframe.style.width = '100%';\n",
       "    iframe.style.height = '600px';\n",
       "    iframe.src = window.location.protocol + '//' + window.location.hostname + ':37930/get/224e2187fded48e6a38c5a4b36d100c8/';\n",
       "    document.getElementById('placeholder_224e2187fded48e6a38c5a4b36d100c8').appendChild(iframe);\n",
       "</script>\n"
      ],
      "text/plain": [
       "<TornadoWebRenderer at http://PChambers_ngcm:37930/get/224e2187fded48e6a38c5a4b36d100c8>"
      ]
     },
     "metadata": {},
     "output_type": "display_data"
    }
   ],
   "source": [
    "from airconics.Addons.WebServer import TornadoWeb\n",
    "renderer = TornadoWeb.TornadoWebRenderer()\n",
    "#    display all entities:\n",
    "# Fuselage and wing-body fairing\n",
    "Fus.Display(renderer)\n",
    "WBF.Display(renderer)\n",
    "\n",
    "# #The Wings:\n",
    "Wing.Display(renderer)\n",
    "Wing2.Display(renderer)\n",
    "\n",
    "#The Tailplane:\n",
    "TP.Display(renderer)\n",
    "TP2.Display(renderer)\n",
    "\n",
    "#The Fin:\n",
    "Fin.Display(renderer)\n",
    "\n",
    "#The Engines:\n",
    "eng.Display(renderer)\n",
    "eng2.Display(renderer)\n",
    "\n",
    "# Finally show the renderer\n",
    "display(renderer)"
   ]
  },
  {
   "cell_type": "markdown",
   "metadata": {},
   "source": [
    "# Development"
   ]
  },
  {
   "cell_type": "markdown",
   "metadata": {},
   "source": [
    "## Topology model"
   ]
  },
  {
   "cell_type": "markdown",
   "metadata": {},
   "source": [
    "This is a work in progress towards a topologically flexible model based on the tree-type definition described in Sobester [1]. Note the geometry is not currently defined by the tree however, the tree is simply stored as a result of adding components - this is for demonstration only, and the process is yet to be automated.\n",
    "\n",
    "The mirror line is also not yet included in this representation, however should exist between central objects (Fuselage, Fin) and the mirror objects (Tail Plane, Wing, Engine)."
   ]
  },
  {
   "cell_type": "code",
   "execution_count": 11,
   "metadata": {
    "collapsed": false
   },
   "outputs": [
    {
     "name": "stdout",
     "output_type": "stream",
     "text": [
      "E(L, L, L(P))\n"
     ]
    },
    {
     "data": {
      "image/png": "[encoded data removed]",
      "text/plain": [
       "<IPython.core.display.Image object>"
      ]
     },
     "execution_count": 11,
     "metadata": {},
     "output_type": "execute_result"
    }
   ],
   "source": [
    "from airconics.topology import Topology\n",
    "from IPython.display import Image\n",
    "import pydot\n",
    "\n",
    "topo = Topology()\n",
    "\n",
    "# Note: no checks are done on the validity of the tree yet,\n",
    "#  it is the users responsibility to input correct affinities\n",
    "topo.AddPart(Fus, 'Fuselage', 3)\n",
    "topo.AddPart(Fin, 'Fin', 0)\n",
    "topo.AddPart(TP, 'Tail Plane', 0)\n",
    "topo.AddPart(Wing, 'Wing', 1)\n",
    "topo.AddPart(eng, 'Engine', 0)\n",
    "\n",
    "topo.Display(renderer)\n",
    "\n",
    "# print the Topology (resembles a LISP tree)\n",
    "print(topo)\n",
    "\n",
    "# Create the graph with pydot\n",
    "graph = pydot.graph_from_dot_data(topo.export_graphviz())\n",
    "Image(graph.create_png())"
   ]
  },
  {
   "cell_type": "markdown",
   "metadata": {},
   "source": [
    "### References\n",
    "\n",
    "[1] Sobester, A., “Four Suggestions for Better Parametric Geometries,”\n",
    "    10th AIAA Multidisciplinary Design Optimization Conference,\n",
    "    AIAA SciTech, American Institute of Aeronautics and Astronautics,\n",
    "    jan 2014.\n",
    "    \n",
    "[2] Sobester, A., “Self-Designing Parametric Geometries,” 56th AIAA/ASCE/AH-\n",
    "    S/ASC Structures, Structural Dynamics, and Materials Conference, AIAA\n",
    "    SciTech, American Institute of Aeronautics and Astronautics, jan 2015."
   ]
  },
  {
   "cell_type": "code",
   "execution_count": 12,
   "metadata": {
    "collapsed": false,
    "scrolled": false
   },
   "outputs": [],
   "source": [
    "# # This cell can be used to start a freecad window, create a new document and transfer the airconics\n",
    "# # Wing shape to the viewer\n",
    "# # NOTE:requires the same version of Open CASCADE though and is buggy, users should avoid this for now\n",
    "\n",
    "# import sys\n",
    "# sys.path.append('/usr/lib/freecad/lib')\n",
    "# import FreeCAD\n",
    "# import FreeCADGui\n",
    "# %gui qt\n",
    "# FreeCADGui.showMainWindow()\n",
    "\n",
    "# doc = FreeCAD.newDocument()\n",
    "\n",
    "# import Part\n",
    "\n",
    "# import airconics \n",
    "# # Import all example functional definitions for the Common Research Model (CRM) Wing:\n",
    "# from airconics.examples.wing_example_transonic_airliner import *\n",
    "\n",
    "# # Position of the apex of the wing\n",
    "# P = [0., 0., 0.]\n",
    "\n",
    "# # Class definition\n",
    "# NSeg = 10\n",
    "# ChordFactor = 1\n",
    "# ScaleFactor = 50\n",
    "\n",
    "# Wing = liftingsurface.LiftingSurface(P, mySweepAngleFunctionAirliner, \n",
    "#     myDihedralFunctionAirliner, \n",
    "#     myTwistFunctionAirliner, \n",
    "#     myChordFunctionAirliner, \n",
    "#     myAirfoilFunctionAirliner, SegmentNo=NSeg, ScaleFactor=ScaleFactor)\n",
    "# surf = Wing['Surface']\n",
    "# w = Part.__fromPythonOCC__(surf)\n",
    "# doc.recompute()\n",
    "# Part.show(w)"
   ]
  }
 ],
 "metadata": {
  "kernelspec": {
   "display_name": "Python 2",
   "language": "python",
   "name": "python2"
  },
  "language_info": {
   "codemirror_mode": {
    "name": "ipython",
    "version": 2
   },
   "file_extension": ".py",
   "mimetype": "text/x-python",
   "name": "python",
   "nbconvert_exporter": "python",
   "pygments_lexer": "ipython2",
   "version": "2.7.11"
  }
 },
 "nbformat": 4,
 "nbformat_minor": 0
}
