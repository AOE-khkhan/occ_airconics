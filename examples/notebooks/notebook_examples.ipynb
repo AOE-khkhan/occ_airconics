{
 "cells": [
  {
   "cell_type": "markdown",
   "metadata": {},
   "source": [
    "# Notebook for Airconics examples "
   ]
  },
  {
   "cell_type": "markdown",
   "metadata": {},
   "source": [
    "This IPython notebook contains examples for generating and rendering the AirCONICS parametric transonic airliner example using the interactive `WebServer` from [PythonOCC-contrib](https://github.com/tpaviot/pythonocc-contrib)."
   ]
  },
  {
   "cell_type": "code",
   "execution_count": null,
   "metadata": {
    "collapsed": false
   },
   "outputs": [],
   "source": [
    "import airconics\n",
    "import airconics.AirCONICStools as act"
   ]
  },
  {
   "cell_type": "markdown",
   "metadata": {},
   "source": [
    "## Parameter Definitions"
   ]
  },
  {
   "cell_type": "code",
   "execution_count": null,
   "metadata": {
    "collapsed": false
   },
   "outputs": [],
   "source": [
    "Propulsion=1\n",
    "EngineDia=2.9\n",
    "FuselageScaling=[55.902, 55.902, 55.902]\n",
    "NoseLengthRatio=0.182\n",
    "TailLengthRatio=0.293\n",
    "WingScaleFactor=44.56\n",
    "WingChordFactor=1.0\n",
    "Topology=1\n",
    "EngineSpanStation=0.31\n",
    "EngineCtrBelowLE=0.3558\n",
    "EngineCtrFwdOfLE=0.9837\n",
    "Scarf_deg=3\n",
    "\n",
    "# Derived Parameters\n",
    "FuselageHeight = FuselageScaling[2]*0.105\n",
    "FuselageLength = FuselageScaling[0]\n",
    "FuselageWidth  = FuselageScaling[1]*0.106\n",
    "WingApex = [0.1748*FuselageLength,0,-0.0523*FuselageHeight]\n",
    "# Fin:\n",
    "FinChordFact = 1.01\n",
    "FinScaleFact = WingScaleFactor/2.032\n",
    "# TailPlane\n",
    "TPChordFact = 1.01\n",
    "TPScaleFact = WingScaleFactor * 0.388\n",
    "# Engine:\n",
    "NacelleLength = 1.95*EngineDia\n"
   ]
  },
  {
   "cell_type": "markdown",
   "metadata": {},
   "source": [
    "## Wing, Transonic Airliner"
   ]
  },
  {
   "cell_type": "markdown",
   "metadata": {},
   "source": [
    "TODO: I tried making the lifting surface loft through airfoil sections as a solid loft, however the output stp file was not correct in Rhino (may be because TE and ends are not closed)"
   ]
  },
  {
   "cell_type": "code",
   "execution_count": null,
   "metadata": {
    "collapsed": false,
    "scrolled": true
   },
   "outputs": [],
   "source": [
    "# Import all example functional definitions for the Common Research Model (CRM) Wing:\n",
    "from airconics.examples.wing_example_transonic_airliner import *\n",
    "\n",
    "# Position of the apex of the wing\n",
    "P = WingApex\n",
    "\n",
    "# Class definition\n",
    "NSeg = 11\n",
    "ChordFactor = 1\n",
    "ScaleFactor = 50\n",
    "\n",
    "# Generate (surface building is done during construction of the class)\n",
    "Wing = liftingsurface.LiftingSurface(P, mySweepAngleFunctionAirliner, \n",
    "                                        myDihedralFunctionAirliner, \n",
    "                                        myTwistFunctionAirliner, \n",
    "                                        myChordFunctionAirliner, \n",
    "                                        myAirfoilFunctionAirliner,\n",
    "                                        SegmentNo=NSeg,\n",
    "                                        ScaleFactor=WingScaleFactor,\n",
    "                                        ChordFactor=WingChordFactor)\n",
    "\n",
    "# Evaluate the root chord:\n",
    "RootChord = Wing.RootChord\n"
   ]
  },
  {
   "cell_type": "markdown",
   "metadata": {
    "collapsed": false
   },
   "source": [
    "## Tailplane, Transonic Airliner"
   ]
  },
  {
   "cell_type": "code",
   "execution_count": null,
   "metadata": {
    "collapsed": false
   },
   "outputs": [],
   "source": [
    "from OCC.gp import gp_Ax1, gp_Pnt, gp_Dir\n",
    "from airconics.examples.tailplane_example_transonic_airliner import *\n",
    "\n",
    "# Position of the apex of the fin\n",
    "P = [36.98-0.49-0.02, 0.0, 2.395-0.141]\n",
    "\n",
    "SegmentNo = 10\n",
    "\n",
    "Fin = liftingsurface.LiftingSurface(P, mySweepAngleFunctionFin,\n",
    "                                    myDihedralFunctionFin,\n",
    "                                    myTwistFunctionFin,\n",
    "                                    myChordFunctionFin,\n",
    "                                    myAirfoilFunctionFin,\n",
    "                                    SegmentNo=SegmentNo,\n",
    "                                    ChordFactor=FinChordFact,\n",
    "                                    ScaleFactor=FinScaleFact)\n",
    "\n",
    "#    Create the rotation axis centered at the apex point in the x direction\n",
    "RotAxis = gp_Ax1(gp_Pnt(*P), gp_Dir(1, 0, 0))\n",
    "\n",
    "\n",
    "Fin.RotateComponents(RotAxis, 90)\n",
    "\n",
    "# Position of the apex of the tailplane\n",
    "P = [43, 0.000, 1.633+0.02]\n",
    "\n",
    "SegmentNo = 100\n",
    "ChordFactor = 1.01\n",
    "ScaleFactor = 17.3\n",
    "\n",
    "TP = liftingsurface.LiftingSurface(P, mySweepAngleFunctionTP,\n",
    "                                   myDihedralFunctionTP,\n",
    "                                   myTwistFunctionTP,\n",
    "                                   myChordFunctionTP,\n",
    "                                   myAirfoilFunctionTP,\n",
    "                                   SegmentNo=SegmentNo,\n",
    "                                   ChordFactor=TPChordFact,\n",
    "                                   ScaleFactor=TPScaleFact)\n"
   ]
  },
  {
   "cell_type": "markdown",
   "metadata": {},
   "source": [
    "## Fuselage Transonic Airliner"
   ]
  },
  {
   "cell_type": "code",
   "execution_count": null,
   "metadata": {
    "collapsed": false
   },
   "outputs": [],
   "source": [
    "from airconics.fuselage_oml import Fuselage\n",
    "\n",
    "Fus = Fuselage(NoseLengthRatio, TailLengthRatio, Scaling=FuselageScaling,\n",
    "             NoseCoordinates=[0., 0., 0],\n",
    "             CylindricalMidSection=True,\n",
    "             Maxi_attempt=5)"
   ]
  },
  {
   "cell_type": "code",
   "execution_count": null,
   "metadata": {
    "collapsed": false
   },
   "outputs": [],
   "source": [
    "# Export (can be commented out)\n",
    "# act.export_STEPFile([Fus['OML']], 'fuselage.stp')"
   ]
  },
  {
   "cell_type": "markdown",
   "metadata": {},
   "source": [
    "## Wing-Body Fairing:"
   ]
  },
  {
   "cell_type": "code",
   "execution_count": null,
   "metadata": {
    "collapsed": false
   },
   "outputs": [],
   "source": [
    "# WingBodyFairing:\n",
    "from airconics.base import AirconicsShape\n",
    "WTBFZ = RootChord*0.009 #787: 0.2\n",
    "WTBFheight = 1.8*0.1212*RootChord #787:2.7\n",
    "WTBFwidth = 1.08*FuselageWidth\n",
    "WTBFXCentre = WingApex[0] + RootChord/2.0 + RootChord*0.1297 # 787: 23.8\n",
    "WTBFlength = 1.167*RootChord #787:26\n",
    "\n",
    "WBF_shape = act.make_ellipsoid([WTBFXCentre, 0, WTBFZ], WTBFlength, WTBFwidth, WTBFheight)\n",
    "WBF = AirconicsShape(components={'WBF': WBF_shape})\n"
   ]
  },
  {
   "cell_type": "markdown",
   "metadata": {},
   "source": [
    "## Engine + Pylon"
   ]
  },
  {
   "cell_type": "code",
   "execution_count": null,
   "metadata": {
    "collapsed": false
   },
   "outputs": [],
   "source": [
    "from airconics import engine\n",
    "\n",
    "EngineSection, Chord = act.CutSect(Wing['Surface'], EngineSpanStation)\n",
    "CEP = Chord.EndPoint()\n",
    "Centreloc = [CEP.X()-EngineCtrFwdOfLE*NacelleLength,\n",
    "            CEP.Y(), \n",
    "            CEP.Z()-EngineCtrBelowLE*NacelleLength]\n",
    "\n",
    "eng =  engine.Engine(Chord,\n",
    "                     CentreLocation=Centreloc,\n",
    "                     ScarfAngle=Scarf_deg,\n",
    "                     HighlightRadius=EngineDia/2.0,\n",
    "                     MeanNacelleLength=NacelleLength)"
   ]
  },
  {
   "cell_type": "markdown",
   "metadata": {},
   "source": [
    "## Miscelaneous operations"
   ]
  },
  {
   "cell_type": "code",
   "execution_count": null,
   "metadata": {
    "collapsed": false
   },
   "outputs": [],
   "source": [
    "# Trim the inboard section of the main wing:\n",
    "CutCirc = act.make_circle3pt([0,WTBFwidth/4.,-45], [0,WTBFwidth/4.,45], [90,WTBFwidth/4.,0])\n",
    "CutCircDisk = act.PlanarSurf(CutCirc)\n",
    "Wing['Surface'] = act.TrimShapebyPlane(Wing['Surface'], CutCircDisk)\n",
    "\n",
    "#Mirror the main wing and tailplane:\n",
    "Wing2 = Wing.MirrorComponents(plane='xz')\n",
    "TP2 = TP.MirrorComponents(plane='xz')\n",
    "eng2 = eng.MirrorComponents(plane='xz')"
   ]
  },
  {
   "cell_type": "markdown",
   "metadata": {},
   "source": [
    "## Ipython Cell Renderer:"
   ]
  },
  {
   "cell_type": "code",
   "execution_count": null,
   "metadata": {
    "collapsed": false
   },
   "outputs": [],
   "source": [
    "# Note : This seems to make objects render in ipython notebook (only works for shapes?)\n",
    "\n",
    "from airconics.Addons.WebServer import TornadoWeb\n",
    "renderer = TornadoWeb.TornadoWebRenderer()\n",
    "#    display all entities:\n",
    "# Fuselage and wing-body fairing\n",
    "Fus.Display(renderer)\n",
    "WBF.Display(renderer)\n",
    "\n",
    "# #The Wings:\n",
    "Wing.Display(renderer)\n",
    "Wing2.Display(renderer)\n",
    "\n",
    "#The Tailplane:\n",
    "TP.Display(renderer)\n",
    "TP2.Display(renderer)\n",
    "\n",
    "#The Fin:\n",
    "Fin.Display(renderer)\n",
    "\n",
    "#The Engines:\n",
    "eng.Display(renderer)\n",
    "eng2.Display(renderer)\n",
    "\n",
    "# Finally show the renderer\n",
    "renderer"
   ]
  },
  {
   "cell_type": "markdown",
   "metadata": {
    "collapsed": false
   },
   "source": [
    "## Development"
   ]
  },
  {
   "cell_type": "code",
   "execution_count": null,
   "metadata": {
    "collapsed": false
   },
   "outputs": [],
   "source": [
    "# # This cell can be used to start a freecad window, create a new document and transfer the airconics\n",
    "# # Wing shape to the viewer\n",
    "# # NOTE:requires the same version of Open CASCADE though and is buggy, users should avoid this for now\n",
    "\n",
    "# import sys\n",
    "# sys.path.append('/usr/lib/freecad/lib')\n",
    "# import FreeCAD\n",
    "# import FreeCADGui\n",
    "# %gui qt\n",
    "# FreeCADGui.showMainWindow()\n",
    "\n",
    "# doc = FreeCAD.newDocument()\n",
    "\n",
    "# import Part\n",
    "\n",
    "# import airconics \n",
    "# # Import all example functional definitions for the Common Research Model (CRM) Wing:\n",
    "# from airconics.examples.wing_example_transonic_airliner import *\n",
    "\n",
    "# # Position of the apex of the wing\n",
    "# P = [0., 0., 0.]\n",
    "\n",
    "# # Class definition\n",
    "# NSeg = 10\n",
    "# ChordFactor = 1\n",
    "# ScaleFactor = 50\n",
    "\n",
    "# Wing = liftingsurface.LiftingSurface(P, mySweepAngleFunctionAirliner, \n",
    "#     myDihedralFunctionAirliner, \n",
    "#     myTwistFunctionAirliner, \n",
    "#     myChordFunctionAirliner, \n",
    "#     myAirfoilFunctionAirliner, SegmentNo=NSeg, ScaleFactor=ScaleFactor)\n",
    "# surf = Wing['Surface']\n",
    "# w = Part.__fromPythonOCC__(surf)\n",
    "# doc.recompute()\n",
    "# Part.show(w)"
   ]
  }
 ],
 "metadata": {
  "kernelspec": {
   "display_name": "Python 2",
   "language": "python",
   "name": "python2"
  },
  "language_info": {
   "codemirror_mode": {
    "name": "ipython",
    "version": 2
   },
   "file_extension": ".py",
   "mimetype": "text/x-python",
   "name": "python",
   "nbconvert_exporter": "python",
   "pygments_lexer": "ipython2",
   "version": "2.7.11"
  }
 },
 "nbformat": 4,
 "nbformat_minor": 0
}
