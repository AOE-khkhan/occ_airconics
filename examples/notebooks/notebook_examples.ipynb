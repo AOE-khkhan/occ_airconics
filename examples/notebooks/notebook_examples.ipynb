{
 "cells": [
  {
   "cell_type": "markdown",
   "metadata": {},
   "source": [
    "# Notebook for Airconics examples "
   ]
  },
  {
   "cell_type": "markdown",
   "metadata": {},
   "source": [
    "This IPython notebook contains examples for generating and rendering the AirCONICS parametric transonic airliner example using the interactive `WebServer` from [PythonOCC-contrib](https://github.com/tpaviot/pythonocc-contrib). Parts are generated under their respective headings and rendered collectively in the final cells.\n",
    "\n",
    "For examples using the pythonocc-core Qt viewer, refer to the airconics [examples/core directory](https://github.com/p-chambers/occ_airconics/tree/master/examples/core)"
   ]
  },
  {
   "cell_type": "code",
   "execution_count": 1,
   "metadata": {
    "collapsed": false,
    "scrolled": false
   },
   "outputs": [],
   "source": [
    "from airconics import LiftingSurface, Engine, Fuselage\n",
    "import airconics.AirCONICStools as act\n",
    "from airconics.Addons.WebServer.TornadoWeb import TornadoWebRenderer\n",
    "from IPython.display import display"
   ]
  },
  {
   "cell_type": "markdown",
   "metadata": {},
   "source": [
    "## Parameter Definitions\n",
    "Parameters used here correspond to a geometry similar to that of the Boeing 787-8"
   ]
  },
  {
   "cell_type": "code",
   "execution_count": 2,
   "metadata": {
    "collapsed": false,
    "scrolled": false
   },
   "outputs": [],
   "source": [
    "Propulsion = 1\n",
    "EngineDia = 2.9\n",
    "FuselageScaling = [55.902, 55.902, 55.902]\n",
    "WingScaleFactor = 44.56\n",
    "WingChordFactor = 1.0\n",
    "Topology = 1\n",
    "EngineSpanStation = 0.31\n",
    "EngineCtrBelowLE = 0.3558\n",
    "EngineCtrFwdOfLE = 0.9837\n",
    "Scarf_deg = 3\n",
    "\n",
    "# Derived Parameters\n",
    "FuselageHeight = FuselageScaling[2]*0.105\n",
    "FuselageLength = FuselageScaling[0]\n",
    "FuselageWidth  = FuselageScaling[1]*0.106\n",
    "WingApex = [0.1748*FuselageLength,0,-0.0523*FuselageHeight]\n",
    "# Fin:\n",
    "FinChordFact = 1.01\n",
    "FinScaleFact = WingScaleFactor/2.032\n",
    "# TailPlane\n",
    "TPChordFact = 1.01\n",
    "TPScaleFact = WingScaleFactor * 0.388\n",
    "# Engine:\n",
    "NacelleLength = 1.95*EngineDia\n",
    "\n"
   ]
  },
  {
   "cell_type": "markdown",
   "metadata": {},
   "source": [
    "## Wing, Transonic Airliner\n",
    "\n",
    "Formulation of lifting surfaces in `occ_airconics` (and AirCONICS) follows the suggestions in Sobester [1] in which geometry--attached curvilinear functionals are used instead of parameters for shape definition. That is, $G(\\textbf{f}, \\textbf{X})$, where\n",
    "\n",
    "$$\\qquad \\textbf{f} = \\left[ f_1(\\textbf{X}_1), f_2(\\textbf{X}_2), ... f_m(\\textbf{X}_m)\\right],$$\n",
    "and\n",
    "\n",
    "$$\\textbf{X}_i = \\left[x_1^i, x_2^i,...\\right], \\forall i = 1,...m$$\n",
    "\n",
    "as opposed to the conventional $G(\\bf{X})$ formulation where the shape $G$ changes in response to changes in design parameters $\\textbf{X}$. The functions $f_i$ are defined by:\n",
    "\n",
    "> $Sweep (\\epsilon)$\n",
    "\n",
    "> $Chord (\\epsilon)$\n",
    "\n",
    "> $Rotation (\\epsilon)$\n",
    "\n",
    "> $Twist (\\epsilon)$\n",
    "\n",
    "> $Airfoil (\\epsilon)$\n",
    "\n",
    "where $\\epsilon$ represents the spanwise coordinate ranging from 0 at the root of the wing to 1 at the tip. Output of the airfoil function uses the `airconics.primitives.Airfoil` class here, which fits a NURBS curve to airfoil coordinates.\n",
    "\n",
    "The following code demonstrates construction of a wing using built in examples for a transonic airliner wing and tailplane (below)."
   ]
  },
  {
   "cell_type": "code",
   "execution_count": 3,
   "metadata": {
    "collapsed": false,
    "scrolled": false
   },
   "outputs": [
    {
     "name": "stdout",
     "output_type": "stream",
     "text": [
      "Attempting to construct LiftingSurface geometry...\n",
      "Lifting Surface complete. Key features (both wings):\n",
      "Root Chord: 22.28. Remaining params to be implemented\n"
     ]
    },
    {
     "data": {
      "text/html": [
       "\n",
       "<div id='placeholder_4613687322474ac8b5a6eb3b846b37ce'></div>\n",
       "<script type='text/javascript'>\n",
       "    var iframe = document.createElement('iframe');\n",
       "    iframe.style.border = 'none';\n",
       "    iframe.style.width = '100%';\n",
       "    iframe.style.height = '600px';\n",
       "    iframe.src = window.location.protocol + '//' + window.location.hostname + ':37474/get/4613687322474ac8b5a6eb3b846b37ce/';\n",
       "    document.getElementById('placeholder_4613687322474ac8b5a6eb3b846b37ce').appendChild(iframe);\n",
       "</script>\n"
      ],
      "text/plain": [
       "<TornadoWebRenderer at http://PChambers_ngcm:37474/get/4613687322474ac8b5a6eb3b846b37ce>"
      ]
     },
     "metadata": {},
     "output_type": "display_data"
    }
   ],
   "source": [
    "# Import all example functional definitions for the Common Research Model (CRM) Wing:\n",
    "from airconics.examples.wing_example_transonic_airliner import *\n",
    "\n",
    "# Position of the apex of the wing\n",
    "P = WingApex\n",
    "\n",
    "# Class definition\n",
    "NSeg = 11\n",
    "ChordFactor = 1\n",
    "ScaleFactor = 50\n",
    "\n",
    "# Generate (surface building is done during construction of the class)\n",
    "Wing = LiftingSurface(P, mySweepAngleFunctionAirliner, \n",
    "                      myDihedralFunctionAirliner, \n",
    "                      myTwistFunctionAirliner, \n",
    "                      myChordFunctionAirliner, \n",
    "                      myAirfoilFunctionAirliner,\n",
    "                      SegmentNo=NSeg,\n",
    "                      ScaleFactor=WingScaleFactor,\n",
    "                      ChordFactor=WingChordFactor)\n",
    "\n",
    "RootChord = Wing.RootChord\n",
    "\n",
    "# Display\n",
    "renderer = TornadoWebRenderer()\n",
    "Wing.Display(renderer)\n",
    "display(renderer)"
   ]
  },
  {
   "cell_type": "markdown",
   "metadata": {
    "collapsed": false
   },
   "source": [
    "## Tailplane, Transonic Airliner\n",
    "\n",
    "The same `Lifting Surface` class is used here to generate the fin and tailplane of the aircraft, using a different set of input functionals (also defined in `airconics.examples`)."
   ]
  },
  {
   "cell_type": "code",
   "execution_count": 4,
   "metadata": {
    "collapsed": false,
    "scrolled": false
   },
   "outputs": [
    {
     "name": "stdout",
     "output_type": "stream",
     "text": [
      "Attempting to construct LiftingSurface geometry...\n",
      "Lifting Surface complete. Key features (both wings):\n",
      "Root Chord: 15.2992477894. Remaining params to be implemented\n",
      "Attempting to construct LiftingSurface geometry...\n",
      "Lifting Surface complete. Key features (both wings):\n",
      "Root Chord: 10.8159656635. Remaining params to be implemented\n"
     ]
    },
    {
     "data": {
      "text/html": [
       "\n",
       "<div id='placeholder_66bc2c1acdac401ab7af798c78e41097'></div>\n",
       "<script type='text/javascript'>\n",
       "    var iframe = document.createElement('iframe');\n",
       "    iframe.style.border = 'none';\n",
       "    iframe.style.width = '100%';\n",
       "    iframe.style.height = '600px';\n",
       "    iframe.src = window.location.protocol + '//' + window.location.hostname + ':33082/get/66bc2c1acdac401ab7af798c78e41097/';\n",
       "    document.getElementById('placeholder_66bc2c1acdac401ab7af798c78e41097').appendChild(iframe);\n",
       "</script>\n"
      ],
      "text/plain": [
       "<TornadoWebRenderer at http://PChambers_ngcm:33082/get/66bc2c1acdac401ab7af798c78e41097>"
      ]
     },
     "metadata": {},
     "output_type": "display_data"
    }
   ],
   "source": [
    "from OCC.gp import gp_Ax1, gp_Pnt, gp_Dir\n",
    "from airconics.examples.tailplane_example_transonic_airliner import *\n",
    "\n",
    "# Position of the apex of the fin\n",
    "P = [36.98-0.49-0.02, 0.0, 2.395-0.141]\n",
    "\n",
    "SegmentNo = 10\n",
    "\n",
    "Fin = liftingsurface.LiftingSurface(P, mySweepAngleFunctionFin,\n",
    "                                    myDihedralFunctionFin,\n",
    "                                    myTwistFunctionFin,\n",
    "                                    myChordFunctionFin,\n",
    "                                    myAirfoilFunctionFin,\n",
    "                                    SegmentNo=SegmentNo,\n",
    "                                    ChordFactor=FinChordFact,\n",
    "                                    ScaleFactor=FinScaleFact)\n",
    "\n",
    "#    Create the rotation axis centered at the apex point in the x direction\n",
    "RotAxis = gp_Ax1(gp_Pnt(*P), gp_Dir(1, 0, 0))\n",
    "\n",
    "\n",
    "Fin.RotateComponents(RotAxis, 90)\n",
    "\n",
    "# Position of the apex of the tailplane\n",
    "P = [43, 0.000, 1.633+0.02]\n",
    "\n",
    "SegmentNo = 100\n",
    "ChordFactor = 1.01\n",
    "ScaleFactor = 17.3\n",
    "\n",
    "TP = liftingsurface.LiftingSurface(P, mySweepAngleFunctionTP,\n",
    "                                   myDihedralFunctionTP,\n",
    "                                   myTwistFunctionTP,\n",
    "                                   myChordFunctionTP,\n",
    "                                   myAirfoilFunctionTP,\n",
    "                                   SegmentNo=SegmentNo,\n",
    "                                   ChordFactor=TPChordFact,\n",
    "                                   ScaleFactor=TPScaleFact)\n",
    "\n",
    "# Display\n",
    "renderer = TornadoWebRenderer()\n",
    "Fin.Display(renderer)\n",
    "TP.Display(renderer)\n",
    "display(renderer)"
   ]
  },
  {
   "cell_type": "markdown",
   "metadata": {},
   "source": [
    "## Fuselage Transonic Airliner"
   ]
  },
  {
   "cell_type": "markdown",
   "metadata": {},
   "source": [
    "Fuselage shapes are created following the parameterisation used in Sobester [2]. That is, the outer mould line (OML) is split into a `Nose`, `Central` and `Tail` section, the length of which is described on input to `Fuselage` class as a percentage of the total length. Rib curves are then formed by fitting a NURBS curve to the intersection points of sectional planar cuts and the guide curves of the extremeties of the OML e.g. Port, top and bottom curves. The OML is fitted in `occ_airconics` using the Open CASCADE `ThruSections` loft."
   ]
  },
  {
   "cell_type": "code",
   "execution_count": 5,
   "metadata": {
    "collapsed": false,
    "scrolled": false
   },
   "outputs": [
    {
     "name": "stdout",
     "output_type": "stream",
     "text": [
      "Attempting to construct Fuselage geometry...\n",
      "('Surface fit attempt ', 1)\n",
      "('Attempting thrusections surface fit with network density\\n                setup ', array([35, 30, 15,  5, 20]))\n",
      "Network surface fit succesful on attempt 1\n"
     ]
    },
    {
     "data": {
      "text/html": [
       "\n",
       "<div id='placeholder_33ba096ee01e4c7985e0e75b9095ef01'></div>\n",
       "<script type='text/javascript'>\n",
       "    var iframe = document.createElement('iframe');\n",
       "    iframe.style.border = 'none';\n",
       "    iframe.style.width = '100%';\n",
       "    iframe.style.height = '600px';\n",
       "    iframe.src = window.location.protocol + '//' + window.location.hostname + ':49741/get/33ba096ee01e4c7985e0e75b9095ef01/';\n",
       "    document.getElementById('placeholder_33ba096ee01e4c7985e0e75b9095ef01').appendChild(iframe);\n",
       "</script>\n"
      ],
      "text/plain": [
       "<TornadoWebRenderer at http://PChambers_ngcm:49741/get/33ba096ee01e4c7985e0e75b9095ef01>"
      ]
     },
     "metadata": {},
     "output_type": "display_data"
    }
   ],
   "source": [
    "NoseLengthRatio=0.182\n",
    "TailLengthRatio=0.293\n",
    "\n",
    "Fus = Fuselage(NoseLengthRatio, TailLengthRatio, Scaling=FuselageScaling,\n",
    "              NoseCoordinates=[0., 0., 0],\n",
    "              CylindricalMidSection=False,\n",
    "              Maxi_attempt=5)\n",
    "\n",
    "# Display\n",
    "renderer = TornadoWebRenderer()\n",
    "Fus.Display(renderer)\n",
    "display(renderer)"
   ]
  },
  {
   "cell_type": "code",
   "execution_count": 6,
   "metadata": {
    "collapsed": false,
    "scrolled": false
   },
   "outputs": [],
   "source": [
    "# Export (can be commented out)\n",
    "# act.export_STEPFile([Fus['OML']], 'fuselage.stp')"
   ]
  },
  {
   "cell_type": "markdown",
   "metadata": {},
   "source": [
    "## Wing-Body Fairing:\n",
    "The wing-body fairing is here created as a simple ellipsoid shape around the root section of the wing. \n",
    "\n",
    "*Note that this component will be displayed only in the final model.*"
   ]
  },
  {
   "cell_type": "code",
   "execution_count": 7,
   "metadata": {
    "collapsed": false,
    "scrolled": false
   },
   "outputs": [
    {
     "name": "stdout",
     "output_type": "stream",
     "text": [
      "Skipping geometry construction for AirconicsShape\n"
     ]
    }
   ],
   "source": [
    "# WingBodyFairing - A simple ellipsoid:\n",
    "from airconics.base import AirconicsShape\n",
    "\n",
    "WTBFZ = RootChord*0.009 #787: 0.2\n",
    "WTBFheight = 1.8*0.1212*RootChord #787:2.7\n",
    "WTBFwidth = 1.08*FuselageWidth\n",
    "WTBFXCentre = WingApex[0] + RootChord/2.0 + RootChord*0.1297 # 787: 23.8\n",
    "WTBFlength = 1.167*RootChord #787:26\n",
    "\n",
    "WBF_shape = act.make_ellipsoid([WTBFXCentre, 0, WTBFZ], WTBFlength, WTBFwidth, WTBFheight)\n",
    "WBF = AirconicsShape(components={'WBF': WBF_shape})"
   ]
  },
  {
   "cell_type": "markdown",
   "metadata": {},
   "source": [
    "## Engine + Pylon"
   ]
  },
  {
   "cell_type": "markdown",
   "metadata": {},
   "source": [
    "First, obtain the wing section and chord at which the engine will be fitted, then fit then engine. The default inputs to the Engine class produce a turbofan engine with Nacelle similar to that of the RR Trent 1000 / GEnx and its pylon (**Currently a flat plate only**)."
   ]
  },
  {
   "cell_type": "code",
   "execution_count": 8,
   "metadata": {
    "collapsed": false,
    "scrolled": false
   },
   "outputs": [
    {
     "name": "stdout",
     "output_type": "stream",
     "text": [
      "Attempting to construct Engine geometry...\n"
     ]
    },
    {
     "data": {
      "text/html": [
       "\n",
       "<div id='placeholder_971b66c105b04ee3901f4c123f7e6383'></div>\n",
       "<script type='text/javascript'>\n",
       "    var iframe = document.createElement('iframe');\n",
       "    iframe.style.border = 'none';\n",
       "    iframe.style.width = '100%';\n",
       "    iframe.style.height = '600px';\n",
       "    iframe.src = window.location.protocol + '//' + window.location.hostname + ':46170/get/971b66c105b04ee3901f4c123f7e6383/';\n",
       "    document.getElementById('placeholder_971b66c105b04ee3901f4c123f7e6383').appendChild(iframe);\n",
       "</script>\n"
      ],
      "text/plain": [
       "<TornadoWebRenderer at http://PChambers_ngcm:46170/get/971b66c105b04ee3901f4c123f7e6383>"
      ]
     },
     "metadata": {},
     "output_type": "display_data"
    }
   ],
   "source": [
    "EngineSection, HChord = act.CutSect(Wing['Surface'], EngineSpanStation)\n",
    "Chord = HChord.GetObject()\n",
    "CEP = Chord.EndPoint()\n",
    "Centreloc = [CEP.X()-EngineCtrFwdOfLE*NacelleLength,\n",
    "            CEP.Y(), \n",
    "            CEP.Z()-EngineCtrBelowLE*NacelleLength]\n",
    "\n",
    "eng =  Engine(HChord,\n",
    "              CentreLocation=Centreloc,\n",
    "              ScarfAngle=Scarf_deg,\n",
    "              HighlightRadius=EngineDia/2.0,\n",
    "              MeanNacelleLength=NacelleLength)\n",
    "\n",
    "# Display\n",
    "renderer = TornadoWebRenderer()\n",
    "eng.Display(renderer)\n",
    "display(renderer)\n"
   ]
  },
  {
   "cell_type": "markdown",
   "metadata": {},
   "source": [
    "## Miscelaneous operations"
   ]
  },
  {
   "cell_type": "code",
   "execution_count": 9,
   "metadata": {
    "collapsed": false,
    "scrolled": false
   },
   "outputs": [
    {
     "name": "stdout",
     "output_type": "stream",
     "text": [
      "can work? True\n",
      "error status: - Ok\n",
      "Note: MirrorComponents currently mirrors only the shape\n",
      "components, other attributes will not be mirrored\n",
      "\n",
      "Skipping geometry construction for AirconicsShape\n",
      "Note: MirrorComponents currently mirrors only the shape\n",
      "components, other attributes will not be mirrored\n",
      "\n",
      "Skipping geometry construction for AirconicsShape\n",
      "Note: MirrorComponents currently mirrors only the shape\n",
      "components, other attributes will not be mirrored\n",
      "\n",
      "Skipping geometry construction for AirconicsShape\n"
     ]
    }
   ],
   "source": [
    "# Trim the inboard section of the main wing:\n",
    "CutCirc = act.make_circle3pt([0,WTBFwidth/4.,-45], [0,WTBFwidth/4.,45], [90,WTBFwidth/4.,0])\n",
    "CutCircDisk = act.PlanarSurf(CutCirc)\n",
    "Wing['Surface'] = act.TrimShapebyPlane(Wing['Surface'], CutCircDisk)\n",
    "\n",
    "#Mirror the main wing and tailplane using class methods:\n",
    "Wing2 = Wing.MirrorComponents(plane='xz')\n",
    "TP2 = TP.MirrorComponents(plane='xz')\n",
    "eng2 = eng.MirrorComponents(plane='xz')"
   ]
  },
  {
   "cell_type": "markdown",
   "metadata": {},
   "source": [
    "## Ipython Cell Renderer:"
   ]
  },
  {
   "cell_type": "code",
   "execution_count": 10,
   "metadata": {
    "collapsed": false,
    "scrolled": false
   },
   "outputs": [
    {
     "data": {
      "text/html": [
       "\n",
       "<div id='placeholder_b94c698f714b46a8a3e2bb2dac3ac050'></div>\n",
       "<script type='text/javascript'>\n",
       "    var iframe = document.createElement('iframe');\n",
       "    iframe.style.border = 'none';\n",
       "    iframe.style.width = '100%';\n",
       "    iframe.style.height = '600px';\n",
       "    iframe.src = window.location.protocol + '//' + window.location.hostname + ':44048/get/b94c698f714b46a8a3e2bb2dac3ac050/';\n",
       "    document.getElementById('placeholder_b94c698f714b46a8a3e2bb2dac3ac050').appendChild(iframe);\n",
       "</script>\n"
      ],
      "text/plain": [
       "<TornadoWebRenderer at http://PChambers_ngcm:44048/get/b94c698f714b46a8a3e2bb2dac3ac050>"
      ]
     },
     "metadata": {},
     "output_type": "display_data"
    }
   ],
   "source": [
    "renderer = TornadoWebRenderer()\n",
    "#    display all entities:\n",
    "# Fuselage and wing-body fairing\n",
    "Fus.Display(renderer)\n",
    "WBF.Display(renderer)\n",
    "\n",
    "# #The Wings:\n",
    "Wing.Display(renderer)\n",
    "Wing2.Display(renderer)\n",
    "\n",
    "#The Tailplane:\n",
    "TP.Display(renderer)\n",
    "TP2.Display(renderer)\n",
    "\n",
    "#The Fin:\n",
    "Fin.Display(renderer)\n",
    "\n",
    "#The Engines:\n",
    "eng.Display(renderer)\n",
    "eng2.Display(renderer)\n",
    "\n",
    "# Finally show the renderer\n",
    "display(renderer)"
   ]
  },
  {
   "cell_type": "markdown",
   "metadata": {},
   "source": [
    "# Development"
   ]
  },
  {
   "cell_type": "markdown",
   "metadata": {},
   "source": [
    "## Topology model"
   ]
  },
  {
   "cell_type": "markdown",
   "metadata": {},
   "source": [
    "This is a work in progress towards a topologically flexible model based on the tree-type definition described in Sobester [1]. Note the geometry is not currently defined by the tree however, the tree is simply stored as a result of adding components - this is for demonstration only, and the process is yet to be automated.\n",
    "\n",
    "The mirror line is also not yet included in this representation, however should exist between central objects (Fuselage, Fin) and the mirror objects (Tail Plane, Wing, Engine)."
   ]
  },
  {
   "cell_type": "code",
   "execution_count": 11,
   "metadata": {
    "collapsed": false,
    "scrolled": false
   },
   "outputs": [],
   "source": [
    "from airconics import Topology\n",
    "from IPython.display import Image\n",
    "import pydot"
   ]
  },
  {
   "cell_type": "code",
   "execution_count": 12,
   "metadata": {
    "collapsed": false,
    "scrolled": false
   },
   "outputs": [
    {
     "name": "stdout",
     "output_type": "stream",
     "text": [
      "Skipping geometry construction for Topology\n",
      "E(L, |L, L(P))\n"
     ]
    },
    {
     "data": {
      "image/png": "[encoded data removed]",
      "text/plain": [
       "<IPython.core.display.Image object>"
      ]
     },
     "execution_count": 12,
     "metadata": {},
     "output_type": "execute_result"
    }
   ],
   "source": [
    "topo_renderer = TornadoWebRenderer()\n",
    "\n",
    "topo = Topology()\n",
    "\n",
    "# Note: no checks are done on the validity of the tree yet,\n",
    "#  it is the users responsibility to input correct affinities\n",
    "topo.AddPart(Fus, 'Fuselage', 3)\n",
    "topo.AddPart(Fin, 'Fin', 0)\n",
    "# Need to add a mirror plane here, affinity zero\n",
    "from OCC.gp import gp_Ax2, gp_Dir, gp_Pnt\n",
    "xz_pln = gp_Ax2(gp_Pnt(0, 0, 0), gp_Dir(0, 1, 0))\n",
    "topo.AddPart(xz_pln, 'Mirror', 0)\n",
    "topo.AddPart(TP, 'Tail Plane', 0)\n",
    "topo.AddPart(Wing, 'Wing', 1)\n",
    "topo.AddPart(eng, 'Engine', 0)\n",
    "\n",
    "# print the Topology (resembles a LISP tree)\n",
    "print(topo)\n",
    "\n",
    "# Create the graph with pydot\n",
    "graph = pydot.graph_from_dot_data(topo.export_graphviz())\n",
    "Image(graph.create_png())"
   ]
  },
  {
   "cell_type": "code",
   "execution_count": 13,
   "metadata": {
    "collapsed": false
   },
   "outputs": [
    {
     "name": "stdout",
     "output_type": "stream",
     "text": [
      "<class 'OCC.gp.gp_Ax2'>\n",
      "Note: MirrorComponents currently mirrors only the shape\n",
      "components, other attributes will not be mirrored\n",
      "\n",
      "Skipping geometry construction for AirconicsShape\n",
      "<class 'OCC.gp.gp_Ax2'>\n",
      "Note: MirrorComponents currently mirrors only the shape\n",
      "components, other attributes will not be mirrored\n",
      "\n",
      "Skipping geometry construction for AirconicsShape\n",
      "<class 'OCC.gp.gp_Ax2'>\n",
      "Note: MirrorComponents currently mirrors only the shape\n",
      "components, other attributes will not be mirrored\n",
      "\n",
      "Skipping geometry construction for AirconicsShape\n",
      "Could not display shape type <class 'OCC.gp.gp_Ax2'>: skipping\n"
     ]
    },
    {
     "data": {
      "text/html": [
       "\n",
       "<div id='placeholder_5c29fbfdd4fa466ca80fc17513705994'></div>\n",
       "<script type='text/javascript'>\n",
       "    var iframe = document.createElement('iframe');\n",
       "    iframe.style.border = 'none';\n",
       "    iframe.style.width = '100%';\n",
       "    iframe.style.height = '600px';\n",
       "    iframe.src = window.location.protocol + '//' + window.location.hostname + ':44386/get/5c29fbfdd4fa466ca80fc17513705994/';\n",
       "    document.getElementById('placeholder_5c29fbfdd4fa466ca80fc17513705994').appendChild(iframe);\n",
       "</script>\n"
      ],
      "text/plain": [
       "<TornadoWebRenderer at http://PChambers_ngcm:44386/get/5c29fbfdd4fa466ca80fc17513705994>"
      ]
     },
     "metadata": {},
     "output_type": "display_data"
    }
   ],
   "source": [
    "# This line will mirror geometry 'under' (added after) the mirror plane\n",
    "topo.Build()\n",
    "\n",
    "topo.Display(topo_renderer)\n",
    "display(topo_renderer)"
   ]
  },
  {
   "cell_type": "markdown",
   "metadata": {},
   "source": [
    "Let's try some further tests to the topology class representation using some other examples. For now, these are empty geometries as the relative geometries and inputs to the `Fuselage`, `LiftingSurface` and `Engine` classes are not yet included in the `Topology` tree."
   ]
  },
  {
   "cell_type": "markdown",
   "metadata": {},
   "source": [
    "### Predator UAV\n",
    "![Predator UAV](predator.jpg)\n",
    "**Photo source: US Air Force**"
   ]
  },
  {
   "cell_type": "code",
   "execution_count": 14,
   "metadata": {
    "collapsed": false,
    "scrolled": false
   },
   "outputs": [
    {
     "name": "stdout",
     "output_type": "stream",
     "text": [
      "Skipping geometry construction for Fuselage\n",
      "No HChord specified to fit engine to: creating default\n",
      "Skipping geometry construction for Engine\n",
      "Lifting Surface functional parameters not defined:\n",
      "Initialising without geometry construction\n",
      "Skipping geometry construction for LiftingSurface\n",
      "Lifting Surface functional parameters not defined:\n",
      "Initialising without geometry construction\n",
      "Skipping geometry construction for LiftingSurface\n",
      "Lifting Surface functional parameters not defined:\n",
      "Initialising without geometry construction\n",
      "Skipping geometry construction for LiftingSurface\n",
      "Skipping geometry construction for Topology\n",
      "E(P, L, |L, L)\n"
     ]
    },
    {
     "data": {
      "image/png": "[encoded data removed]",
      "text/plain": [
       "<IPython.core.display.Image object>"
      ]
     },
     "execution_count": 14,
     "metadata": {},
     "output_type": "execute_result"
    }
   ],
   "source": [
    "# Setup\n",
    "# Create mock components, without generating any geometry\n",
    "fus = Fuselage(construct_geometry=False)\n",
    "engine = Engine(construct_geometry=False)\n",
    "fin = LiftingSurface(construct_geometry=False)\n",
    "mirror_pln = gp_Ax2()\n",
    "wing = LiftingSurface(construct_geometry=False)\n",
    "Vfin = LiftingSurface(construct_geometry=False)\n",
    "\n",
    "# For now we must manually add parts and affinities\n",
    "topo = Topology()\n",
    "topo.AddPart(fus, 'Fuselage', 4)\n",
    "topo.AddPart(engine, 'engine', 0)\n",
    "topo.AddPart(fin, 'fin', 0)\n",
    "topo.AddPart(mirror_pln, 'mirror_pln', 0)\n",
    "topo.AddPart(wing, 'wing', 0)\n",
    "topo.AddPart(Vfin, 'V-Fin', 0)\n",
    "\n",
    "print(topo)\n",
    "\n",
    "graph = pydot.graph_from_dot_data(topo.export_graphviz())\n",
    "Image(graph.create_png())"
   ]
  },
  {
   "cell_type": "markdown",
   "metadata": {},
   "source": [
    "### Fairchild Republic A-10 Thunderbolt\n",
    "![Tunderbolt aircraft](thunderbolt.jpg)\n",
    "**Photo source: Airman Magazine 1999**"
   ]
  },
  {
   "cell_type": "code",
   "execution_count": 15,
   "metadata": {
    "collapsed": false,
    "scrolled": false
   },
   "outputs": [
    {
     "name": "stdout",
     "output_type": "stream",
     "text": [
      "Skipping geometry construction for Fuselage\n",
      "No HChord specified to fit engine to: creating default\n",
      "Skipping geometry construction for Engine\n",
      "Lifting Surface functional parameters not defined:\n",
      "Initialising without geometry construction\n",
      "Skipping geometry construction for LiftingSurface\n",
      "Lifting Surface functional parameters not defined:\n",
      "Initialising without geometry construction\n",
      "Skipping geometry construction for LiftingSurface\n",
      "Lifting Surface functional parameters not defined:\n",
      "Initialising without geometry construction\n",
      "Skipping geometry construction for LiftingSurface\n",
      "Skipping geometry construction for Topology\n",
      "E(|P, L(L), L)\n"
     ]
    },
    {
     "data": {
      "image/png": "[encoded data removed]",
      "text/plain": [
       "<IPython.core.display.Image object>"
      ]
     },
     "execution_count": 15,
     "metadata": {},
     "output_type": "execute_result"
    }
   ],
   "source": [
    "# Setup\n",
    "# Create mock components, without generating any geometry\n",
    "fus = Fuselage(construct_geometry=False)\n",
    "mirror_pln = gp_Ax2()\n",
    "engine = Engine(construct_geometry=False)\n",
    "wing = LiftingSurface(construct_geometry=False)\n",
    "tailplane = LiftingSurface(construct_geometry=False)\n",
    "tail_fin = LiftingSurface(construct_geometry=False)\n",
    "\n",
    "topo = Topology()\n",
    "topo.AddPart(fus, 'Fuselage', 3)\n",
    "topo.AddPart(mirror_pln, 'mirror', 0)\n",
    "topo.AddPart(engine, 'powerplant', 0)\n",
    "topo.AddPart(tailplane, 'Tailplane', 1)\n",
    "topo.AddPart(tail_fin, \"Tail fin\", 0)\n",
    "topo.AddPart(wing, \"wing\", 0)\n",
    "\n",
    "print(topo)\n",
    "\n",
    "graph = pydot.graph_from_dot_data(topo.export_graphviz())\n",
    "Image(graph.create_png())"
   ]
  },
  {
   "cell_type": "markdown",
   "metadata": {},
   "source": [
    "### Scaled Composites Proteus\n",
    "![SC Proteus aircraft](Proteus.jpg)\n",
    "**Photo source: NASA**"
   ]
  },
  {
   "cell_type": "code",
   "execution_count": 16,
   "metadata": {
    "collapsed": false,
    "scrolled": false
   },
   "outputs": [
    {
     "name": "stdout",
     "output_type": "stream",
     "text": [
      "Skipping geometry construction for Fuselage\n",
      "No HChord specified to fit engine to: creating default\n",
      "Skipping geometry construction for Engine\n",
      "Lifting Surface functional parameters not defined:\n",
      "Initialising without geometry construction\n",
      "Skipping geometry construction for LiftingSurface\n",
      "Lifting Surface functional parameters not defined:\n",
      "Initialising without geometry construction\n",
      "Skipping geometry construction for LiftingSurface\n",
      "Skipping geometry construction for Fuselage\n",
      "Lifting Surface functional parameters not defined:\n",
      "Initialising without geometry construction\n",
      "Skipping geometry construction for LiftingSurface\n",
      "Lifting Surface functional parameters not defined:\n",
      "Initialising without geometry construction\n",
      "Skipping geometry construction for LiftingSurface\n",
      "Lifting Surface functional parameters not defined:\n",
      "Initialising without geometry construction\n",
      "Skipping geometry construction for LiftingSurface\n",
      "Skipping geometry construction for Topology\n",
      "(Fuselage, E, 3)\n",
      "(mirror, |, 0)\n",
      "(powerplant, P, 0)\n",
      "(wing, L, 0)\n",
      "(TP/inbbd wing, L, 1)\n",
      "(Pod/tail boom, E, 3)\n",
      "(outbd wing, L, 0)\n",
      "(Fin (up), L, 0)\n",
      "(Fin (down), L, 0)\n"
     ]
    },
    {
     "data": {
      "image/png": "[encoded data removed]",
      "text/plain": [
       "<IPython.core.display.Image object>"
      ]
     },
     "execution_count": 16,
     "metadata": {},
     "output_type": "execute_result"
    }
   ],
   "source": [
    "# Setup\n",
    "# Create mock components, without generating any geometry\n",
    "fus = Fuselage(construct_geometry=False)\n",
    "mirror_pln = gp_Ax2()\n",
    "engine = Engine(construct_geometry=False)\n",
    "wing_in = LiftingSurface(construct_geometry=False)\n",
    "tailplane = LiftingSurface(construct_geometry=False)\n",
    "pod = Fuselage(construct_geometry=False)\n",
    "finup = LiftingSurface(construct_geometry=False)\n",
    "findown = LiftingSurface(construct_geometry=False)\n",
    "wing_out = LiftingSurface(construct_geometry=False)\n",
    "\n",
    "\n",
    "topo = Topology()\n",
    "topo.AddPart(fus, 'Fuselage', 3)\n",
    "topo.AddPart(mirror_pln, 'mirror', 0)\n",
    "topo.AddPart(engine, 'powerplant', 0)\n",
    "topo.AddPart(wing, \"wing\", 0)\n",
    "topo.AddPart(wing_in, \"TP/inbbd wing\", 1)\n",
    "topo.AddPart(pod, 'Pod/tail boom', 3)\n",
    "topo.AddPart(wing_out, \"outbd wing\", 0)\n",
    "topo.AddPart(finup, \"Fin (up)\", 0)        \n",
    "topo.AddPart(findown, \"Fin (down)\", 0)\n",
    "\n",
    "for node in topo._Tree:\n",
    "    print(node)\n",
    "\n",
    "    \n",
    "graph = pydot.graph_from_dot_data(topo.export_graphviz())\n",
    "Image(graph.create_png())"
   ]
  },
  {
   "cell_type": "markdown",
   "metadata": {},
   "source": [
    "### References\n",
    "\n",
    "[1] Sobester, A., “Four Suggestions for Better Parametric Geometries,”\n",
    "    10th AIAA Multidisciplinary Design Optimization Conference,\n",
    "    AIAA SciTech, American Institute of Aeronautics and Astronautics,\n",
    "    jan 2014.\n",
    "    \n",
    "[2] Sobester, A., “Self-Designing Parametric Geometries,” 56th AIAA/ASCE/AH-\n",
    "    S/ASC Structures, Structural Dynamics, and Materials Conference, AIAA\n",
    "    SciTech, American Institute of Aeronautics and Astronautics, jan 2015."
   ]
  },
  {
   "cell_type": "code",
   "execution_count": 18,
   "metadata": {
    "collapsed": false,
    "scrolled": false
   },
   "outputs": [],
   "source": [
    "# # This cell can be used to start a freecad window, create a new document and transfer the airconics\n",
    "# # Wing shape to the viewer\n",
    "# # NOTE:requires the same version of Open CASCADE though and is buggy, users should avoid this for now\n",
    "\n",
    "# import sys\n",
    "# sys.path.append('/usr/lib/freecad/lib')\n",
    "# import FreeCAD\n",
    "# import FreeCADGui\n",
    "# %gui qt\n",
    "# FreeCADGui.showMainWindow()\n",
    "\n",
    "# doc = FreeCAD.newDocument()\n",
    "\n",
    "# import Part\n",
    "\n",
    "# import airconics \n",
    "# # Import all example functional definitions for the Common Research Model (CRM) Wing:\n",
    "# from airconics.examples.wing_example_transonic_airliner import *\n",
    "\n",
    "# # Position of the apex of the wing\n",
    "# P = [0., 0., 0.]\n",
    "\n",
    "# # Class definition\n",
    "# NSeg = 10\n",
    "# ChordFactor = 1\n",
    "# ScaleFactor = 50\n",
    "\n",
    "# Wing = liftingsurface.LiftingSurface(P, mySweepAngleFunctionAirliner, \n",
    "#     myDihedralFunctionAirliner, \n",
    "#     myTwistFunctionAirliner, \n",
    "#     myChordFunctionAirliner, \n",
    "#     myAirfoilFunctionAirliner, SegmentNo=NSeg, ScaleFactor=ScaleFactor)\n",
    "# surf = Wing['Surface']\n",
    "# w = Part.__fromPythonOCC__(surf)\n",
    "# doc.recompute()\n",
    "# Part.show(w)"
   ]
  },
  {
   "cell_type": "code",
   "execution_count": 21,
   "metadata": {
    "collapsed": false
   },
   "outputs": [
    {
     "ename": "KeyError",
     "evalue": "'__deepcopy__'",
     "output_type": "error",
     "traceback": [
      "\u001b[1;31m---------------------------------------------------------------------------\u001b[0m",
      "\u001b[1;31mKeyError\u001b[0m                                  Traceback (most recent call last)",
      "\u001b[1;32m<ipython-input-21-fa426d512ca0>\u001b[0m in \u001b[0;36m<module>\u001b[1;34m()\u001b[0m\n\u001b[0;32m      3\u001b[0m \u001b[0mq\u001b[0m \u001b[1;33m=\u001b[0m \u001b[0mcopy\u001b[0m\u001b[1;33m.\u001b[0m\u001b[0mdeepcopy\u001b[0m\u001b[1;33m(\u001b[0m\u001b[0mp\u001b[0m\u001b[1;33m)\u001b[0m\u001b[1;33m\u001b[0m\u001b[0m\n\u001b[0;32m      4\u001b[0m \u001b[1;33m\u001b[0m\u001b[0m\n\u001b[1;32m----> 5\u001b[1;33m \u001b[0mwing2\u001b[0m \u001b[1;33m=\u001b[0m \u001b[0mcopy\u001b[0m\u001b[1;33m.\u001b[0m\u001b[0mdeepcopy\u001b[0m\u001b[1;33m(\u001b[0m\u001b[0mWBF\u001b[0m\u001b[1;33m)\u001b[0m\u001b[1;33m\u001b[0m\u001b[0m\n\u001b[0m",
      "\u001b[1;32m/home/pchambers/anaconda2/lib/python2.7/copy.pyc\u001b[0m in \u001b[0;36mdeepcopy\u001b[1;34m(x, memo, _nil)\u001b[0m\n\u001b[0;32m    188\u001b[0m                             raise Error(\n\u001b[0;32m    189\u001b[0m                                 \"un(deep)copyable object of type %s\" % cls)\n\u001b[1;32m--> 190\u001b[1;33m                 \u001b[0my\u001b[0m \u001b[1;33m=\u001b[0m \u001b[0m_reconstruct\u001b[0m\u001b[1;33m(\u001b[0m\u001b[0mx\u001b[0m\u001b[1;33m,\u001b[0m \u001b[0mrv\u001b[0m\u001b[1;33m,\u001b[0m \u001b[1;36m1\u001b[0m\u001b[1;33m,\u001b[0m \u001b[0mmemo\u001b[0m\u001b[1;33m)\u001b[0m\u001b[1;33m\u001b[0m\u001b[0m\n\u001b[0m\u001b[0;32m    191\u001b[0m \u001b[1;33m\u001b[0m\u001b[0m\n\u001b[0;32m    192\u001b[0m     \u001b[0mmemo\u001b[0m\u001b[1;33m[\u001b[0m\u001b[0md\u001b[0m\u001b[1;33m]\u001b[0m \u001b[1;33m=\u001b[0m \u001b[0my\u001b[0m\u001b[1;33m\u001b[0m\u001b[0m\n",
      "\u001b[1;32m/home/pchambers/anaconda2/lib/python2.7/copy.pyc\u001b[0m in \u001b[0;36m_reconstruct\u001b[1;34m(x, info, deep, memo)\u001b[0m\n\u001b[0;32m    332\u001b[0m     \u001b[1;32mif\u001b[0m \u001b[0mstate\u001b[0m \u001b[1;32mis\u001b[0m \u001b[1;32mnot\u001b[0m \u001b[0mNone\u001b[0m\u001b[1;33m:\u001b[0m\u001b[1;33m\u001b[0m\u001b[0m\n\u001b[0;32m    333\u001b[0m         \u001b[1;32mif\u001b[0m \u001b[0mdeep\u001b[0m\u001b[1;33m:\u001b[0m\u001b[1;33m\u001b[0m\u001b[0m\n\u001b[1;32m--> 334\u001b[1;33m             \u001b[0mstate\u001b[0m \u001b[1;33m=\u001b[0m \u001b[0mdeepcopy\u001b[0m\u001b[1;33m(\u001b[0m\u001b[0mstate\u001b[0m\u001b[1;33m,\u001b[0m \u001b[0mmemo\u001b[0m\u001b[1;33m)\u001b[0m\u001b[1;33m\u001b[0m\u001b[0m\n\u001b[0m\u001b[0;32m    335\u001b[0m         \u001b[1;32mif\u001b[0m \u001b[0mhasattr\u001b[0m\u001b[1;33m(\u001b[0m\u001b[0my\u001b[0m\u001b[1;33m,\u001b[0m \u001b[1;34m'__setstate__'\u001b[0m\u001b[1;33m)\u001b[0m\u001b[1;33m:\u001b[0m\u001b[1;33m\u001b[0m\u001b[0m\n\u001b[0;32m    336\u001b[0m             \u001b[0my\u001b[0m\u001b[1;33m.\u001b[0m\u001b[0m__setstate__\u001b[0m\u001b[1;33m(\u001b[0m\u001b[0mstate\u001b[0m\u001b[1;33m)\u001b[0m\u001b[1;33m\u001b[0m\u001b[0m\n",
      "\u001b[1;32m/home/pchambers/anaconda2/lib/python2.7/copy.pyc\u001b[0m in \u001b[0;36mdeepcopy\u001b[1;34m(x, memo, _nil)\u001b[0m\n\u001b[0;32m    161\u001b[0m     \u001b[0mcopier\u001b[0m \u001b[1;33m=\u001b[0m \u001b[0m_deepcopy_dispatch\u001b[0m\u001b[1;33m.\u001b[0m\u001b[0mget\u001b[0m\u001b[1;33m(\u001b[0m\u001b[0mcls\u001b[0m\u001b[1;33m)\u001b[0m\u001b[1;33m\u001b[0m\u001b[0m\n\u001b[0;32m    162\u001b[0m     \u001b[1;32mif\u001b[0m \u001b[0mcopier\u001b[0m\u001b[1;33m:\u001b[0m\u001b[1;33m\u001b[0m\u001b[0m\n\u001b[1;32m--> 163\u001b[1;33m         \u001b[0my\u001b[0m \u001b[1;33m=\u001b[0m \u001b[0mcopier\u001b[0m\u001b[1;33m(\u001b[0m\u001b[0mx\u001b[0m\u001b[1;33m,\u001b[0m \u001b[0mmemo\u001b[0m\u001b[1;33m)\u001b[0m\u001b[1;33m\u001b[0m\u001b[0m\n\u001b[0m\u001b[0;32m    164\u001b[0m     \u001b[1;32melse\u001b[0m\u001b[1;33m:\u001b[0m\u001b[1;33m\u001b[0m\u001b[0m\n\u001b[0;32m    165\u001b[0m         \u001b[1;32mtry\u001b[0m\u001b[1;33m:\u001b[0m\u001b[1;33m\u001b[0m\u001b[0m\n",
      "\u001b[1;32m/home/pchambers/anaconda2/lib/python2.7/copy.pyc\u001b[0m in \u001b[0;36m_deepcopy_dict\u001b[1;34m(x, memo)\u001b[0m\n\u001b[0;32m    255\u001b[0m     \u001b[0mmemo\u001b[0m\u001b[1;33m[\u001b[0m\u001b[0mid\u001b[0m\u001b[1;33m(\u001b[0m\u001b[0mx\u001b[0m\u001b[1;33m)\u001b[0m\u001b[1;33m]\u001b[0m \u001b[1;33m=\u001b[0m \u001b[0my\u001b[0m\u001b[1;33m\u001b[0m\u001b[0m\n\u001b[0;32m    256\u001b[0m     \u001b[1;32mfor\u001b[0m \u001b[0mkey\u001b[0m\u001b[1;33m,\u001b[0m \u001b[0mvalue\u001b[0m \u001b[1;32min\u001b[0m \u001b[0mx\u001b[0m\u001b[1;33m.\u001b[0m\u001b[0miteritems\u001b[0m\u001b[1;33m(\u001b[0m\u001b[1;33m)\u001b[0m\u001b[1;33m:\u001b[0m\u001b[1;33m\u001b[0m\u001b[0m\n\u001b[1;32m--> 257\u001b[1;33m         \u001b[0my\u001b[0m\u001b[1;33m[\u001b[0m\u001b[0mdeepcopy\u001b[0m\u001b[1;33m(\u001b[0m\u001b[0mkey\u001b[0m\u001b[1;33m,\u001b[0m \u001b[0mmemo\u001b[0m\u001b[1;33m)\u001b[0m\u001b[1;33m]\u001b[0m \u001b[1;33m=\u001b[0m \u001b[0mdeepcopy\u001b[0m\u001b[1;33m(\u001b[0m\u001b[0mvalue\u001b[0m\u001b[1;33m,\u001b[0m \u001b[0mmemo\u001b[0m\u001b[1;33m)\u001b[0m\u001b[1;33m\u001b[0m\u001b[0m\n\u001b[0m\u001b[0;32m    258\u001b[0m     \u001b[1;32mreturn\u001b[0m \u001b[0my\u001b[0m\u001b[1;33m\u001b[0m\u001b[0m\n\u001b[0;32m    259\u001b[0m \u001b[0md\u001b[0m\u001b[1;33m[\u001b[0m\u001b[0mdict\u001b[0m\u001b[1;33m]\u001b[0m \u001b[1;33m=\u001b[0m \u001b[0m_deepcopy_dict\u001b[0m\u001b[1;33m\u001b[0m\u001b[0m\n",
      "\u001b[1;32m/home/pchambers/anaconda2/lib/python2.7/copy.pyc\u001b[0m in \u001b[0;36mdeepcopy\u001b[1;34m(x, memo, _nil)\u001b[0m\n\u001b[0;32m    170\u001b[0m             \u001b[0my\u001b[0m \u001b[1;33m=\u001b[0m \u001b[0m_deepcopy_atomic\u001b[0m\u001b[1;33m(\u001b[0m\u001b[0mx\u001b[0m\u001b[1;33m,\u001b[0m \u001b[0mmemo\u001b[0m\u001b[1;33m)\u001b[0m\u001b[1;33m\u001b[0m\u001b[0m\n\u001b[0;32m    171\u001b[0m         \u001b[1;32melse\u001b[0m\u001b[1;33m:\u001b[0m\u001b[1;33m\u001b[0m\u001b[0m\n\u001b[1;32m--> 172\u001b[1;33m             \u001b[0mcopier\u001b[0m \u001b[1;33m=\u001b[0m \u001b[0mgetattr\u001b[0m\u001b[1;33m(\u001b[0m\u001b[0mx\u001b[0m\u001b[1;33m,\u001b[0m \u001b[1;34m\"__deepcopy__\"\u001b[0m\u001b[1;33m,\u001b[0m \u001b[0mNone\u001b[0m\u001b[1;33m)\u001b[0m\u001b[1;33m\u001b[0m\u001b[0m\n\u001b[0m\u001b[0;32m    173\u001b[0m             \u001b[1;32mif\u001b[0m \u001b[0mcopier\u001b[0m\u001b[1;33m:\u001b[0m\u001b[1;33m\u001b[0m\u001b[0m\n\u001b[0;32m    174\u001b[0m                 \u001b[0my\u001b[0m \u001b[1;33m=\u001b[0m \u001b[0mcopier\u001b[0m\u001b[1;33m(\u001b[0m\u001b[0mmemo\u001b[0m\u001b[1;33m)\u001b[0m\u001b[1;33m\u001b[0m\u001b[0m\n",
      "\u001b[1;32m/home/pchambers/git/OCC_AirCONICS/airconics/base.pyc\u001b[0m in \u001b[0;36m__getitem__\u001b[1;34m(self, name)\u001b[0m\n\u001b[0;32m     67\u001b[0m \u001b[1;33m\u001b[0m\u001b[0m\n\u001b[0;32m     68\u001b[0m     \u001b[1;32mdef\u001b[0m \u001b[0m__getitem__\u001b[0m\u001b[1;33m(\u001b[0m\u001b[0mself\u001b[0m\u001b[1;33m,\u001b[0m \u001b[0mname\u001b[0m\u001b[1;33m)\u001b[0m\u001b[1;33m:\u001b[0m\u001b[1;33m\u001b[0m\u001b[0m\n\u001b[1;32m---> 69\u001b[1;33m         \u001b[1;32mreturn\u001b[0m \u001b[0mself\u001b[0m\u001b[1;33m.\u001b[0m\u001b[0m__dict__\u001b[0m\u001b[1;33m[\u001b[0m\u001b[0mname\u001b[0m\u001b[1;33m]\u001b[0m\u001b[1;33m\u001b[0m\u001b[0m\n\u001b[0m\u001b[0;32m     70\u001b[0m \u001b[1;33m\u001b[0m\u001b[0m\n\u001b[0;32m     71\u001b[0m     \u001b[1;32mdef\u001b[0m \u001b[0m__delitem__\u001b[0m\u001b[1;33m(\u001b[0m\u001b[0mself\u001b[0m\u001b[1;33m,\u001b[0m \u001b[0mname\u001b[0m\u001b[1;33m)\u001b[0m\u001b[1;33m:\u001b[0m\u001b[1;33m\u001b[0m\u001b[0m\n",
      "\u001b[1;31mKeyError\u001b[0m: '__deepcopy__'"
     ]
    }
   ],
   "source": [
    "p = Wing['Surface']\n",
    "import copy\n",
    "q = copy.deepcopy(p)\n",
    "\n",
    "wing2 = copy.deepcopy(WBF)"
   ]
  },
  {
   "cell_type": "code",
   "execution_count": 30,
   "metadata": {
    "collapsed": false
   },
   "outputs": [
    {
     "name": "stdout",
     "output_type": "stream",
     "text": [
      "No Profile specified: Creating 'empty' Airfoil\n"
     ]
    }
   ],
   "source": [
    "A = primitives.Airfoil(SeligProfile='')"
   ]
  },
  {
   "cell_type": "code",
   "execution_count": null,
   "metadata": {
    "collapsed": true
   },
   "outputs": [],
   "source": []
  }
 ],
 "metadata": {
  "kernelspec": {
   "display_name": "Python 2",
   "language": "python",
   "name": "python2"
  },
  "language_info": {
   "codemirror_mode": {
    "name": "ipython",
    "version": 2
   },
   "file_extension": ".py",
   "mimetype": "text/x-python",
   "name": "python",
   "nbconvert_exporter": "python",
   "pygments_lexer": "ipython2",
   "version": "2.7.12"
  }
 },
 "nbformat": 4,
 "nbformat_minor": 0
}
