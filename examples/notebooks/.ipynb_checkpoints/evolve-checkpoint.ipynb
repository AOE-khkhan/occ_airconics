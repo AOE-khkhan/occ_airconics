{
 "cells": [
  {
   "cell_type": "markdown",
   "metadata": {},
   "source": [
    "# Evolutionary Aircraft Topology Optimisation"
   ]
  },
  {
   "cell_type": "markdown",
   "metadata": {},
   "source": [
    "Examples in this notebook are a work in progress, and are an attempt at an aircraft design layout optimisation using Genetic Programming (GP) approach suggested in Sobester, 2014.\n",
    "\n",
    "**Reference:**\n",
    "1. Sobester, A., *“Four Suggestions for Better Parametric Geometries,”* 10th AIAA\n",
    "Multidisciplinary Design Optimization Conference, AIAA SciTech, American In-\n",
    "stitute of Aeronautics and Astronautics, jan 2014."
   ]
  },
  {
   "cell_type": "code",
   "execution_count": 2,
   "metadata": {
    "collapsed": false
   },
   "outputs": [
    {
     "ename": "SyntaxError",
     "evalue": "invalid syntax (evolve.py, line 15)",
     "output_type": "error",
     "traceback": [
      "\u001b[1;36m  File \u001b[1;32m\"/home/pchambers/git/OCC_AirCONICS/airconics/optimize/evolve.py\"\u001b[1;36m, line \u001b[1;32m15\u001b[0m\n\u001b[1;33m    FUNCTIONS = {LiftingSurface:}\u001b[0m\n\u001b[1;37m                                ^\u001b[0m\n\u001b[1;31mSyntaxError\u001b[0m\u001b[1;31m:\u001b[0m invalid syntax\n"
     ]
    }
   ],
   "source": [
    "from airconics.optimize import evolve"
   ]
  },
  {
   "cell_type": "code",
   "execution_count": null,
   "metadata": {
    "collapsed": true
   },
   "outputs": [],
   "source": []
  }
 ],
 "metadata": {
  "kernelspec": {
   "display_name": "Python 2",
   "language": "python",
   "name": "python2"
  },
  "language_info": {
   "codemirror_mode": {
    "name": "ipython",
    "version": 2
   },
   "file_extension": ".py",
   "mimetype": "text/x-python",
   "name": "python",
   "nbconvert_exporter": "python",
   "pygments_lexer": "ipython2",
   "version": "2.7.11"
  }
 },
 "nbformat": 4,
 "nbformat_minor": 0
}
