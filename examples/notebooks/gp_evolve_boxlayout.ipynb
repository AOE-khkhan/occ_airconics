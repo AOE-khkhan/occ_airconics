{
 "cells": [
  {
   "cell_type": "markdown",
   "metadata": {},
   "source": [
    "# Bounding configuration GP example"
   ]
  },
  {
   "cell_type": "markdown",
   "metadata": {},
   "source": [
    "This notebook is designed to test whether a simple simple comprised of bounding boxes can be generated using [deap](http://deap.readthedocs.io/en/master/api/tools.html), a Python Evolutionary Algorithm Package."
   ]
  },
  {
   "cell_type": "code",
   "execution_count": 1,
   "metadata": {
    "collapsed": true
   },
   "outputs": [],
   "source": [
    "import copy\n",
    "\n",
    "import numpy as np\n",
    "\n",
    "from functools import partial\n",
    "\n",
    "from deap import algorithms\n",
    "from deap import base\n",
    "from deap import creator\n",
    "from deap import tools\n",
    "from deap import gp\n"
   ]
  },
  {
   "cell_type": "code",
   "execution_count": 2,
   "metadata": {
    "collapsed": false
   },
   "outputs": [],
   "source": [
    "# def progn(*args):\n",
    "#     for arg in args:\n",
    "#         arg()\n",
    "\n",
    "# def prog2(out1, out2): \n",
    "#     return partial(progn,out1,out2)\n",
    "\n",
    "# def prog3(out1, out2, out3):     \n",
    "#     return partial(progn,out1,out2,out3)\n",
    "\n",
    "# def if_then_else(condition, out1, out2):\n",
    "#     out1() if condition() else out2()\n",
    "\n"
   ]
  },
  {
   "cell_type": "code",
   "execution_count": 72,
   "metadata": {
    "collapsed": false
   },
   "outputs": [],
   "source": [
    "from OCC.gp import gp_Pnt\n",
    "from airconics.base import AirconicsShape, AirconicsCollection\n",
    "import OCC\n",
    "from airconics import AirCONICStools as act\n",
    "from OCC.BRepPrimAPI import BRepPrimAPI_MakeBox\n",
    "\n",
    "\n",
    "# Create a simple Box class that inherits from AirconicsShape\n",
    "#  - this will behave similarly to the Engine, Fuselage class etc.\n",
    "class Box(AirconicsShape):\n",
    "    def __init__(self, xmin, ymin, zmin, dx, dy, dz):\n",
    "        print(\"Creating a box!\")\n",
    "        print(xmin, ymin, zmin)\n",
    "        # This implicitly calls build\n",
    "        super(Box, self).__init__(construct_geometry=True,\n",
    "                                             xmin=xmin,\n",
    "                                             ymin=ymin,\n",
    "                                             zmin=zmin,\n",
    "                                             dx=dx,\n",
    "                                             dy=dy,\n",
    "                                             dz=dz)\n",
    "        \n",
    "        \n",
    "    def Build(self):\n",
    "        Xmin = gp_Pnt(self.xmin, self.ymin, self.zmin)\n",
    "        Xmax = gp_Pnt(self.xmin + self.dx, self.ymin + self.dy, self.zmin + self.dz)\n",
    "        self['Box'] = BRepPrimAPI_MakeBox(Xmin, Xmax).Shape()\n",
    "\n",
    "        \n",
    "\n",
    "# def progn(*args):\n",
    "#     \"\"\"LSIP progn connective\"\"\"\n",
    "#     for arg in args:\n",
    "#         arg()\n",
    "\n",
    "\n",
    "\n",
    "# def fit2(out1, out2):\n",
    "#     return partial(fitN, out1, out2)\n",
    "\n",
    "# def fit2(out1, out2):\n",
    "#     return partial(fitN, out1, out2)\n",
    "\n",
    "        \n",
    "class BoxLayout(AirconicsCollection):\n",
    "    def __init__(self):\n",
    "        \"\"\"maxcompoents is the number of components\"\"\"\n",
    "        super(BoxLayout, self).__init__(parts={}, construct_geometry=True)\n",
    "        \n",
    "        print(\"hello\")\n",
    "        \n",
    "        # Start with a simple box\n",
    "        self.nparts = 0\n",
    "        self.routine = None\n",
    "    \n",
    "    def run(self, routine):\n",
    "        self._reset()\n",
    "        routine()\n",
    "\n",
    "    def _reset(self):\n",
    "        self._Parts = {}\n",
    "        self.nparts = 0\n",
    "\n",
    "    def boxN(self, xmin, ymin, zmin, dx, dy, dz, *args):\n",
    "        # Fits N new components to this box layout\n",
    "        box = Box(xmin, ymin, zmin, dx, dy, dz)\n",
    "        self.nparts += 1\n",
    "        # Do no be confused between the numbering of boxes and the number of descendent\n",
    "        #  nodes: Each box needs a unique ID, so naming a box0 function \"box0\" replaces\n",
    "        #  other shapes in this layout that are also named box0\n",
    "        self['box' + str(self.nparts)] = box\n",
    "        for arg in args:\n",
    "            arg()\n",
    "    \n",
    "    def box0(self, xmin, ymin, zmin, dx, dy, dz):\n",
    "#         box = Box(xmin, ymin, zmin, dx, dy, dz)\n",
    "#         self.nparts += 1\n",
    "#         self['box0'] = box\n",
    "        print(\"in box0\")\n",
    "        return partial(self.boxN, xmin, ymin, zmin, dx, dy, dz)\n",
    "        \n",
    "    # Now we need to explicitly add the box1, box2, .... boxM functions,\n",
    "    # So that they can be added to the GP toolbox\n",
    "    def box1(self, xmin, ymin, zmin, dx, dy, dz, out1):\n",
    "#         box = Box(xmin, ymin, zmin, dx, dy, dz)\n",
    "#         self.nparts += 1\n",
    "#         self['box1'] = box\n",
    "        print(\"in box1, args: {}, {}, {}, {}, {}, {}, {}\".format(xmin, ymin, zmin, dx, dy, dz, out1))\n",
    "        print(\"box1 args\")\n",
    "        return partial(self.boxN, xmin, ymin, zmin, dx, dy, dz, out1)\n",
    "\n",
    "    def box2(self, xmin, ymin, zmin, dx, dy, dz, out1, out2):\n",
    "#         box = Box(xmin, ymin, zmin, dx, dy, dz)\n",
    "#         self.nparts += 1\n",
    "#         self['box2'] = box\n",
    "        return partial(self.boxN, xmin, ymin, zmin, dx, dy, dz, out1, out2)\n",
    "    \n",
    "    def temp_fitness(self):\n",
    "        \"\"\"Until I come with something useful, the fitness evaluation for this\n",
    "        configuration will be based on the bounding box volume\"\"\"\n",
    "        xmin, ymin, zmin, xmax, ymax, zmax = self.Extents()\n",
    "        return (xmax-xmin) * (ymax-ymin)*(zmax-zmin)\n"
   ]
  },
  {
   "cell_type": "code",
   "execution_count": 99,
   "metadata": {
    "collapsed": false
   },
   "outputs": [
    {
     "name": "stdout",
     "output_type": "stream",
     "text": [
      "Attempting to construct BoxLayout geometry...\n",
      "hello\n"
     ]
    }
   ],
   "source": [
    "config = BoxLayout()\n",
    "import types, itertools, functools\n",
    "funct = types.FunctionType\n",
    "part = functools.partial\n",
    "nt = types.NoneType\n",
    "\n",
    "# I think the second argument means that we have up to 57 floats to use as terminals\n",
    "pset = gp.PrimitiveSetTyped(\"MAIN\", [], nt)\n",
    "\n",
    "\n",
    "pset.addPrimitive(config.box0, [float, float, float, float, float, float], nt)\n",
    "pset.addPrimitive(config.box1, [float, float, float, float, float, float, nt], nt)\n",
    "pset.addPrimitive(config.box2, [float, float, float, float, float, float, nt, nt], nt)\n",
    "pset.addPrimitive(np.random.rand, [], float)\n",
    "\n",
    "# terminals\n",
    "# for i in range(100):\n",
    "# label = 'rand' + str(i)\n",
    "pset.addEphemeralConstant('rand', np.random.rand, float)\n",
    "# for i in range(100):\n",
    "#     pset.addTerminal(1.0, float)\n",
    "\n",
    "creator.create(\"FitnessMax\", base.Fitness, weights=(1.0,))\n",
    "creator.create(\"Individual\", gp.PrimitiveTree, fitness=creator.FitnessMax)\n",
    "\n",
    "toolbox = base.Toolbox()\n",
    "\n",
    "# Attribute generator\n",
    "toolbox.register(\"expr_init\", gp.genFull, pset=pset, min_=1, max_=2)\n",
    "\n",
    "# Structure initializers\n",
    "toolbox.register(\"individual\", tools.initIterate, creator.Individual, toolbox.expr_init)\n",
    "toolbox.register(\"population\", tools.initRepeat, list, toolbox.individual)\n",
    "\n",
    "\n",
    "# def evalTopology(individual):\n",
    "#     # Transform the tree expression to functionnal Python code\n",
    "#     routine = gp.compile(individual, pset)\n",
    "#     # Run the generated routine\n",
    "#     global config\n",
    "#     config.run(routine)\n",
    "#     return config.temp_fitness,\n",
    "    \n",
    "# toolbox.register(\"evaluate\", evalTopology)\n",
    "# toolbox.register(\"select\", tools.selTournament, tournsize=7)\n",
    "# toolbox.register(\"mate\", gp.cxOnePoint)\n",
    "# toolbox.register(\"expr_mut\", gp.genFull, min_=0, max_=2)\n",
    "# toolbox.register(\"mutate\", gp.mutUniform, expr=toolbox.expr_mut, pset=pset)\n",
    "\n",
    "# def main():\n",
    "#     np.random.seed(69)\n",
    "    \n",
    "#     pop = toolbox.population(n=100)\n",
    "#     hof = tools.HallOfFame(1)\n",
    "#     stats = tools.Statistics(lambda ind: ind.fitness.values)\n",
    "#     stats.register(\"avg\", np.mean)\n",
    "#     stats.register(\"std\", np.std)\n",
    "#     stats.register(\"min\", np.min)\n",
    "#     stats.register(\"max\", np.max)\n",
    "    \n",
    "#     algorithms.eaSimple(pop, toolbox, 0.5, 0.2, 40, stats, halloffame=hof)\n",
    "    \n",
    "#     return pop, hof, stats\n",
    "\n"
   ]
  },
  {
   "cell_type": "code",
   "execution_count": 102,
   "metadata": {
    "collapsed": false
   },
   "outputs": [
    {
     "ename": "IndexError",
     "evalue": "The gp.generate function tried to add a terminal of type '<type 'NoneType'>', but there is none available.",
     "output_type": "error",
     "traceback": [
      "\u001b[0;31m---------------------------------------------------------------------------\u001b[0m",
      "\u001b[0;31mIndexError\u001b[0m                                Traceback (most recent call last)",
      "\u001b[0;32m<ipython-input-102-e268b295c01c>\u001b[0m in \u001b[0;36m<module>\u001b[0;34m()\u001b[0m\n\u001b[0;32m----> 1\u001b[0;31m \u001b[0mtree\u001b[0m \u001b[0;34m=\u001b[0m \u001b[0mtoolbox\u001b[0m\u001b[0;34m.\u001b[0m\u001b[0mindividual\u001b[0m\u001b[0;34m(\u001b[0m\u001b[0;34m)\u001b[0m\u001b[0;34m\u001b[0m\u001b[0m\n\u001b[0m\u001b[1;32m      2\u001b[0m \u001b[0;32mprint\u001b[0m\u001b[0;34m(\u001b[0m\u001b[0mtree\u001b[0m\u001b[0;34m)\u001b[0m\u001b[0;34m\u001b[0m\u001b[0m\n\u001b[1;32m      3\u001b[0m \u001b[0;34m\u001b[0m\u001b[0m\n\u001b[1;32m      4\u001b[0m \u001b[0mroutine\u001b[0m \u001b[0;34m=\u001b[0m \u001b[0mgp\u001b[0m\u001b[0;34m.\u001b[0m\u001b[0mcompile\u001b[0m\u001b[0;34m(\u001b[0m\u001b[0mtree\u001b[0m\u001b[0;34m,\u001b[0m \u001b[0mpset\u001b[0m\u001b[0;34m)\u001b[0m\u001b[0;34m\u001b[0m\u001b[0m\n\u001b[1;32m      5\u001b[0m \u001b[0;34m\u001b[0m\u001b[0m\n",
      "\u001b[0;32m/home/pchambers/anaconda2/lib/python2.7/site-packages/deap/tools/init.pyc\u001b[0m in \u001b[0;36minitIterate\u001b[0;34m(container, generator)\u001b[0m\n\u001b[1;32m     47\u001b[0m     \u001b[0mmore\u001b[0m \u001b[0mexamples\u001b[0m\u001b[0;34m.\u001b[0m\u001b[0;34m\u001b[0m\u001b[0m\n\u001b[1;32m     48\u001b[0m     \"\"\"\n\u001b[0;32m---> 49\u001b[0;31m     \u001b[0;32mreturn\u001b[0m \u001b[0mcontainer\u001b[0m\u001b[0;34m(\u001b[0m\u001b[0mgenerator\u001b[0m\u001b[0;34m(\u001b[0m\u001b[0;34m)\u001b[0m\u001b[0;34m)\u001b[0m\u001b[0;34m\u001b[0m\u001b[0m\n\u001b[0m\u001b[1;32m     50\u001b[0m \u001b[0;34m\u001b[0m\u001b[0m\n\u001b[1;32m     51\u001b[0m \u001b[0;32mdef\u001b[0m \u001b[0minitCycle\u001b[0m\u001b[0;34m(\u001b[0m\u001b[0mcontainer\u001b[0m\u001b[0;34m,\u001b[0m \u001b[0mseq_func\u001b[0m\u001b[0;34m,\u001b[0m \u001b[0mn\u001b[0m\u001b[0;34m=\u001b[0m\u001b[0;36m1\u001b[0m\u001b[0;34m)\u001b[0m\u001b[0;34m:\u001b[0m\u001b[0;34m\u001b[0m\u001b[0m\n",
      "\u001b[0;32m/home/pchambers/anaconda2/lib/python2.7/site-packages/deap/gp.pyc\u001b[0m in \u001b[0;36mgenFull\u001b[0;34m(pset, min_, max_, type_)\u001b[0m\n\u001b[1;32m    499\u001b[0m         \u001b[0;34m\"\"\"Expression generation stops when the depth is equal to height.\"\"\"\u001b[0m\u001b[0;34m\u001b[0m\u001b[0m\n\u001b[1;32m    500\u001b[0m         \u001b[0;32mreturn\u001b[0m \u001b[0mdepth\u001b[0m \u001b[0;34m==\u001b[0m \u001b[0mheight\u001b[0m\u001b[0;34m\u001b[0m\u001b[0m\n\u001b[0;32m--> 501\u001b[0;31m     \u001b[0;32mreturn\u001b[0m \u001b[0mgenerate\u001b[0m\u001b[0;34m(\u001b[0m\u001b[0mpset\u001b[0m\u001b[0;34m,\u001b[0m \u001b[0mmin_\u001b[0m\u001b[0;34m,\u001b[0m \u001b[0mmax_\u001b[0m\u001b[0;34m,\u001b[0m \u001b[0mcondition\u001b[0m\u001b[0;34m,\u001b[0m \u001b[0mtype_\u001b[0m\u001b[0;34m)\u001b[0m\u001b[0;34m\u001b[0m\u001b[0m\n\u001b[0m\u001b[1;32m    502\u001b[0m \u001b[0;34m\u001b[0m\u001b[0m\n\u001b[1;32m    503\u001b[0m \u001b[0;32mdef\u001b[0m \u001b[0mgenGrow\u001b[0m\u001b[0;34m(\u001b[0m\u001b[0mpset\u001b[0m\u001b[0;34m,\u001b[0m \u001b[0mmin_\u001b[0m\u001b[0;34m,\u001b[0m \u001b[0mmax_\u001b[0m\u001b[0;34m,\u001b[0m \u001b[0mtype_\u001b[0m\u001b[0;34m=\u001b[0m\u001b[0mNone\u001b[0m\u001b[0;34m)\u001b[0m\u001b[0;34m:\u001b[0m\u001b[0;34m\u001b[0m\u001b[0m\n",
      "\u001b[0;32m/home/pchambers/anaconda2/lib/python2.7/site-packages/deap/gp.pyc\u001b[0m in \u001b[0;36mgenerate\u001b[0;34m(pset, min_, max_, condition, type_)\u001b[0m\n\u001b[1;32m    569\u001b[0m         \u001b[0;32mif\u001b[0m \u001b[0mcondition\u001b[0m\u001b[0;34m(\u001b[0m\u001b[0mheight\u001b[0m\u001b[0;34m,\u001b[0m \u001b[0mdepth\u001b[0m\u001b[0;34m)\u001b[0m\u001b[0;34m:\u001b[0m\u001b[0;34m\u001b[0m\u001b[0m\n\u001b[1;32m    570\u001b[0m             \u001b[0;32mtry\u001b[0m\u001b[0;34m:\u001b[0m\u001b[0;34m\u001b[0m\u001b[0m\n\u001b[0;32m--> 571\u001b[0;31m                 \u001b[0mterm\u001b[0m \u001b[0;34m=\u001b[0m \u001b[0mrandom\u001b[0m\u001b[0;34m.\u001b[0m\u001b[0mchoice\u001b[0m\u001b[0;34m(\u001b[0m\u001b[0mpset\u001b[0m\u001b[0;34m.\u001b[0m\u001b[0mterminals\u001b[0m\u001b[0;34m[\u001b[0m\u001b[0mtype_\u001b[0m\u001b[0;34m]\u001b[0m\u001b[0;34m)\u001b[0m\u001b[0;34m\u001b[0m\u001b[0m\n\u001b[0m\u001b[1;32m    572\u001b[0m             \u001b[0;32mexcept\u001b[0m \u001b[0mIndexError\u001b[0m\u001b[0;34m:\u001b[0m\u001b[0;34m\u001b[0m\u001b[0m\n\u001b[1;32m    573\u001b[0m                 \u001b[0m_\u001b[0m\u001b[0;34m,\u001b[0m \u001b[0m_\u001b[0m\u001b[0;34m,\u001b[0m \u001b[0mtraceback\u001b[0m \u001b[0;34m=\u001b[0m \u001b[0msys\u001b[0m\u001b[0;34m.\u001b[0m\u001b[0mexc_info\u001b[0m\u001b[0;34m(\u001b[0m\u001b[0;34m)\u001b[0m\u001b[0;34m\u001b[0m\u001b[0m\n",
      "\u001b[0;32m/home/pchambers/anaconda2/lib/python2.7/random.pyc\u001b[0m in \u001b[0;36mchoice\u001b[0;34m(self, seq)\u001b[0m\n\u001b[1;32m    273\u001b[0m     \u001b[0;32mdef\u001b[0m \u001b[0mchoice\u001b[0m\u001b[0;34m(\u001b[0m\u001b[0mself\u001b[0m\u001b[0;34m,\u001b[0m \u001b[0mseq\u001b[0m\u001b[0;34m)\u001b[0m\u001b[0;34m:\u001b[0m\u001b[0;34m\u001b[0m\u001b[0m\n\u001b[1;32m    274\u001b[0m         \u001b[0;34m\"\"\"Choose a random element from a non-empty sequence.\"\"\"\u001b[0m\u001b[0;34m\u001b[0m\u001b[0m\n\u001b[0;32m--> 275\u001b[0;31m         \u001b[0;32mreturn\u001b[0m \u001b[0mseq\u001b[0m\u001b[0;34m[\u001b[0m\u001b[0mint\u001b[0m\u001b[0;34m(\u001b[0m\u001b[0mself\u001b[0m\u001b[0;34m.\u001b[0m\u001b[0mrandom\u001b[0m\u001b[0;34m(\u001b[0m\u001b[0;34m)\u001b[0m \u001b[0;34m*\u001b[0m \u001b[0mlen\u001b[0m\u001b[0;34m(\u001b[0m\u001b[0mseq\u001b[0m\u001b[0;34m)\u001b[0m\u001b[0;34m)\u001b[0m\u001b[0;34m]\u001b[0m  \u001b[0;31m# raises IndexError if seq is empty\u001b[0m\u001b[0;34m\u001b[0m\u001b[0m\n\u001b[0m\u001b[1;32m    276\u001b[0m \u001b[0;34m\u001b[0m\u001b[0m\n\u001b[1;32m    277\u001b[0m     \u001b[0;32mdef\u001b[0m \u001b[0mshuffle\u001b[0m\u001b[0;34m(\u001b[0m\u001b[0mself\u001b[0m\u001b[0;34m,\u001b[0m \u001b[0mx\u001b[0m\u001b[0;34m,\u001b[0m \u001b[0mrandom\u001b[0m\u001b[0;34m=\u001b[0m\u001b[0mNone\u001b[0m\u001b[0;34m)\u001b[0m\u001b[0;34m:\u001b[0m\u001b[0;34m\u001b[0m\u001b[0m\n",
      "\u001b[0;31mIndexError\u001b[0m: The gp.generate function tried to add a terminal of type '<type 'NoneType'>', but there is none available."
     ]
    }
   ],
   "source": [
    "tree = toolbox.individual()\n",
    "print(tree)\n",
    "\n",
    "routine = gp.compile(tree, pset)\n",
    "\n",
    "config.run(routine)\n",
    "\n",
    "\n",
    "from airconics.Addons.WebServer.TornadoWeb import TornadoWebRenderer\n",
    "\n",
    "renderer = TornadoWebRenderer()\n",
    "\n",
    "config.Display(renderer)\n",
    "\n",
    "renderer"
   ]
  },
  {
   "cell_type": "code",
   "execution_count": 84,
   "metadata": {
    "collapsed": false
   },
   "outputs": [
    {
     "name": "stdout",
     "output_type": "stream",
     "text": [
      "in box0\n",
      "Creating a box!\n",
      "(0.21596537503143343, 0.027280711953040826, 0.20580687228223316)\n"
     ]
    }
   ],
   "source": [
    "routine = gp.compile(tree, pset)\n",
    "\n",
    "config.run(routine)\n",
    "from airconics.Addons.WebServer.TornadoWeb import TornadoWebRenderer\n",
    "\n",
    "render = TornadoWebRenderer()\n",
    "\n",
    "config.Display(renderer)"
   ]
  },
  {
   "cell_type": "code",
   "execution_count": 7,
   "metadata": {
    "collapsed": false
   },
   "outputs": [
    {
     "ename": "TypeError",
     "evalue": "__init__() takes exactly 1 argument (2 given)",
     "output_type": "error",
     "traceback": [
      "\u001b[0;31m---------------------------------------------------------------------------\u001b[0m",
      "\u001b[0;31mTypeError\u001b[0m                                 Traceback (most recent call last)",
      "\u001b[0;32m<ipython-input-7-600361f65378>\u001b[0m in \u001b[0;36m<module>\u001b[0;34m()\u001b[0m\n\u001b[0;32m----> 1\u001b[0;31m \u001b[0mconfig\u001b[0m \u001b[0;34m=\u001b[0m \u001b[0mBoxLayout\u001b[0m\u001b[0;34m(\u001b[0m\u001b[0;36m10\u001b[0m\u001b[0;34m)\u001b[0m\u001b[0;34m\u001b[0m\u001b[0m\n\u001b[0m\u001b[1;32m      2\u001b[0m \u001b[0;34m\u001b[0m\u001b[0m\n\u001b[1;32m      3\u001b[0m \u001b[0;32mdef\u001b[0m \u001b[0mmake_box\u001b[0m\u001b[0;34m(\u001b[0m\u001b[0mxmin\u001b[0m\u001b[0;34m,\u001b[0m \u001b[0mymin\u001b[0m\u001b[0;34m,\u001b[0m \u001b[0mzmin\u001b[0m\u001b[0;34m,\u001b[0m \u001b[0mdx\u001b[0m\u001b[0;34m,\u001b[0m \u001b[0mdy\u001b[0m\u001b[0;34m,\u001b[0m \u001b[0mdz\u001b[0m\u001b[0;34m)\u001b[0m\u001b[0;34m:\u001b[0m\u001b[0;34m\u001b[0m\u001b[0m\n\u001b[1;32m      4\u001b[0m     \u001b[0;32mdef\u001b[0m \u001b[0mbox0\u001b[0m\u001b[0;34m(\u001b[0m\u001b[0;34m)\u001b[0m\u001b[0;34m:\u001b[0m\u001b[0;34m\u001b[0m\u001b[0m\n\u001b[1;32m      5\u001b[0m         \u001b[0;32mglobal\u001b[0m \u001b[0mconfig\u001b[0m\u001b[0;34m\u001b[0m\u001b[0m\n",
      "\u001b[0;31mTypeError\u001b[0m: __init__() takes exactly 1 argument (2 given)"
     ]
    }
   ],
   "source": [
    "config = BoxLayout(10)\n",
    "\n",
    "def make_box(xmin, ymin, zmin, dx, dy, dz):\n",
    "    def box0():\n",
    "        global config\n",
    "        config.box0(xmin, ymin, zmin, dx, dy, dz)\n",
    "        return None\n",
    "    return box0\n",
    "\n",
    "p = config.box2(0,0,0,1,1,1, config.box0(1,1,1, 1, 1, 1), config.box0(2,2,2, 1, 1, 1))\n",
    "\n",
    "res = p()\n",
    "\n",
    "from airconics.Addons.WebServer.TornadoWeb import TornadoWebRenderer\n",
    "\n",
    "renderer = TornadoWebRenderer()\n",
    "\n",
    "print(config)\n",
    "config.Display(renderer)\n",
    "\n",
    "renderer"
   ]
  },
  {
   "cell_type": "code",
   "execution_count": 80,
   "metadata": {
    "collapsed": false,
    "scrolled": true
   },
   "outputs": [
    {
     "name": "stdout",
     "output_type": "stream",
     "text": [
      "Help on method addEphemeralConstant in module deap.gp:\n",
      "\n",
      "addEphemeralConstant(self, name, ephemeral, ret_type) method of deap.gp.PrimitiveSetTyped instance\n",
      "    Add an ephemeral constant to the set. An ephemeral constant\n",
      "    is a no argument function that returns a random value. The value\n",
      "    of the constant is constant for a Tree, but may differ from one\n",
      "    Tree to another.\n",
      "    \n",
      "    :param name: name used to refers to this ephemeral type.\n",
      "    :param ephemeral: function with no arguments returning a random value.\n",
      "    :param ret_type: type of the object returned by *ephemeral*.\n",
      "\n"
     ]
    }
   ],
   "source": [
    "help(pset.addEphemeralConstant\n",
    "    )"
   ]
  },
  {
   "cell_type": "code",
   "execution_count": null,
   "metadata": {
    "collapsed": false
   },
   "outputs": [],
   "source": []
  },
  {
   "cell_type": "code",
   "execution_count": null,
   "metadata": {
    "collapsed": false
   },
   "outputs": [],
   "source": [
    "help(gp.PrimitiveSetTyped)"
   ]
  },
  {
   "cell_type": "code",
   "execution_count": null,
   "metadata": {
    "collapsed": false
   },
   "outputs": [],
   "source": [
    "help(gp.PrimitiveSet)"
   ]
  },
  {
   "cell_type": "code",
   "execution_count": null,
   "metadata": {
    "collapsed": false
   },
   "outputs": [],
   "source": [
    "import itertools\n",
    "\n",
    "r = [itertools.repeat(float, 57)] + [funct]\n",
    "\n",
    "for entry in r:\n",
    "    print(entry)"
   ]
  },
  {
   "cell_type": "code",
   "execution_count": null,
   "metadata": {
    "collapsed": false
   },
   "outputs": [],
   "source": [
    "from airconics.Addons.WebServer.TornadoWeb import TornadoWebRenderer\n",
    "\n",
    "renderer = TornadoWebRenderer()\n",
    "# b = Box(0,0,0,1,1,1)\n",
    "box = BRepPrimAPI_MakeBox(gp_Pnt(0,0,0), gp_Pnt(1,1,1)).Shape()\n",
    "renderer.DisplayShape(box)\n",
    "renderer"
   ]
  },
  {
   "cell_type": "code",
   "execution_count": null,
   "metadata": {
    "collapsed": false
   },
   "outputs": [],
   "source": [
    "type(program)"
   ]
  },
  {
   "cell_type": "code",
   "execution_count": null,
   "metadata": {
    "collapsed": false
   },
   "outputs": [],
   "source": [
    "b = program()"
   ]
  },
  {
   "cell_type": "code",
   "execution_count": 71,
   "metadata": {
    "collapsed": false
   },
   "outputs": [
    {
     "data": {
      "text/plain": [
       "0.17239200797715737"
      ]
     },
     "execution_count": 71,
     "metadata": {},
     "output_type": "execute_result"
    }
   ],
   "source": [
    "np.random.rand()"
   ]
  },
  {
   "cell_type": "code",
   "execution_count": null,
   "metadata": {
    "collapsed": false
   },
   "outputs": [],
   "source": [
    "from airconics.Addons.WebServer.TornadoWeb import TornadoWebRenderer\n",
    "\n",
    "renderer = TornadoWebRenderer()\n",
    "b.Display(renderer)\n",
    "renderer"
   ]
  },
  {
   "cell_type": "code",
   "execution_count": null,
   "metadata": {
    "collapsed": true
   },
   "outputs": [],
   "source": []
  }
 ],
 "metadata": {
  "anaconda-cloud": {},
  "kernelspec": {
   "display_name": "Python [conda root]",
   "language": "python",
   "name": "conda-root-py"
  },
  "language_info": {
   "codemirror_mode": {
    "name": "ipython",
    "version": 2
   },
   "file_extension": ".py",
   "mimetype": "text/x-python",
   "name": "python",
   "nbconvert_exporter": "python",
   "pygments_lexer": "ipython2",
   "version": "2.7.12"
  }
 },
 "nbformat": 4,
 "nbformat_minor": 1
}
