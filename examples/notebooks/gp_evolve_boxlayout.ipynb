{
 "cells": [
  {
   "cell_type": "markdown",
   "metadata": {},
   "source": [
    "# Bounding configuration GP example"
   ]
  },
  {
   "cell_type": "markdown",
   "metadata": {},
   "source": [
    "This notebook is designed to test whether a simple simple comprised of bounding boxes can be generated using [deap](http://deap.readthedocs.io/en/master/api/tools.html), a Python Evolutionary Algorithm Package."
   ]
  },
  {
   "cell_type": "code",
   "execution_count": 1,
   "metadata": {
    "collapsed": true
   },
   "outputs": [],
   "source": [
    "import copy\n",
    "\n",
    "import numpy as np\n",
    "\n",
    "from functools import partial\n",
    "\n",
    "from deap import algorithms\n",
    "from deap import base\n",
    "from deap import creator\n",
    "from deap import tools\n",
    "from deap import gp\n"
   ]
  },
  {
   "cell_type": "code",
   "execution_count": 2,
   "metadata": {
    "collapsed": false
   },
   "outputs": [],
   "source": [
    "# def progn(*args):\n",
    "#     for arg in args:\n",
    "#         arg()\n",
    "\n",
    "# def prog2(out1, out2): \n",
    "#     return partial(progn,out1,out2)\n",
    "\n",
    "# def prog3(out1, out2, out3):     \n",
    "#     return partial(progn,out1,out2,out3)\n",
    "\n",
    "# def if_then_else(condition, out1, out2):\n",
    "#     out1() if condition() else out2()\n",
    "def evalf(*args):\n",
    "    for arg in args:\n",
    "        arg()\n",
    "\n"
   ]
  },
  {
   "cell_type": "code",
   "execution_count": 4,
   "metadata": {
    "collapsed": false
   },
   "outputs": [],
   "source": [
    "from OCC.gp import gp_Pnt\n",
    "from airconics.base import AirconicsShape, AirconicsCollection\n",
    "import OCC\n",
    "from airconics import AirCONICStools as act\n",
    "from OCC.BRepPrimAPI import BRepPrimAPI_MakeBox\n",
    "\n",
    "\n",
    "# Create a simple Box class that inherits from AirconicsShape\n",
    "#  - this will behave similarly to the Engine, Fuselage class etc.\n",
    "class Box(AirconicsShape):\n",
    "    def __init__(self, xmin, ymin, zmin, dx, dy, dz):\n",
    "        # This implicitly calls build\n",
    "        super(Box, self).__init__(construct_geomtry=True,\n",
    "                                             xmin=xmin,\n",
    "                                             ymin=ymin,\n",
    "                                             zmin=zmin,\n",
    "                                             dx=dx,\n",
    "                                             dy=dy,\n",
    "                                             dz=dz)\n",
    "        \n",
    "    def Build(self):\n",
    "        Xmin = gp_Pnt(self.xmin, self.ymin, self.zmin)\n",
    "        Xmax = gp_Pnt(self.xmin + self.dx, self.ymin + self.dy, self.zmin + self.dz)\n",
    "        self['Box'] = BRepPrimAPI_MakeBox(Xmin, Xmax).Shape()\n",
    "\n",
    "        \n",
    "\n",
    "# def progn(*args):\n",
    "#     \"\"\"LSIP progn connective\"\"\"\n",
    "#     for arg in args:\n",
    "#         arg()\n",
    "\n",
    "\n",
    "\n",
    "# def fit2(out1, out2):\n",
    "#     return partial(fitN, out1, out2)\n",
    "\n",
    "# def fit2(out1, out2):\n",
    "#     return partial(fitN, out1, out2)\n",
    "\n",
    "        \n",
    "class BoxLayout(AirconicsCollection):\n",
    "    def __init__(self, maxcomponents):\n",
    "        \"\"\"maxcompoents is the number of components\"\"\"\n",
    "        super(BoxLayout, self).__init__(parts={}, construct_geometry=False)\n",
    "        self.maxcomponents = maxcomponents\n",
    "        \n",
    "        print(\"hello\")\n",
    "        \n",
    "        # Start with a simple box\n",
    "        self.nparts = 0\n",
    "        self.routine = None\n",
    "    \n",
    "    def run(self, routine):\n",
    "        self._reset()\n",
    "        while self.nparts < self.maxcomponents:\n",
    "            routine()\n",
    "\n",
    "    def _reset(self):\n",
    "        self._Parts = {}\n",
    "        self.nparts = 0\n",
    "\n",
    "    def boxN(self, xmin, ymin, zmin, dx, dy, dz, *args):\n",
    "        # Fits N new components to this box layout\n",
    "        box = Box(xmin, ymin, zmin, dx, dy, dz)\n",
    "        self.nparts += 1\n",
    "        self['box' + str(len(args))] = box\n",
    "        for arg in args:\n",
    "            arg()\n",
    "    \n",
    "    def box0(self, xmin, ymin, zmin, dx, dy, dz):\n",
    "        box = Box(xmin, ymin, zmin, dx, dy, dz)\n",
    "        self.nparts += 1\n",
    "        self['box0'] = box\n",
    "        return partial()\n",
    "        \n",
    "    # Now we need to explicitly add the box1, box2, .... boxM functions,\n",
    "    # So that they can be added to the GP toolbox\n",
    "    def box1(self, xmin, ymin, zmin, dx, dy, dz, out1):\n",
    "        box = Box(xmin, ymin, zmin, dx, dy, dz)\n",
    "        self.nparts += 1\n",
    "        self['box1'] = box\n",
    "        return partial(out1)\n",
    "\n",
    "    def box2(self, xmin, ymin, zmin, dx, dy, dz, out1, out2):\n",
    "        box = Box(xmin, ymin, zmin, dx, dy, dz)\n",
    "        self.nparts += 1\n",
    "        self['box2'] = box\n",
    "        return partial(out1, out2)\n",
    "    \n",
    "    def temp_fitness(self):\n",
    "        \"\"\"Until I come with something useful, the fitness evaluation for this\n",
    "        configuration will be based on the bounding box volume\"\"\"\n",
    "        xmin, ymin, zmin, xmax, ymax, zmax = self.Extents()\n",
    "        return (xmax-xmin) * (ymax-ymin)*(zmax-zmin)\n"
   ]
  },
  {
   "cell_type": "code",
   "execution_count": 10,
   "metadata": {
    "collapsed": false
   },
   "outputs": [
    {
     "name": "stdout",
     "output_type": "stream",
     "text": [
      "Skipping geometry construction for BoxLayout\n",
      "hello\n"
     ]
    }
   ],
   "source": [
    "config = BoxLayout(maxcomponents=20)\n",
    "import types, itertools\n",
    "funct = types.FunctionType\n",
    "nt = types.NoneType\n",
    "\n",
    "# I think the second argument means that we have up to 57 floats to use as terminals\n",
    "pset = gp.PrimitiveSetTyped(\"MAIN\", [], nt)\n",
    "\n",
    "\n",
    "pset.addPrimitive(config.box0, [float, float, float, float, float, float], nt)\n",
    "pset.addPrimitive(config.box1, [float, float, float, float, float, float, nt], nt)\n",
    "pset.addPrimitive(config.box2, [float, float, float, float, float, float, nt, nt], nt)\n",
    "\n",
    "# terminals\n",
    "for i in range(20):\n",
    "    label = 'rand' + str(i)\n",
    "    pset.addEphemeralConstant(label, np.random.rand, float)\n",
    "# for i in range(100):\n",
    "#     pset.addTerminal(1.0, float)\n",
    "\n",
    "creator.create(\"FitnessMax\", base.Fitness, weights=(1.0,))\n",
    "creator.create(\"Individual\", gp.PrimitiveTree, fitness=creator.FitnessMax)\n",
    "\n",
    "toolbox = base.Toolbox()\n",
    "\n",
    "# Attribute generator\n",
    "toolbox.register(\"expr_init\", gp.genFull, pset=pset, min_=1, max_=2)\n",
    "\n",
    "# Structure initializers\n",
    "toolbox.register(\"individual\", tools.initIterate, creator.Individual, toolbox.expr_init)\n",
    "toolbox.register(\"population\", tools.initRepeat, list, toolbox.individual)\n",
    "\n",
    "\n",
    "# def evalTopology(individual):\n",
    "#     # Transform the tree expression to functionnal Python code\n",
    "#     routine = gp.compile(individual, pset)\n",
    "#     # Run the generated routine\n",
    "#     global config\n",
    "#     config.run(routine)\n",
    "#     return config.temp_fitness,\n",
    "    \n",
    "# toolbox.register(\"evaluate\", evalTopology)\n",
    "# toolbox.register(\"select\", tools.selTournament, tournsize=7)\n",
    "# toolbox.register(\"mate\", gp.cxOnePoint)\n",
    "# toolbox.register(\"expr_mut\", gp.genFull, min_=0, max_=2)\n",
    "# toolbox.register(\"mutate\", gp.mutUniform, expr=toolbox.expr_mut, pset=pset)\n",
    "\n",
    "# def main():\n",
    "#     np.random.seed(69)\n",
    "    \n",
    "#     pop = toolbox.population(n=100)\n",
    "#     hof = tools.HallOfFame(1)\n",
    "#     stats = tools.Statistics(lambda ind: ind.fitness.values)\n",
    "#     stats.register(\"avg\", np.mean)\n",
    "#     stats.register(\"std\", np.std)\n",
    "#     stats.register(\"min\", np.min)\n",
    "#     stats.register(\"max\", np.max)\n",
    "    \n",
    "#     algorithms.eaSimple(pop, toolbox, 0.5, 0.2, 40, stats, halloffame=hof)\n",
    "    \n",
    "#     return pop, hof, stats\n",
    "\n"
   ]
  },
  {
   "cell_type": "code",
   "execution_count": 11,
   "metadata": {
    "collapsed": false
   },
   "outputs": [
    {
     "ename": "IndexError",
     "evalue": "The gp.generate function tried to add a terminal of type '<type 'NoneType'>', but there is none available.",
     "output_type": "error",
     "traceback": [
      "\u001b[0;31m---------------------------------------------------------------------------\u001b[0m",
      "\u001b[0;31mIndexError\u001b[0m                                Traceback (most recent call last)",
      "\u001b[0;32m<ipython-input-11-49a02afea933>\u001b[0m in \u001b[0;36m<module>\u001b[0;34m()\u001b[0m\n\u001b[0;32m----> 1\u001b[0;31m \u001b[0mtree\u001b[0m \u001b[0;34m=\u001b[0m \u001b[0mtoolbox\u001b[0m\u001b[0;34m.\u001b[0m\u001b[0mindividual\u001b[0m\u001b[0;34m(\u001b[0m\u001b[0;34m)\u001b[0m\u001b[0;34m\u001b[0m\u001b[0m\n\u001b[0m\u001b[1;32m      2\u001b[0m \u001b[0;34m\u001b[0m\u001b[0m\n\u001b[1;32m      3\u001b[0m \u001b[0mroutine\u001b[0m \u001b[0;34m=\u001b[0m \u001b[0mgp\u001b[0m\u001b[0;34m.\u001b[0m\u001b[0mcompile\u001b[0m\u001b[0;34m(\u001b[0m\u001b[0mtree\u001b[0m\u001b[0;34m,\u001b[0m \u001b[0mpset\u001b[0m\u001b[0;34m)\u001b[0m\u001b[0;34m\u001b[0m\u001b[0m\n\u001b[1;32m      4\u001b[0m \u001b[0;34m\u001b[0m\u001b[0m\n\u001b[1;32m      5\u001b[0m \u001b[0mconfig\u001b[0m\u001b[0;34m.\u001b[0m\u001b[0mrun\u001b[0m\u001b[0;34m(\u001b[0m\u001b[0mroutine\u001b[0m\u001b[0;34m)\u001b[0m\u001b[0;34m\u001b[0m\u001b[0m\n",
      "\u001b[0;32m/home/pchambers/anaconda2/lib/python2.7/site-packages/deap/tools/init.pyc\u001b[0m in \u001b[0;36minitIterate\u001b[0;34m(container, generator)\u001b[0m\n\u001b[1;32m     47\u001b[0m     \u001b[0mmore\u001b[0m \u001b[0mexamples\u001b[0m\u001b[0;34m.\u001b[0m\u001b[0;34m\u001b[0m\u001b[0m\n\u001b[1;32m     48\u001b[0m     \"\"\"\n\u001b[0;32m---> 49\u001b[0;31m     \u001b[0;32mreturn\u001b[0m \u001b[0mcontainer\u001b[0m\u001b[0;34m(\u001b[0m\u001b[0mgenerator\u001b[0m\u001b[0;34m(\u001b[0m\u001b[0;34m)\u001b[0m\u001b[0;34m)\u001b[0m\u001b[0;34m\u001b[0m\u001b[0m\n\u001b[0m\u001b[1;32m     50\u001b[0m \u001b[0;34m\u001b[0m\u001b[0m\n\u001b[1;32m     51\u001b[0m \u001b[0;32mdef\u001b[0m \u001b[0minitCycle\u001b[0m\u001b[0;34m(\u001b[0m\u001b[0mcontainer\u001b[0m\u001b[0;34m,\u001b[0m \u001b[0mseq_func\u001b[0m\u001b[0;34m,\u001b[0m \u001b[0mn\u001b[0m\u001b[0;34m=\u001b[0m\u001b[0;36m1\u001b[0m\u001b[0;34m)\u001b[0m\u001b[0;34m:\u001b[0m\u001b[0;34m\u001b[0m\u001b[0m\n",
      "\u001b[0;32m/home/pchambers/anaconda2/lib/python2.7/site-packages/deap/gp.pyc\u001b[0m in \u001b[0;36mgenFull\u001b[0;34m(pset, min_, max_, type_)\u001b[0m\n\u001b[1;32m    499\u001b[0m         \u001b[0;34m\"\"\"Expression generation stops when the depth is equal to height.\"\"\"\u001b[0m\u001b[0;34m\u001b[0m\u001b[0m\n\u001b[1;32m    500\u001b[0m         \u001b[0;32mreturn\u001b[0m \u001b[0mdepth\u001b[0m \u001b[0;34m==\u001b[0m \u001b[0mheight\u001b[0m\u001b[0;34m\u001b[0m\u001b[0m\n\u001b[0;32m--> 501\u001b[0;31m     \u001b[0;32mreturn\u001b[0m \u001b[0mgenerate\u001b[0m\u001b[0;34m(\u001b[0m\u001b[0mpset\u001b[0m\u001b[0;34m,\u001b[0m \u001b[0mmin_\u001b[0m\u001b[0;34m,\u001b[0m \u001b[0mmax_\u001b[0m\u001b[0;34m,\u001b[0m \u001b[0mcondition\u001b[0m\u001b[0;34m,\u001b[0m \u001b[0mtype_\u001b[0m\u001b[0;34m)\u001b[0m\u001b[0;34m\u001b[0m\u001b[0m\n\u001b[0m\u001b[1;32m    502\u001b[0m \u001b[0;34m\u001b[0m\u001b[0m\n\u001b[1;32m    503\u001b[0m \u001b[0;32mdef\u001b[0m \u001b[0mgenGrow\u001b[0m\u001b[0;34m(\u001b[0m\u001b[0mpset\u001b[0m\u001b[0;34m,\u001b[0m \u001b[0mmin_\u001b[0m\u001b[0;34m,\u001b[0m \u001b[0mmax_\u001b[0m\u001b[0;34m,\u001b[0m \u001b[0mtype_\u001b[0m\u001b[0;34m=\u001b[0m\u001b[0mNone\u001b[0m\u001b[0;34m)\u001b[0m\u001b[0;34m:\u001b[0m\u001b[0;34m\u001b[0m\u001b[0m\n",
      "\u001b[0;32m/home/pchambers/anaconda2/lib/python2.7/site-packages/deap/gp.pyc\u001b[0m in \u001b[0;36mgenerate\u001b[0;34m(pset, min_, max_, condition, type_)\u001b[0m\n\u001b[1;32m    569\u001b[0m         \u001b[0;32mif\u001b[0m \u001b[0mcondition\u001b[0m\u001b[0;34m(\u001b[0m\u001b[0mheight\u001b[0m\u001b[0;34m,\u001b[0m \u001b[0mdepth\u001b[0m\u001b[0;34m)\u001b[0m\u001b[0;34m:\u001b[0m\u001b[0;34m\u001b[0m\u001b[0m\n\u001b[1;32m    570\u001b[0m             \u001b[0;32mtry\u001b[0m\u001b[0;34m:\u001b[0m\u001b[0;34m\u001b[0m\u001b[0m\n\u001b[0;32m--> 571\u001b[0;31m                 \u001b[0mterm\u001b[0m \u001b[0;34m=\u001b[0m \u001b[0mrandom\u001b[0m\u001b[0;34m.\u001b[0m\u001b[0mchoice\u001b[0m\u001b[0;34m(\u001b[0m\u001b[0mpset\u001b[0m\u001b[0;34m.\u001b[0m\u001b[0mterminals\u001b[0m\u001b[0;34m[\u001b[0m\u001b[0mtype_\u001b[0m\u001b[0;34m]\u001b[0m\u001b[0;34m)\u001b[0m\u001b[0;34m\u001b[0m\u001b[0m\n\u001b[0m\u001b[1;32m    572\u001b[0m             \u001b[0;32mexcept\u001b[0m \u001b[0mIndexError\u001b[0m\u001b[0;34m:\u001b[0m\u001b[0;34m\u001b[0m\u001b[0m\n\u001b[1;32m    573\u001b[0m                 \u001b[0m_\u001b[0m\u001b[0;34m,\u001b[0m \u001b[0m_\u001b[0m\u001b[0;34m,\u001b[0m \u001b[0mtraceback\u001b[0m \u001b[0;34m=\u001b[0m \u001b[0msys\u001b[0m\u001b[0;34m.\u001b[0m\u001b[0mexc_info\u001b[0m\u001b[0;34m(\u001b[0m\u001b[0;34m)\u001b[0m\u001b[0;34m\u001b[0m\u001b[0m\n",
      "\u001b[0;32m/home/pchambers/anaconda2/lib/python2.7/random.pyc\u001b[0m in \u001b[0;36mchoice\u001b[0;34m(self, seq)\u001b[0m\n\u001b[1;32m    273\u001b[0m     \u001b[0;32mdef\u001b[0m \u001b[0mchoice\u001b[0m\u001b[0;34m(\u001b[0m\u001b[0mself\u001b[0m\u001b[0;34m,\u001b[0m \u001b[0mseq\u001b[0m\u001b[0;34m)\u001b[0m\u001b[0;34m:\u001b[0m\u001b[0;34m\u001b[0m\u001b[0m\n\u001b[1;32m    274\u001b[0m         \u001b[0;34m\"\"\"Choose a random element from a non-empty sequence.\"\"\"\u001b[0m\u001b[0;34m\u001b[0m\u001b[0m\n\u001b[0;32m--> 275\u001b[0;31m         \u001b[0;32mreturn\u001b[0m \u001b[0mseq\u001b[0m\u001b[0;34m[\u001b[0m\u001b[0mint\u001b[0m\u001b[0;34m(\u001b[0m\u001b[0mself\u001b[0m\u001b[0;34m.\u001b[0m\u001b[0mrandom\u001b[0m\u001b[0;34m(\u001b[0m\u001b[0;34m)\u001b[0m \u001b[0;34m*\u001b[0m \u001b[0mlen\u001b[0m\u001b[0;34m(\u001b[0m\u001b[0mseq\u001b[0m\u001b[0;34m)\u001b[0m\u001b[0;34m)\u001b[0m\u001b[0;34m]\u001b[0m  \u001b[0;31m# raises IndexError if seq is empty\u001b[0m\u001b[0;34m\u001b[0m\u001b[0m\n\u001b[0m\u001b[1;32m    276\u001b[0m \u001b[0;34m\u001b[0m\u001b[0m\n\u001b[1;32m    277\u001b[0m     \u001b[0;32mdef\u001b[0m \u001b[0mshuffle\u001b[0m\u001b[0;34m(\u001b[0m\u001b[0mself\u001b[0m\u001b[0;34m,\u001b[0m \u001b[0mx\u001b[0m\u001b[0;34m,\u001b[0m \u001b[0mrandom\u001b[0m\u001b[0;34m=\u001b[0m\u001b[0mNone\u001b[0m\u001b[0;34m)\u001b[0m\u001b[0;34m:\u001b[0m\u001b[0;34m\u001b[0m\u001b[0m\n",
      "\u001b[0;31mIndexError\u001b[0m: The gp.generate function tried to add a terminal of type '<type 'NoneType'>', but there is none available."
     ]
    }
   ],
   "source": [
    "tree = toolbox.individual()\n",
    "\n",
    "routine = gp.compile(tree, pset)\n",
    "\n",
    "config.run(routine)\n",
    "\n",
    "print(tree)\n",
    "\n",
    "from airconics.Addons.WebServer.TornadoWeb import TornadoWebRenderer\n",
    "\n",
    "render = TornadoWebRenderer()\n",
    "\n",
    "config.Display(renderer)"
   ]
  },
  {
   "cell_type": "code",
   "execution_count": 12,
   "metadata": {
    "collapsed": false
   },
   "outputs": [
    {
     "ename": "NameError",
     "evalue": "name 'tree' is not defined",
     "output_type": "error",
     "traceback": [
      "\u001b[0;31m---------------------------------------------------------------------------\u001b[0m",
      "\u001b[0;31mNameError\u001b[0m                                 Traceback (most recent call last)",
      "\u001b[0;32m<ipython-input-12-e1d1c1b689e0>\u001b[0m in \u001b[0;36m<module>\u001b[0;34m()\u001b[0m\n\u001b[0;32m----> 1\u001b[0;31m \u001b[0mroutine\u001b[0m \u001b[0;34m=\u001b[0m \u001b[0mgp\u001b[0m\u001b[0;34m.\u001b[0m\u001b[0mcompile\u001b[0m\u001b[0;34m(\u001b[0m\u001b[0mtree\u001b[0m\u001b[0;34m,\u001b[0m \u001b[0mpset\u001b[0m\u001b[0;34m)\u001b[0m\u001b[0;34m\u001b[0m\u001b[0m\n\u001b[0m\u001b[1;32m      2\u001b[0m \u001b[0;34m\u001b[0m\u001b[0m\n\u001b[1;32m      3\u001b[0m \u001b[0mconfig\u001b[0m\u001b[0;34m.\u001b[0m\u001b[0mrun\u001b[0m\u001b[0;34m(\u001b[0m\u001b[0mroutine\u001b[0m\u001b[0;34m)\u001b[0m\u001b[0;34m\u001b[0m\u001b[0m\n\u001b[1;32m      4\u001b[0m \u001b[0;32mfrom\u001b[0m \u001b[0mairconics\u001b[0m\u001b[0;34m.\u001b[0m\u001b[0mAddons\u001b[0m\u001b[0;34m.\u001b[0m\u001b[0mWebServer\u001b[0m\u001b[0;34m.\u001b[0m\u001b[0mTornadoWeb\u001b[0m \u001b[0;32mimport\u001b[0m \u001b[0mTornadoWebRenderer\u001b[0m\u001b[0;34m\u001b[0m\u001b[0m\n\u001b[1;32m      5\u001b[0m \u001b[0;34m\u001b[0m\u001b[0m\n",
      "\u001b[0;31mNameError\u001b[0m: name 'tree' is not defined"
     ]
    }
   ],
   "source": [
    "routine = gp.compile(tree, pset)\n",
    "\n",
    "config.run(routine)\n",
    "from airconics.Addons.WebServer.TornadoWeb import TornadoWebRenderer\n",
    "\n",
    "render = TornadoWebRenderer()\n",
    "\n",
    "config.Display(renderer)"
   ]
  },
  {
   "cell_type": "code",
   "execution_count": 23,
   "metadata": {
    "collapsed": false
   },
   "outputs": [
    {
     "name": "stdout",
     "output_type": "stream",
     "text": [
      "Skipping geometry construction for Box\n",
      "['box1']\n"
     ]
    },
    {
     "data": {
      "text/html": [
       "\n",
       "<div id='placeholder_14125560e1e6407b8663501d5e9825ae'></div>\n",
       "<script type='text/javascript'>\n",
       "    var iframe = document.createElement('iframe');\n",
       "    iframe.style.border = 'none';\n",
       "    iframe.style.width = '100%';\n",
       "    iframe.style.height = '600px';\n",
       "    iframe.src = window.location.protocol + '//' + window.location.hostname + ':44678/get/14125560e1e6407b8663501d5e9825ae/';\n",
       "    document.getElementById('placeholder_14125560e1e6407b8663501d5e9825ae').appendChild(iframe);\n",
       "</script>\n"
      ],
      "text/plain": [
       "<TornadoWebRenderer at http://PChambers_ngcm:44678/get/14125560e1e6407b8663501d5e9825ae>"
      ]
     },
     "execution_count": 23,
     "metadata": {},
     "output_type": "execute_result"
    }
   ],
   "source": [
    "def make_box(xmin, ymin, zmin, dx, dy, dz):\n",
    "    def box0():\n",
    "        global config\n",
    "        config.box0(xmin, ymin, zmin, dx, dy, dz)\n",
    "    return box0\n",
    "\n",
    "out1 = make_box(1, 1, 1, 1, 1, 1)\n",
    "\n",
    "p = config.box1(0,0,0,1,1,1, out1)\n",
    "\n",
    "from airconics.Addons.WebServer.TornadoWeb import TornadoWebRenderer\n",
    "\n",
    "renderer = TornadoWebRenderer()\n",
    "\n",
    "print(config)\n",
    "config.Display(renderer)\n",
    "\n",
    "renderer"
   ]
  },
  {
   "cell_type": "code",
   "execution_count": 15,
   "metadata": {
    "collapsed": false,
    "scrolled": true
   },
   "outputs": [
    {
     "data": {
      "text/plain": [
       "__main__.Box"
      ]
     },
     "execution_count": 15,
     "metadata": {},
     "output_type": "execute_result"
    }
   ],
   "source": [
    "type(config['box1'])"
   ]
  },
  {
   "cell_type": "code",
   "execution_count": null,
   "metadata": {
    "collapsed": false
   },
   "outputs": [],
   "source": []
  },
  {
   "cell_type": "code",
   "execution_count": 16,
   "metadata": {
    "collapsed": false
   },
   "outputs": [
    {
     "name": "stdout",
     "output_type": "stream",
     "text": [
      "Help on class PrimitiveSetTyped in module deap.gp:\n",
      "\n",
      "class PrimitiveSetTyped(__builtin__.object)\n",
      " |  Class that contains the primitives that can be used to solve a\n",
      " |  Strongly Typed GP problem. The set also defined the researched\n",
      " |  function return type, and input arguments type and number.\n",
      " |  \n",
      " |  Methods defined here:\n",
      " |  \n",
      " |  __init__(self, name, in_types, ret_type, prefix='ARG')\n",
      " |  \n",
      " |  addADF(self, adfset)\n",
      " |      Add an Automatically Defined Function (ADF) to the set.\n",
      " |      \n",
      " |      :param adfset: PrimitiveSetTyped containing the primitives with which\n",
      " |                     the ADF can be built.\n",
      " |  \n",
      " |  addEphemeralConstant(self, name, ephemeral, ret_type)\n",
      " |      Add an ephemeral constant to the set. An ephemeral constant\n",
      " |      is a no argument function that returns a random value. The value\n",
      " |      of the constant is constant for a Tree, but may differ from one\n",
      " |      Tree to another.\n",
      " |      \n",
      " |      :param name: name used to refers to this ephemeral type.\n",
      " |      :param ephemeral: function with no arguments returning a random value.\n",
      " |      :param ret_type: type of the object returned by *ephemeral*.\n",
      " |  \n",
      " |  addPrimitive(self, primitive, in_types, ret_type, name=None)\n",
      " |      Add a primitive to the set.\n",
      " |      \n",
      " |      :param primitive: callable object or a function.\n",
      " |      :parma in_types: list of primitives arguments' type\n",
      " |      :param ret_type: type returned by the primitive.\n",
      " |      :param name: alternative name for the primitive instead\n",
      " |                   of its __name__ attribute.\n",
      " |  \n",
      " |  addTerminal(self, terminal, ret_type, name=None)\n",
      " |      Add a terminal to the set. Terminals can be named\n",
      " |      using the optional *name* argument. This should be\n",
      " |      used : to define named constant (i.e.: pi); to speed the\n",
      " |      evaluation time when the object is long to build; when\n",
      " |      the object does not have a __repr__ functions that returns\n",
      " |      the code to build the object; when the object class is\n",
      " |      not a Python built-in.\n",
      " |      \n",
      " |      :param terminal: Object, or a function with no arguments.\n",
      " |      :param ret_type: Type of the terminal.\n",
      " |      :param name: defines the name of the terminal in the expression.\n",
      " |  \n",
      " |  renameArguments(self, **kargs)\n",
      " |      Rename function arguments with new names from *kargs*.\n",
      " |  \n",
      " |  ----------------------------------------------------------------------\n",
      " |  Data descriptors defined here:\n",
      " |  \n",
      " |  __dict__\n",
      " |      dictionary for instance variables (if defined)\n",
      " |  \n",
      " |  __weakref__\n",
      " |      list of weak references to the object (if defined)\n",
      " |  \n",
      " |  terminalRatio\n",
      " |      Return the ratio of the number of terminals on the number of all\n",
      " |      kind of primitives.\n",
      "\n"
     ]
    }
   ],
   "source": [
    "help(gp.PrimitiveSetTyped)"
   ]
  },
  {
   "cell_type": "code",
   "execution_count": 17,
   "metadata": {
    "collapsed": false
   },
   "outputs": [
    {
     "name": "stdout",
     "output_type": "stream",
     "text": [
      "Help on class PrimitiveSet in module deap.gp:\n",
      "\n",
      "class PrimitiveSet(PrimitiveSetTyped)\n",
      " |  Class same as :class:`~deap.gp.PrimitiveSetTyped`, except there is no\n",
      " |  definition of type.\n",
      " |  \n",
      " |  Method resolution order:\n",
      " |      PrimitiveSet\n",
      " |      PrimitiveSetTyped\n",
      " |      __builtin__.object\n",
      " |  \n",
      " |  Methods defined here:\n",
      " |  \n",
      " |  __init__(self, name, arity, prefix='ARG')\n",
      " |  \n",
      " |  addEphemeralConstant(self, name, ephemeral)\n",
      " |      Add an ephemeral constant to the set.\n",
      " |  \n",
      " |  addPrimitive(self, primitive, arity, name=None)\n",
      " |      Add primitive *primitive* with arity *arity* to the set.\n",
      " |      If a name *name* is provided, it will replace the attribute __name__\n",
      " |      attribute to represent/identify the primitive.\n",
      " |  \n",
      " |  addTerminal(self, terminal, name=None)\n",
      " |      Add a terminal to the set.\n",
      " |  \n",
      " |  ----------------------------------------------------------------------\n",
      " |  Methods inherited from PrimitiveSetTyped:\n",
      " |  \n",
      " |  addADF(self, adfset)\n",
      " |      Add an Automatically Defined Function (ADF) to the set.\n",
      " |      \n",
      " |      :param adfset: PrimitiveSetTyped containing the primitives with which\n",
      " |                     the ADF can be built.\n",
      " |  \n",
      " |  renameArguments(self, **kargs)\n",
      " |      Rename function arguments with new names from *kargs*.\n",
      " |  \n",
      " |  ----------------------------------------------------------------------\n",
      " |  Data descriptors inherited from PrimitiveSetTyped:\n",
      " |  \n",
      " |  __dict__\n",
      " |      dictionary for instance variables (if defined)\n",
      " |  \n",
      " |  __weakref__\n",
      " |      list of weak references to the object (if defined)\n",
      " |  \n",
      " |  terminalRatio\n",
      " |      Return the ratio of the number of terminals on the number of all\n",
      " |      kind of primitives.\n",
      "\n"
     ]
    }
   ],
   "source": [
    "help(gp.PrimitiveSet)"
   ]
  },
  {
   "cell_type": "code",
   "execution_count": 18,
   "metadata": {
    "collapsed": false
   },
   "outputs": [
    {
     "name": "stdout",
     "output_type": "stream",
     "text": [
      "repeat(<type 'float'>, 57)\n",
      "<type 'function'>\n"
     ]
    }
   ],
   "source": [
    "import itertools\n",
    "\n",
    "r = [itertools.repeat(float, 57)] + [funct]\n",
    "\n",
    "for entry in r:\n",
    "    print(entry)"
   ]
  },
  {
   "cell_type": "code",
   "execution_count": 19,
   "metadata": {
    "collapsed": false
   },
   "outputs": [
    {
     "data": {
      "text/plain": [
       "NoneType"
      ]
     },
     "execution_count": 19,
     "metadata": {},
     "output_type": "execute_result"
    }
   ],
   "source": [
    "type(None)"
   ]
  },
  {
   "cell_type": "code",
   "execution_count": 21,
   "metadata": {
    "collapsed": false
   },
   "outputs": [
    {
     "data": {
      "text/html": [
       "\n",
       "<div id='placeholder_c21b0223fb084f24839ab7b9c2b06a4f'></div>\n",
       "<script type='text/javascript'>\n",
       "    var iframe = document.createElement('iframe');\n",
       "    iframe.style.border = 'none';\n",
       "    iframe.style.width = '100%';\n",
       "    iframe.style.height = '600px';\n",
       "    iframe.src = window.location.protocol + '//' + window.location.hostname + ':40148/get/c21b0223fb084f24839ab7b9c2b06a4f/';\n",
       "    document.getElementById('placeholder_c21b0223fb084f24839ab7b9c2b06a4f').appendChild(iframe);\n",
       "</script>\n"
      ],
      "text/plain": [
       "<TornadoWebRenderer at http://PChambers_ngcm:40148/get/c21b0223fb084f24839ab7b9c2b06a4f>"
      ]
     },
     "execution_count": 21,
     "metadata": {},
     "output_type": "execute_result"
    }
   ],
   "source": [
    "from airconics.Addons.WebServer.TornadoWeb import TornadoWebRenderer\n",
    "\n",
    "renderer = TornadoWebRenderer()\n",
    "# b = Box(0,0,0,1,1,1)\n",
    "box = BRepPrimAPI_MakeBox(gp_Pnt(0,0,0), gp_Pnt(1,1,1)).Shape()\n",
    "renderer.DisplayShape(box)\n",
    "renderer"
   ]
  },
  {
   "cell_type": "code",
   "execution_count": null,
   "metadata": {
    "collapsed": true
   },
   "outputs": [],
   "source": []
  }
 ],
 "metadata": {
  "anaconda-cloud": {},
  "kernelspec": {
   "display_name": "Python [conda root]",
   "language": "python",
   "name": "conda-root-py"
  },
  "language_info": {
   "codemirror_mode": {
    "name": "ipython",
    "version": 2
   },
   "file_extension": ".py",
   "mimetype": "text/x-python",
   "name": "python",
   "nbconvert_exporter": "python",
   "pygments_lexer": "ipython2",
   "version": "2.7.12"
  }
 },
 "nbformat": 4,
 "nbformat_minor": 1
}
