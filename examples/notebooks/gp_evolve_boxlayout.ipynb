{
 "cells": [
  {
   "cell_type": "markdown",
   "metadata": {},
   "source": [
    "# Aircraft Configuration GP example"
   ]
  },
  {
   "cell_type": "markdown",
   "metadata": {},
   "source": [
    "This notebook is designed to test whether a simple simple comprised of bounding boxes can be generated using [deap](http://deap.readthedocs.io/en/master/api/tools.html), a Python Evolutionary Algorithm Package."
   ]
  },
  {
   "cell_type": "code",
   "execution_count": null,
   "metadata": {
    "collapsed": false,
    "scrolled": false
   },
   "outputs": [],
   "source": [
    "import numpy as np\n",
    "import pydot\n",
    "from airconics.topology import Topology_GPTools\n",
    "\n",
    "from IPython.display import Image, display"
   ]
  },
  {
   "cell_type": "code",
   "execution_count": null,
   "metadata": {
    "collapsed": false,
    "scrolled": false
   },
   "outputs": [],
   "source": [
    "topo_tools = Topology_GPTools()\n",
    "# Try to compile a single individual and visualise both the tree and geometry\n",
    "config = topo_tools.randomize()\n",
    "\n",
    "print(config)\n",
    "\n",
    "from airconics.Addons.WebServer.TornadoWeb import TornadoWebRenderer\n",
    "\n",
    "renderer = TornadoWebRenderer()\n",
    "\n",
    "config.Display(renderer)\n",
    "\n",
    "renderer"
   ]
  },
  {
   "cell_type": "code",
   "execution_count": null,
   "metadata": {
    "collapsed": false
   },
   "outputs": [],
   "source": [
    "Image(config.pydot_graph().create_png())"
   ]
  },
  {
   "cell_type": "code",
   "execution_count": null,
   "metadata": {
    "collapsed": false
   },
   "outputs": [],
   "source": [
    "expr_string = \"\"\"fuselage1(0., 0., 0., 1.0, 0.182, 0.293, 0.5, mirror2(\n",
    "    liftingsurface0(0., 0., 0., 1., 0.68, 0., AirlinerTP),\n",
    "    liftingsurface0(0.55, 0., 0., 1., 0.5, 0.28, AirlinerFin)))\"\"\"\n",
    "config2 = topo_tools.from_string(expr_string)\n",
    "\n",
    "print(config2)\n",
    "\n",
    "from airconics.Addons.WebServer.TornadoWeb import TornadoWebRenderer\n",
    "\n",
    "renderer = TornadoWebRenderer()\n",
    "\n",
    "config2.Display(renderer)\n",
    "\n",
    "renderer\n",
    "\n"
   ]
  },
  {
   "cell_type": "code",
   "execution_count": null,
   "metadata": {
    "collapsed": false
   },
   "outputs": [],
   "source": [
    "# config2.Write('GP_output.step')\n",
    "graph = config2.pydot_graph()\n",
    "Image(graph.create_png())\n",
    "\n",
    "repr(config2._deap_tree)"
   ]
  },
  {
   "cell_type": "code",
   "execution_count": null,
   "metadata": {
    "collapsed": false
   },
   "outputs": [],
   "source": [
    "# For now, I'll have to do this by hand...\n",
    "graph = \"\"\"digraph G {\n",
    "ranksep=\"0.1\";\n",
    "nodesep=\"0.1\";\n",
    "# splines=ortho;\n",
    "node [style=filled];\n",
    "edge [arrowhead=none];\n",
    "subgraph cluster_standard {\n",
    "color=invis;\n",
    "0 [shape=ellipse, fillcolor=\"#136ed4\", label=fuselage1, fontcolor=\"white\"];\n",
    "1 [shape=ellipse, label=<X<SUB>0</SUB>>];\n",
    "2 [shape=ellipse, label=<Y<SUB>0</SUB>>];\n",
    "3 [shape=ellipse, label=<Z<SUB>0</SUB>>];\n",
    "4 [shape=ellipse, label=<SF>];\n",
    "5 [shape=ellipse, label=<L<SUB>N</SUB>/L>];\n",
    "6 [shape=ellipse, label=<L<SUB>T</SUB>/L>];\n",
    "7 [shape=ellipse, label=\"L/D\"];\n",
    "8 [shape=box, fillcolor=\"#136ed4\", label=\"mirror2\", fontcolor=\"white\"];\n",
    "}\n",
    "\n",
    "subgraph cluster_mirrored {\n",
    "style=dashed;\n",
    "9 [shape=box, fillcolor=\"#136ed4\", label=liftingsurface0, fontcolor=\"white\"];\n",
    "10 [shape=ellipse, label=<<O>X</O><SUB>1</SUB>>];\n",
    "11 [shape=ellipse, label=<<O>Y</O><SUB>1</SUB>>];\n",
    "12 [shape=ellipse, label=<<O>Z</O><SUB>1</SUB>>];\n",
    "13 [shape=ellipse, label=<<O>SF</O><SUB>1</SUB>>];\n",
    "20 [shape=ellipse, label=<Shape_functs<SUB>1</SUB>>];\n",
    "\n",
    "rank=same;\n",
    "14 [shape=box, fillcolor=\"#136ed4\", label=liftingsurface0, fontcolor=\"white\"];\n",
    "15 [shape=ellipse, label=<<O>X</O><SUB>2</SUB>>];\n",
    "16 [shape=ellipse, label=<<O>Y</O><SUB>2</SUB>>];\n",
    "17 [shape=ellipse, label=<<O>Z</O><SUB>2</SUB>>];\n",
    "18 [shape=ellipse, label=<<O>SF</O><SUB>2</SUB>>];\n",
    "21 [shape=ellipse, label=<Shape_functs<SUB>2</SUB>>];\n",
    "}\n",
    "\n",
    "0 -> 8;\n",
    "8-> 9;\n",
    "8 -> 14;\n",
    "\n",
    "0 -> 1;\n",
    "0 -> 2;\n",
    "0 -> 3;\n",
    "0 -> 4;\n",
    "0 -> 5;\n",
    "0 -> 6;\n",
    "0 -> 7;\n",
    "# 0 -> 9;\n",
    "# 0 -> 14;\n",
    "9 -> 10;\n",
    "9 -> 11;\n",
    "9 -> 12;\n",
    "9 -> 13;\n",
    "9-> 20;\n",
    "14 -> 15;\n",
    "14 -> 16;\n",
    "14 -> 17;\n",
    "14 -> 18;\n",
    "14->21;\n",
    "}\n",
    "\"\"\"\n",
    "dotgraph = pydot.graph_from_dot_data(graph)\n",
    "# dotgraph.write_svg('/home/pchambers/Documents/PhD/SABTalk_2017/images/tree1.svg')\n",
    "Image(dotgraph.create_png())"
   ]
  },
  {
   "cell_type": "code",
   "execution_count": null,
   "metadata": {
    "collapsed": false
   },
   "outputs": [],
   "source": [
    "# dotgraph.write_pdf('/home/pchambers/Documents/PhD/Aviation2017/aviation_2017_paper/figure/gplayout_tree2.pdf')"
   ]
  },
  {
   "cell_type": "markdown",
   "metadata": {},
   "source": [
    "## Conventional Airliner"
   ]
  },
  {
   "cell_type": "code",
   "execution_count": null,
   "metadata": {
    "collapsed": false
   },
   "outputs": [],
   "source": [
    "expr_string = \"\"\"fuselage2(0.3, 0., 0., 1., 0.293, 0.183, 0.38, \n",
    "            liftingsurface0(0.6, 0., 0.2, 1., 0.42, 1.0, AirlinerFin) mirror2(\n",
    "                liftingsurface0(0.65, 0., 0.2, 1., 0.42, 0., AirlinerTP), liftingsurface0( 0.1, 0., 0.05, 1., 0.8, 0., AirlinerWing)))\"\"\"\n",
    "\n",
    "topo = topo_tools.from_string(expr_string)\n",
    "\n",
    "renderer = TornadoWebRenderer()\n",
    "\n",
    "topo.Display(renderer)\n",
    "\n",
    "display(Image(topo.pydot_graph().create_png()))\n",
    "\n",
    "renderer"
   ]
  },
  {
   "cell_type": "markdown",
   "metadata": {},
   "source": [
    "## General Atomics MQ-1 Predator"
   ]
  },
  {
   "cell_type": "code",
   "execution_count": null,
   "metadata": {
    "collapsed": false
   },
   "outputs": [],
   "source": [
    "# Need to extend the maximum number of attachments for the predator:\n",
    "topo_tools = Topology_GPTools(MaxAttachments=4)\n",
    "\n",
    "expr_string = \"\"\"fuselage2(0.4, 0., 0., 1., 0.293, 0.183, 0.6, \n",
    "            liftingsurface0(0.85, 0., 0.3, 0.9, 0.035, -1.0, StraightWing) mirror2(\n",
    "                liftingsurface0(0.85, 0., 0.3, 0.65, 0.09, -0.6, StraightWing), liftingsurface0(0.4, 0., 0.05, 0.233, 0.8, -0.1, TaperedWing)))\"\"\"\n",
    "\n",
    "topo = topo_tools.from_string(expr_string)\n",
    "\n",
    "renderer = TornadoWebRenderer()\n",
    "\n",
    "topo.Display(renderer)\n",
    "\n",
    "display(Image(topo.pydot_graph().create_png()))\n",
    "\n",
    "renderer"
   ]
  },
  {
   "cell_type": "markdown",
   "metadata": {},
   "source": [
    "### Using Topology Preset strings:\n"
   ]
  },
  {
   "cell_type": "code",
   "execution_count": null,
   "metadata": {
    "collapsed": false
   },
   "outputs": [],
   "source": [
    "topo_tools = Topology_GPTools(MaxAttachments=4)\n",
    "\n",
    "topo = topo_tools.from_string(preset='predator')\n",
    "\n",
    "renderer = TornadoWebRenderer()\n",
    "\n",
    "topo.Display(renderer)\n",
    "\n",
    "display(Image(topo.pydot_graph().create_png()))\n",
    "\n",
    "renderer"
   ]
  }
 ],
 "metadata": {
  "anaconda-cloud": {},
  "kernelspec": {
   "display_name": "Python [conda root]",
   "language": "python",
   "name": "conda-root-py"
  },
  "language_info": {
   "codemirror_mode": {
    "name": "ipython",
    "version": 2
   },
   "file_extension": ".py",
   "mimetype": "text/x-python",
   "name": "python",
   "nbconvert_exporter": "python",
   "pygments_lexer": "ipython2",
   "version": "2.7.12"
  }
 },
 "nbformat": 4,
 "nbformat_minor": 1
}
