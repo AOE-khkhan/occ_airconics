{
 "cells": [
  {
   "cell_type": "markdown",
   "metadata": {},
   "source": [
    "# Bounding configuration GP example"
   ]
  },
  {
   "cell_type": "markdown",
   "metadata": {},
   "source": [
    "This notebook is designed to test whether a simple simple comprised of bounding boxes can be generated using [deap](http://deap.readthedocs.io/en/master/api/tools.html), a Python Evolutionary Algorithm Package."
   ]
  },
  {
   "cell_type": "code",
   "execution_count": 1,
   "metadata": {
    "collapsed": true
   },
   "outputs": [],
   "source": [
    "import copy\n",
    "\n",
    "import numpy as np\n",
    "\n",
    "from functools import partial\n",
    "\n",
    "from deap import algorithms\n",
    "from deap import base\n",
    "from deap import creator\n",
    "from deap import tools\n",
    "from deap import gp\n"
   ]
  },
  {
   "cell_type": "code",
   "execution_count": 2,
   "metadata": {
    "collapsed": false
   },
   "outputs": [],
   "source": [
    "# def progn(*args):\n",
    "#     for arg in args:\n",
    "#         arg()\n",
    "\n",
    "# def prog2(out1, out2): \n",
    "#     return partial(progn,out1,out2)\n",
    "\n",
    "# def prog3(out1, out2, out3):     \n",
    "#     return partial(progn,out1,out2,out3)\n",
    "\n",
    "# def if_then_else(condition, out1, out2):\n",
    "#     out1() if condition() else out2()\n",
    "\n"
   ]
  },
  {
   "cell_type": "code",
   "execution_count": 3,
   "metadata": {
    "collapsed": false
   },
   "outputs": [],
   "source": [
    "from OCC.gp import gp_Pnt\n",
    "from airconics.base import AirconicsShape, AirconicsCollection\n",
    "import OCC\n",
    "from airconics import AirCONICStools as act\n",
    "from OCC.BRepPrimAPI import BRepPrimAPI_MakeBox\n",
    "\n",
    "\n",
    "# Create a simple Box class that inherits from AirconicsShape\n",
    "#  - this will behave similarly to the Engine, Fuselage class etc.\n",
    "class Box(AirconicsShape):\n",
    "    def __init__(self, xmin, ymin, zmin, dx, dy, dz):\n",
    "        # This implicitly calls build\n",
    "        super(Box, self).__init__(construct_geometry=True,\n",
    "                                             xmin=xmin,\n",
    "                                             ymin=ymin,\n",
    "                                             zmin=zmin,\n",
    "                                             dx=dx,\n",
    "                                             dy=dy,\n",
    "                                             dz=dz)\n",
    "        \n",
    "        \n",
    "        xmin, ymin, zmin, xmax, ymax, zmax = self.Extents()\n",
    "        self.xmin = xmin\n",
    "        self.ymin = ymin\n",
    "        self.zmin = zmin\n",
    "        self.xmax = xmax\n",
    "        self.ymax = ymax\n",
    "        self.zmax = zmax\n",
    "        \n",
    "        directions = []\n",
    "        \n",
    "    def Build(self):\n",
    "        Xmin = gp_Pnt(self.xmin, self.ymin, self.zmin)\n",
    "        Xmax = gp_Pnt(self.xmin + self.dx, self.ymin + self.dy, self.zmin + self.dz)\n",
    "        self['Box'] = BRepPrimAPI_MakeBox(Xmin, Xmax).Shape()\n",
    "\n",
    "        \n",
    "\n",
    "# def progn(*args):\n",
    "#     \"\"\"LSIP progn connective\"\"\"\n",
    "#     for arg in args:\n",
    "#         arg()\n",
    "\n",
    "\n",
    "\n",
    "# def fit2(out1, out2):\n",
    "#     return partial(fitN, out1, out2)\n",
    "\n",
    "# def fit2(out1, out2):\n",
    "#     return partial(fitN, out1, out2)\n",
    "\n",
    "        \n",
    "class BoxLayout(AirconicsCollection):\n",
    "    def __init__(self):\n",
    "        \"\"\"maxcompoents is the number of components\"\"\"\n",
    "        super(BoxLayout, self).__init__(parts={}, construct_geometry=True)\n",
    "                \n",
    "        # Start with a simple box\n",
    "        self.nparts = 0\n",
    "        self.routine = None\n",
    "    \n",
    "    def run(self, routine):\n",
    "        self._reset()\n",
    "        routine()\n",
    "\n",
    "    def _reset(self):\n",
    "        self._Parts = {}\n",
    "        self.nparts = 0\n",
    "\n",
    "    def boxN(self, xmin, ymin, zmin, dx, dy, dz, *args):\n",
    "        # Fits N new components to this box layout\n",
    "        box = Box(xmin, ymin, zmin, dx, dy, dz)\n",
    "        self.nparts += 1\n",
    "        # Do no be confused between the numbering of boxes and the number of descendent\n",
    "        #  nodes: Each box needs a unique ID, so naming a box0 function \"box0\" replaces\n",
    "        #  other shapes in this layout that are also named box0\n",
    "        self['box' + str(self.nparts)] = box\n",
    "        for arg in args:\n",
    "            arg()\n",
    "    \n",
    "    def box0(self, xmin, ymin, zmin, dx, dy, dz):\n",
    "#         box = Box(xmin, ymin, zmin, dx, dy, dz)\n",
    "#         self.nparts += 1\n",
    "#         self['box0'] = box\n",
    "        return partial(self.boxN, xmin, ymin, zmin, dx, dy, dz)\n",
    "        \n",
    "    # Now we need to explicitly add the box1, box2, .... boxM functions,\n",
    "    # So that they can be added to the GP toolbox\n",
    "    def box1(self, xmin, ymin, zmin, dx, dy, dz, out1):\n",
    "#         box = Box(xmin, ymin, zmin, dx, dy, dz)\n",
    "#         self.nparts += 1\n",
    "#         self['box1'] = box\n",
    "        return partial(self.boxN, xmin, ymin, zmin, dx, dy, dz, out1)\n",
    "\n",
    "    def box2(self, xmin, ymin, zmin, dx, dy, dz, out1, out2):\n",
    "#         box = Box(xmin, ymin, zmin, dx, dy, dz)\n",
    "#         self.nparts += 1\n",
    "#         self['box2'] = box\n",
    "        return partial(self.boxN, xmin, ymin, zmin, dx, dy, dz, out1, out2)\n",
    "    \n",
    "    def temp_fitness(self):\n",
    "        \"\"\"Until I come with something useful, the fitness evaluation for this\n",
    "        configuration will be based on the bounding box volume\"\"\"\n",
    "        try:\n",
    "            xmin, ymin, zmin, xmax, ymax, zmax = self.Extents()\n",
    "        except:\n",
    "            # Bounding Box was probably void\n",
    "            return 0\n",
    "        return (xmax-xmin) * (ymax-ymin)*(zmax-zmin)\n"
   ]
  },
  {
   "cell_type": "code",
   "execution_count": 4,
   "metadata": {
    "collapsed": false
   },
   "outputs": [
    {
     "name": "stdout",
     "output_type": "stream",
     "text": [
      "Attempting to construct BoxLayout geometry...\n"
     ]
    }
   ],
   "source": [
    "config = BoxLayout()\n",
    "import types, itertools, functools\n",
    "funct = types.FunctionType\n",
    "part = functools.partial\n",
    "nt = types.NoneType\n",
    "\n",
    "# I think the second argument means that we have up to 57 floats to use as terminals\n",
    "pset = gp.PrimitiveSetTyped(\"MAIN\", [], nt)\n",
    "\n",
    "\n",
    "pset.addPrimitive(config.box0, [float, float, float, float, float, float], nt)\n",
    "pset.addPrimitive(config.box1, [float, float, float, float, float, float, nt], nt)\n",
    "pset.addPrimitive(config.box2, [float, float, float, float, float, float, nt, nt], nt)\n",
    "pset.addPrimitive(np.random.rand, [], float)\n",
    "\n",
    "def useless_None():\n",
    "    return None\n",
    "pset.addTerminal(useless_None, nt)\n",
    "\n",
    "# terminals\n",
    "# for i in range(100):\n",
    "# label = 'rand' + str(i)\n",
    "pset.addEphemeralConstant('rand', np.random.rand, float)\n",
    "# for i in range(100):\n",
    "#     pset.addTerminal(1.0, float)\n",
    "\n",
    "creator.create(\"FitnessMax\", base.Fitness, weights=(1.0,))\n",
    "creator.create(\"Individual\", gp.PrimitiveTree, fitness=creator.FitnessMax)\n",
    "\n",
    "toolbox = base.Toolbox()\n",
    "\n",
    "# Attribute generator\n",
    "toolbox.register(\"expr_init\", gp.genFull, pset=pset, min_=1, max_=4)\n",
    "\n",
    "# Structure initializers\n",
    "toolbox.register(\"individual\", tools.initIterate, creator.Individual, toolbox.expr_init)\n",
    "toolbox.register(\"population\", tools.initRepeat, list, toolbox.individual)\n",
    "\n",
    "\n",
    "def evalTopology(individual):\n",
    "    # Transform the tree expression to functionnal Python code\n",
    "    routine = gp.compile(individual, pset)\n",
    "    # Run the generated routine\n",
    "    global config\n",
    "    config.run(routine)\n",
    "    return config.temp_fitness(),\n",
    "    \n",
    "toolbox.register(\"evaluate\", evalTopology)\n",
    "toolbox.register(\"select\", tools.selTournament, tournsize=7)\n",
    "toolbox.register(\"mate\", gp.cxOnePoint)\n",
    "toolbox.register(\"expr_mut\", gp.genFull, min_=0, max_=2)\n",
    "toolbox.register(\"mutate\", gp.mutUniform, expr=toolbox.expr_mut, pset=pset)\n",
    "\n",
    "def main():\n",
    "    np.random.seed(69)\n",
    "    \n",
    "    pop = toolbox.population(n=100)\n",
    "    hof = tools.HallOfFame(1)\n",
    "    stats = tools.Statistics(lambda ind: ind.fitness.values)\n",
    "    stats.register(\"avg\", np.mean)\n",
    "    stats.register(\"std\", np.std)\n",
    "    stats.register(\"min\", np.min)\n",
    "    stats.register(\"max\", np.max)\n",
    "    \n",
    "    algorithms.eaSimple(pop, toolbox, 0.5, 0.2, 40, stats, halloffame=hof)\n",
    "    \n",
    "    return pop, hof, stats\n",
    "\n"
   ]
  },
  {
   "cell_type": "code",
   "execution_count": null,
   "metadata": {
    "collapsed": true
   },
   "outputs": [],
   "source": []
  },
  {
   "cell_type": "code",
   "execution_count": 5,
   "metadata": {
    "collapsed": false
   },
   "outputs": [
    {
     "name": "stdout",
     "output_type": "stream",
     "text": [
      "box2(rand(), rand(), rand(), rand(), rand(), rand(), box0(rand(), rand(), rand(), rand(), rand(), rand()), box1(rand(), rand(), rand(), rand(), rand(), rand(), box1(0.8559478139330504, 0.23636939031326432, 0.09413675632557739, 0.21459347279717478, 0.4535901067611645, 0.9589239008900856, useless_None)))\n",
      "['box4', 'box1', 'box3', 'box2']\n"
     ]
    },
    {
     "data": {
      "text/html": [
       "\n",
       "<div id='placeholder_ec0c8211bf5b4c5abdbc32bde585c61b'></div>\n",
       "<script type='text/javascript'>\n",
       "    var iframe = document.createElement('iframe');\n",
       "    iframe.style.border = 'none';\n",
       "    iframe.style.width = '100%';\n",
       "    iframe.style.height = '600px';\n",
       "    iframe.src = window.location.protocol + '//' + window.location.hostname + ':44853/get/ec0c8211bf5b4c5abdbc32bde585c61b/';\n",
       "    document.getElementById('placeholder_ec0c8211bf5b4c5abdbc32bde585c61b').appendChild(iframe);\n",
       "</script>\n"
      ],
      "text/plain": [
       "<TornadoWebRenderer at http://PChambers_ngcm:44853/get/ec0c8211bf5b4c5abdbc32bde585c61b>"
      ]
     },
     "execution_count": 5,
     "metadata": {},
     "output_type": "execute_result"
    }
   ],
   "source": [
    "tree = toolbox.individual()\n",
    "print(tree)\n",
    "\n",
    "routine = gp.compile(tree, pset)\n",
    "\n",
    "config.run(routine)\n",
    "print(config)\n",
    "\n",
    "\n",
    "from airconics.Addons.WebServer.TornadoWeb import TornadoWebRenderer\n",
    "\n",
    "renderer = TornadoWebRenderer()\n",
    "\n",
    "config.Display(renderer)\n",
    "\n",
    "renderer"
   ]
  },
  {
   "cell_type": "code",
   "execution_count": 6,
   "metadata": {
    "collapsed": false
   },
   "outputs": [
    {
     "name": "stdout",
     "output_type": "stream",
     "text": [
      "gen\tnevals\tavg     \tstd     \tmin        \tmax   \n",
      "0  \t100   \t0.776835\t0.981554\t0.000253284\t4.7885\n",
      "1  \t56    \t2.21246 \t1.21495 \t0.0130649  \t5.02109\n",
      "2  \t55    \t3.6524  \t1.06848 \t0.691369   \t5.54205\n",
      "3  \t51    \t4.61513 \t0.666475\t2.31551    \t6.15174\n",
      "4  \t61    \t4.76905 \t0.836857\t0.00939944 \t6.15174\n",
      "5  \t49    \t5.15842 \t0.679957\t3.0528     \t6.19102\n",
      "6  \t67    \t5.17459 \t0.663725\t3.98551    \t6.19102\n",
      "7  \t50    \t5.43424 \t0.72989 \t3.48645    \t6.23375\n",
      "8  \t57    \t5.315   \t0.867995\t3.55278    \t6.23375\n",
      "9  \t49    \t5.3912  \t0.929574\t2.76762    \t6.23375\n",
      "10 \t54    \t5.38691 \t0.963746\t3.14335    \t6.6622 \n",
      "11 \t58    \t5.29803 \t0.932693\t3.50208    \t6.6622 \n",
      "12 \t64    \t5.23758 \t0.997455\t0          \t6.6622 \n",
      "13 \t58    \t5.43519 \t0.895513\t3.52531    \t6.6622 \n",
      "14 \t59    \t5.38021 \t1.02047 \t3.18768    \t6.6622 \n",
      "15 \t58    \t5.50567 \t1.03899 \t3.50195    \t6.6622 \n",
      "16 \t50    \t5.66641 \t1.03702 \t3.62008    \t6.6622 \n",
      "17 \t62    \t5.42471 \t1.0846  \t3.35389    \t6.6622 \n",
      "18 \t55    \t5.55493 \t1.09307 \t3.35608    \t6.6622 \n",
      "19 \t58    \t5.43957 \t1.11644 \t3.05738    \t6.6622 \n",
      "20 \t58    \t5.54226 \t1.09782 \t3.46523    \t6.6622 \n",
      "21 \t51    \t5.66715 \t1.02828 \t3.6893     \t6.6622 \n",
      "22 \t56    \t5.53238 \t1.10166 \t3.5093     \t6.6622 \n",
      "23 \t64    \t5.34479 \t1.11376 \t2.64754    \t6.6622 \n",
      "24 \t66    \t5.27271 \t1.04278 \t2.36387    \t6.6622 \n",
      "25 \t57    \t5.47202 \t1.04053 \t3.38508    \t6.6622 \n",
      "26 \t54    \t5.61994 \t1.06649 \t3.23044    \t6.6622 \n",
      "27 \t68    \t5.29592 \t1.08937 \t2.19881    \t6.6622 \n",
      "28 \t71    \t5.30868 \t1.02539 \t3.60845    \t6.6622 \n",
      "29 \t71    \t5.18074 \t1.04783 \t2.81296    \t6.6622 \n",
      "30 \t59    \t5.45496 \t1.00179 \t3.02647    \t6.6622 \n",
      "31 \t58    \t5.42035 \t1.10771 \t3.30952    \t6.6622 \n",
      "32 \t61    \t5.35955 \t1.14536 \t2.21868    \t6.6622 \n",
      "33 \t61    \t5.49538 \t1.05332 \t3.3874     \t6.6622 \n",
      "34 \t56    \t5.50944 \t1.10286 \t2.87134    \t6.6622 \n",
      "35 \t51    \t5.67654 \t1.08892 \t3.35936    \t6.6622 \n",
      "36 \t52    \t5.50741 \t1.21761 \t2.66073    \t6.6622 \n",
      "37 \t60    \t5.37239 \t1.17022 \t2.73919    \t6.6622 \n",
      "38 \t74    \t5.1909  \t1.01135 \t3.25696    \t6.6622 \n",
      "39 \t53    \t5.42436 \t1.15889 \t2.33688    \t6.6622 \n",
      "40 \t51    \t5.66953 \t1.05383 \t3.71217    \t6.6622 \n"
     ]
    },
    {
     "data": {
      "text/plain": [
       "<deap.tools.support.HallOfFame at 0x7f96732f2290>"
      ]
     },
     "execution_count": 6,
     "metadata": {},
     "output_type": "execute_result"
    }
   ],
   "source": [
    "pop, hof, stats = main()\n",
    "\n",
    "hof"
   ]
  },
  {
   "cell_type": "code",
   "execution_count": 7,
   "metadata": {
    "collapsed": false,
    "scrolled": true
   },
   "outputs": [
    {
     "name": "stdout",
     "output_type": "stream",
     "text": [
      "box2(rand(), rand(), rand(), rand(), rand(), rand(), box2(rand(), rand(), rand(), rand(), rand(), rand(), box1(rand(), rand(), rand(), rand(), rand(), rand(), box1(0.9876911143597368, 0.5309143712841541, 0.6804361576402314, 0.39113473324146986, 0.11655619545171181, 0.70722572636939, useless_None)), box1(rand(), rand(), rand(), rand(), rand(), rand(), box1(0.4136160945599694, 0.4560330320768555, rand(), 0.0937152433162668, 0.4577166960483934, 0.8057929087049822, box2(rand(), rand(), rand(), rand(), rand(), rand(), box2(0.4136160945599694, rand(), rand(), rand(), rand(), rand(), box1(0.4468665688517708, 0.22445298556976356, 0.8856783021807887, 0.26203531051078377, 0.09049883039021211, 0.6738562352683545, useless_None), box2(0.04235634543141953, 0.33140249622173956, 0.4345371240025149, 0.8886938826657497, 0.43078742016811866, 0.724249867043646, useless_None, useless_None)), box0(rand(), rand(), rand(), rand(), 0.26203531051078377, rand()))))), box2(rand(), rand(), rand(), rand(), rand(), rand(), box2(rand(), rand(), rand(), rand(), rand(), rand(), box2(0.19350921158975343, 0.46502849139064684, 0.19091752157285335, 0.07588166476887537, 0.03198771223661634, 0.1524555496740907, useless_None, useless_None), box2(0.25709201836437945, 0.06937376769742032, 0.9271894410882913, 0.5466259201069118, 0.9672960369260322, 0.8973085224641426, box1(rand(), rand(), rand(), rand(), rand(), rand(), useless_None), useless_None)), box2(rand(), rand(), rand(), rand(), rand(), rand(), box2(0.3910502178883323, 0.37876973050352947, 0.6515744001430833, 0.8562783636180507, 0.44305142261098884, 0.532802108369059, box2(rand(), rand(), rand(), rand(), rand(), rand(), box2(0.3924857173586025, 0.5467399164102537, 0.1997440277603797, 0.3175438622974661, 0.10106878176965284, 0.2288922462666857, useless_None, useless_None), box2(0.6870586848548531, 0.08180729184963076, 0.4550421431287991, 0.5123771558599899, 0.7009282769294317, 0.6213844395058233, useless_None, useless_None)), useless_None), box2(rand(), rand(), rand(), rand(), rand(), rand(), box2(0.3910502178883323, 0.37876973050352947, 0.6515744001430833, 0.8562783636180507, 0.44305142261098884, 0.532802108369059, useless_None, useless_None), box2(0.1629177546747762, 0.5551585657135201, 0.1267851475022781, 0.9457352211284518, 0.9826123685208349, 0.301446129711462, useless_None, useless_None)))))\n",
      "['box19', 'box18', 'box15', 'box14', 'box17', 'box16', 'box11', 'box10', 'box13', 'box12', 'box9', 'box8', 'box5', 'box4', 'box7', 'box6', 'box1', 'box3', 'box2', 'box24', 'box20', 'box21', 'box22', 'box23']\n"
     ]
    },
    {
     "data": {
      "text/html": [
       "\n",
       "<div id='placeholder_a4de9ca05d2943c88f84cb4add8c6148'></div>\n",
       "<script type='text/javascript'>\n",
       "    var iframe = document.createElement('iframe');\n",
       "    iframe.style.border = 'none';\n",
       "    iframe.style.width = '100%';\n",
       "    iframe.style.height = '600px';\n",
       "    iframe.src = window.location.protocol + '//' + window.location.hostname + ':42432/get/a4de9ca05d2943c88f84cb4add8c6148/';\n",
       "    document.getElementById('placeholder_a4de9ca05d2943c88f84cb4add8c6148').appendChild(iframe);\n",
       "</script>\n"
      ],
      "text/plain": [
       "<TornadoWebRenderer at http://PChambers_ngcm:42432/get/a4de9ca05d2943c88f84cb4add8c6148>"
      ]
     },
     "execution_count": 7,
     "metadata": {},
     "output_type": "execute_result"
    }
   ],
   "source": [
    "best = hof[0]\n",
    "\n",
    "nodes, edges, labels = gp.graph(best)\n",
    "print(best)\n",
    "\n",
    "routine = gp.compile(best, pset)\n",
    "config.run(routine)\n",
    "\n",
    "print(config)\n",
    "\n",
    "from airconics.Addons.WebServer.TornadoWeb import TornadoWebRenderer\n",
    "\n",
    "renderer = TornadoWebRenderer()\n",
    "\n",
    "config.Display(renderer)\n",
    "renderer"
   ]
  },
  {
   "cell_type": "code",
   "execution_count": 8,
   "metadata": {
    "collapsed": false
   },
   "outputs": [
    {
     "ename": "TypeError",
     "evalue": "__init__() takes exactly 1 argument (2 given)",
     "output_type": "error",
     "traceback": [
      "\u001b[0;31m---------------------------------------------------------------------------\u001b[0m",
      "\u001b[0;31mTypeError\u001b[0m                                 Traceback (most recent call last)",
      "\u001b[0;32m<ipython-input-8-600361f65378>\u001b[0m in \u001b[0;36m<module>\u001b[0;34m()\u001b[0m\n\u001b[0;32m----> 1\u001b[0;31m \u001b[0mconfig\u001b[0m \u001b[0;34m=\u001b[0m \u001b[0mBoxLayout\u001b[0m\u001b[0;34m(\u001b[0m\u001b[0;36m10\u001b[0m\u001b[0;34m)\u001b[0m\u001b[0;34m\u001b[0m\u001b[0m\n\u001b[0m\u001b[1;32m      2\u001b[0m \u001b[0;34m\u001b[0m\u001b[0m\n\u001b[1;32m      3\u001b[0m \u001b[0;32mdef\u001b[0m \u001b[0mmake_box\u001b[0m\u001b[0;34m(\u001b[0m\u001b[0mxmin\u001b[0m\u001b[0;34m,\u001b[0m \u001b[0mymin\u001b[0m\u001b[0;34m,\u001b[0m \u001b[0mzmin\u001b[0m\u001b[0;34m,\u001b[0m \u001b[0mdx\u001b[0m\u001b[0;34m,\u001b[0m \u001b[0mdy\u001b[0m\u001b[0;34m,\u001b[0m \u001b[0mdz\u001b[0m\u001b[0;34m)\u001b[0m\u001b[0;34m:\u001b[0m\u001b[0;34m\u001b[0m\u001b[0m\n\u001b[1;32m      4\u001b[0m     \u001b[0;32mdef\u001b[0m \u001b[0mbox0\u001b[0m\u001b[0;34m(\u001b[0m\u001b[0;34m)\u001b[0m\u001b[0;34m:\u001b[0m\u001b[0;34m\u001b[0m\u001b[0m\n\u001b[1;32m      5\u001b[0m         \u001b[0;32mglobal\u001b[0m \u001b[0mconfig\u001b[0m\u001b[0;34m\u001b[0m\u001b[0m\n",
      "\u001b[0;31mTypeError\u001b[0m: __init__() takes exactly 1 argument (2 given)"
     ]
    }
   ],
   "source": [
    "config = BoxLayout(10)\n",
    "\n",
    "def make_box(xmin, ymin, zmin, dx, dy, dz):\n",
    "    def box0():\n",
    "        global config\n",
    "        config.box0(xmin, ymin, zmin, dx, dy, dz)\n",
    "        return None\n",
    "    return box0\n",
    "\n",
    "p = config.box2(0,0,0,1,1,1, config.box0(1,1,1, 1, 1, 1), config.box0(2,2,2, 1, 1, 1))\n",
    "\n",
    "res = p()\n",
    "\n",
    "from airconics.Addons.WebServer.TornadoWeb import TornadoWebRenderer\n",
    "\n",
    "renderer = TornadoWebRenderer()\n",
    "\n",
    "print(config)\n",
    "config.Display(renderer)\n",
    "\n",
    "renderer"
   ]
  },
  {
   "cell_type": "code",
   "execution_count": null,
   "metadata": {
    "collapsed": false,
    "scrolled": true
   },
   "outputs": [],
   "source": [
    "np.random.rand()"
   ]
  },
  {
   "cell_type": "code",
   "execution_count": null,
   "metadata": {
    "collapsed": false
   },
   "outputs": [],
   "source": []
  },
  {
   "cell_type": "code",
   "execution_count": null,
   "metadata": {
    "collapsed": false
   },
   "outputs": [],
   "source": [
    "help(gp.PrimitiveSetTyped)"
   ]
  },
  {
   "cell_type": "code",
   "execution_count": null,
   "metadata": {
    "collapsed": false
   },
   "outputs": [],
   "source": [
    "help(gp.PrimitiveSet)"
   ]
  },
  {
   "cell_type": "code",
   "execution_count": null,
   "metadata": {
    "collapsed": false
   },
   "outputs": [],
   "source": [
    "import itertools\n",
    "\n",
    "r = [itertools.repeat(float, 57)] + [funct]\n",
    "\n",
    "for entry in r:\n",
    "    print(entry)"
   ]
  },
  {
   "cell_type": "code",
   "execution_count": null,
   "metadata": {
    "collapsed": false
   },
   "outputs": [],
   "source": [
    "from airconics.Addons.WebServer.TornadoWeb import TornadoWebRenderer\n",
    "\n",
    "renderer = TornadoWebRenderer()\n",
    "# b = Box(0,0,0,1,1,1)\n",
    "box = BRepPrimAPI_MakeBox(gp_Pnt(0,0,0), gp_Pnt(1,1,1)).Shape()\n",
    "renderer.DisplayShape(box)\n",
    "renderer"
   ]
  },
  {
   "cell_type": "code",
   "execution_count": null,
   "metadata": {
    "collapsed": false
   },
   "outputs": [],
   "source": [
    "type(program)"
   ]
  },
  {
   "cell_type": "code",
   "execution_count": null,
   "metadata": {
    "collapsed": false
   },
   "outputs": [],
   "source": [
    "b = program()"
   ]
  },
  {
   "cell_type": "code",
   "execution_count": null,
   "metadata": {
    "collapsed": false
   },
   "outputs": [],
   "source": [
    "np.random.rand()"
   ]
  },
  {
   "cell_type": "code",
   "execution_count": null,
   "metadata": {
    "collapsed": false
   },
   "outputs": [],
   "source": [
    "from airconics.Addons.WebServer.TornadoWeb import TornadoWebRenderer\n",
    "\n",
    "renderer = TornadoWebRenderer()\n",
    "b.Display(renderer)\n",
    "renderer"
   ]
  },
  {
   "cell_type": "code",
   "execution_count": null,
   "metadata": {
    "collapsed": true
   },
   "outputs": [],
   "source": []
  }
 ],
 "metadata": {
  "anaconda-cloud": {},
  "kernelspec": {
   "display_name": "Python [conda root]",
   "language": "python",
   "name": "conda-root-py"
  },
  "language_info": {
   "codemirror_mode": {
    "name": "ipython",
    "version": 2
   },
   "file_extension": ".py",
   "mimetype": "text/x-python",
   "name": "python",
   "nbconvert_exporter": "python",
   "pygments_lexer": "ipython2",
   "version": "2.7.12"
  }
 },
 "nbformat": 4,
 "nbformat_minor": 1
}
