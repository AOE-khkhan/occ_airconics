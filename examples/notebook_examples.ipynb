{
 "cells": [
  {
   "cell_type": "markdown",
   "metadata": {},
   "source": [
    "# Notebook for Airconics examples "
   ]
  },
  {
   "cell_type": "markdown",
   "metadata": {},
   "source": [
    "IMPORTANT!: ipython notebook bug requires first code cells to be run manually (i.e. not with 'Run All' Cells). After this, all cells can be rerun with 'Run all below'. "
   ]
  },
  {
   "cell_type": "code",
   "execution_count": 1,
   "metadata": {
    "collapsed": false
   },
   "outputs": [
    {
     "name": "stdout",
     "output_type": "stream",
     "text": [
      "Using PyQt4\n"
     ]
    }
   ],
   "source": [
    "import airconics\n",
    "%gui qt4\n",
    "# Initialise the display\n",
    "from OCC.Display.SimpleGui import init_display\n",
    "display, start_display, add_menu, add_function_to_menu = init_display()"
   ]
  },
  {
   "cell_type": "markdown",
   "metadata": {},
   "source": [
    "## Airfoils"
   ]
  },
  {
   "cell_type": "code",
   "execution_count": 2,
   "metadata": {
    "collapsed": false
   },
   "outputs": [],
   "source": [
    "# Note these sizing variables aren't used yet\n",
    "LEPoint = [0., 0., 0.] \n",
    "ChordLength = 1\n",
    "\n",
    "AirfoilSeligName = 'dae11'\n",
    "\n",
    "# Instantiate class to set up a generic airfoil with these basic parameters\n",
    "Af1 = airconics.primitives.Airfoil(LEPoint, ChordLength=3., SeligProfile=AirfoilSeligName)\n",
    "Af1_disp = display.DisplayShape(Af1.Curve, update=True);"
   ]
  },
  {
   "cell_type": "code",
   "execution_count": 4,
   "metadata": {
    "collapsed": false
   },
   "outputs": [],
   "source": [
    "# Remove Airfoil:\n",
    "display.Context.Erase(Af1_disp.GetObject().GetHandle())\n",
    "Af1.Curve.GetObject().Delete()\n",
    "\n",
    "# Or Clear the display:\n",
    "display.EraseAll()"
   ]
  },
  {
   "cell_type": "markdown",
   "metadata": {},
   "source": [
    "## Lofted Wing"
   ]
  },
  {
   "cell_type": "code",
   "execution_count": 3,
   "metadata": {
    "collapsed": false
   },
   "outputs": [
    {
     "data": {
      "text/plain": [
       "<OCC.AIS.Handle_AIS_Shape; proxy of <Swig Object of type 'Handle_AIS_Shape *' at 0x7fa1fc02bcc0> >"
      ]
     },
     "execution_count": 3,
     "metadata": {},
     "output_type": "execute_result"
    }
   ],
   "source": [
    "import airconics.AirCONICStools as act\n",
    "\n",
    "# Add NACA 4 digit airfoils to loft between:\n",
    "Af2 = airconics.primitives.Airfoil([0.,0.,0.], ChordLength=3., Naca4Profile='2412')\n",
    "display.DisplayShape(Af2.Curve, update=True, color='GREEN');\n",
    "Af3 = airconics.primitives.Airfoil([0., 5., 0.], ChordLength=1., Naca4Profile='0012')\n",
    "display.DisplayShape(Af3.Curve, update=True, color='GREEN');\n",
    "\n",
    "surf = act.surface_from_airfoils(Af2, Af3)\n",
    "display.DisplayShape(surf, update=True);"
   ]
  },
  {
   "cell_type": "code",
   "execution_count": 5,
   "metadata": {
    "collapsed": false
   },
   "outputs": [
    {
     "data": {
      "text/plain": [
       "1"
      ]
     },
     "execution_count": 5,
     "metadata": {},
     "output_type": "execute_result"
    }
   ],
   "source": [
    "# Write Output STEP file:\n",
    "act.export_STEPFile([surf], 'wing.stp')"
   ]
  },
  {
   "cell_type": "code",
   "execution_count": null,
   "metadata": {
    "collapsed": false
   },
   "outputs": [],
   "source": []
  },
  {
   "cell_type": "code",
   "execution_count": null,
   "metadata": {
    "collapsed": false
   },
   "outputs": [],
   "source": []
  },
  {
   "cell_type": "code",
   "execution_count": null,
   "metadata": {
    "collapsed": true
   },
   "outputs": [],
   "source": []
  },
  {
   "cell_type": "code",
   "execution_count": null,
   "metadata": {
    "collapsed": true
   },
   "outputs": [],
   "source": []
  }
 ],
 "metadata": {
  "kernelspec": {
   "display_name": "Python 2",
   "language": "python",
   "name": "python2"
  },
  "language_info": {
   "codemirror_mode": {
    "name": "ipython",
    "version": 2
   },
   "file_extension": ".py",
   "mimetype": "text/x-python",
   "name": "python",
   "nbconvert_exporter": "python",
   "pygments_lexer": "ipython2",
   "version": "2.7.11"
  }
 },
 "nbformat": 4,
 "nbformat_minor": 0
}
