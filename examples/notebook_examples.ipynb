{
 "cells": [
  {
   "cell_type": "markdown",
   "metadata": {},
   "source": [
    "# Notebook for Airconics examples "
   ]
  },
  {
   "cell_type": "markdown",
   "metadata": {},
   "source": [
    "IMPORTANT!: ipython notebook bug requires first code cells to be run manually (i.e. not with 'Run All' Cells). After this, all cells can be rerun with 'Run all below'. "
   ]
  },
  {
   "cell_type": "code",
   "execution_count": null,
   "metadata": {
    "collapsed": false
   },
   "outputs": [],
   "source": [
    "import airconics\n",
    "import airconics.AirCONICStools as act\n",
    "# %gui qt4\n",
    "# # Initialise the display\n",
    "# from OCC.Display.SimpleGui import init_display\n",
    "# display, start_display, add_menu, add_function_to_menu = init_display()"
   ]
  },
  {
   "cell_type": "markdown",
   "metadata": {},
   "source": [
    "## Parameter Definitions"
   ]
  },
  {
   "cell_type": "code",
   "execution_count": null,
   "metadata": {
    "collapsed": false
   },
   "outputs": [],
   "source": [
    "Propulsion=1\n",
    "EngineDia=2.9\n",
    "FuselageScaling=[55.902, 55.902, 55.902]\n",
    "NoseLengthRatio=0.182\n",
    "TailLengthRatio=0.293\n",
    "WingScaleFactor=44.56\n",
    "WingChordFactor=1.0\n",
    "Topology=1\n",
    "SpanStation1=0.31\n",
    "SpanStation2=0.625\n",
    "EngineCtrBelowLE=0.3558\n",
    "EngineCtrFwdOfLE=0.9837\n",
    "Scarf_deg=3\n",
    "\n",
    "# Derived Parameters\n",
    "FuselageHeight = FuselageScaling[2]*0.105\n",
    "FuselageLength = FuselageScaling[0]\n",
    "FuselageWidth  = FuselageScaling[1]*0.106\n",
    "WingApex = [0.1748*FuselageLength,0,-0.0523*FuselageHeight]\n",
    "# Fin:\n",
    "FinChordFact = 1.01\n",
    "FinScaleFact = WingScaleFactor/2.032\n",
    "# TailPlane\n",
    "TPChordFact = 1.01\n",
    "TPScaleFact = WingScaleFactor * 0.388\n"
   ]
  },
  {
   "cell_type": "markdown",
   "metadata": {},
   "source": [
    "## Wing, Transonic Airliner"
   ]
  },
  {
   "cell_type": "markdown",
   "metadata": {},
   "source": [
    "TODO: I tried making the lifting surface loft through airfoil sections as a solid loft, however the output stp file was not correct in Rhino (may be because TE and ends are not closed)"
   ]
  },
  {
   "cell_type": "code",
   "execution_count": null,
   "metadata": {
    "collapsed": false,
    "scrolled": true
   },
   "outputs": [],
   "source": [
    "# Import all example functional definitions for the Common Research Model (CRM) Wing:\n",
    "from airconics.examples.wing_example_transonic_airliner import *\n",
    "\n",
    "# Position of the apex of the wing\n",
    "P = WingApex\n",
    "\n",
    "# Class definition\n",
    "NSeg = 10\n",
    "ChordFactor = 1\n",
    "ScaleFactor = 50\n",
    "\n",
    "# Generate (surface building is done during construction of the class)\n",
    "Wing = liftingsurface.LiftingSurface(P, mySweepAngleFunctionAirliner, \n",
    "                                        myDihedralFunctionAirliner, \n",
    "                                        myTwistFunctionAirliner, \n",
    "                                        myChordFunctionAirliner, \n",
    "                                        myAirfoilFunctionAirliner,\n",
    "                                        SegmentNo=NSeg,\n",
    "                                        ScaleFactor=WingScaleFactor,\n",
    "                                        ChordFactor=WingChordFactor,\n",
    "                                        max_degree=3)\n",
    "\n",
    "# Evaluate the root chord:\n",
    "RootChord = Wing.RootChord\n",
    "\n",
    "# Here the TOPO_DS Shape to be displayed is stored in the Lifting surface 'Shape' Attribute\n",
    "# from OCC.Graphic3d import Graphic3d_NOM_ALUMINIUM\n",
    "# display.DisplayShape(Wing.Shape, update=True, material=Graphic3d_NOM_ALUMINIUM)\n",
    "\n",
    "\n",
    "# # from OCC.AIS import AIS_WireFrame\n",
    "# # display.Context.SetDisplayMode(AIS_WireFrame)\n",
    "# # display.Repaint()\n",
    "# display.DisplayShape(W2, update=True)\n"
   ]
  },
  {
   "cell_type": "markdown",
   "metadata": {
    "collapsed": false
   },
   "source": [
    "## Tailplane, Transonic Airliner"
   ]
  },
  {
   "cell_type": "code",
   "execution_count": null,
   "metadata": {
    "collapsed": false
   },
   "outputs": [],
   "source": [
    "from OCC.gp import gp_Ax1, gp_Pnt, gp_Dir\n",
    "from airconics.examples.tailplane_example_transonic_airliner import *\n",
    "\n",
    "# Position of the apex of the fin\n",
    "P = [36.98-0.49-0.02, 0.0, 2.395-0.141]\n",
    "\n",
    "SegmentNo = 100\n",
    "\n",
    "Fin = liftingsurface.LiftingSurface(P, mySweepAngleFunctionFin,\n",
    "                                    myDihedralFunctionFin,\n",
    "                                    myTwistFunctionFin,\n",
    "                                    myChordFunctionFin,\n",
    "                                    myAirfoilFunctionFin,\n",
    "                                    SegmentNo=SegmentNo,\n",
    "                                    ChordFactor=FinChordFact,\n",
    "                                    ScaleFactor=FinScaleFact)\n",
    "\n",
    "#    Create the rotation axis centered at the apex point in the x direction\n",
    "RotAxis = gp_Ax1(gp_Pnt(*P), gp_Dir(1, 0, 0))\n",
    "\n",
    "\n",
    "Fin.Rotate(RotAxis, 90)\n",
    "# display.DisplayShape(Fin.Shape, update=True)\n",
    "\n",
    "# Position of the apex of the tailplane\n",
    "P = [43, 0.000, 1.633+0.02]\n",
    "\n",
    "SegmentNo = 100\n",
    "ChordFactor = 1.01\n",
    "ScaleFactor = 17.3\n",
    "\n",
    "TP = liftingsurface.LiftingSurface(P, mySweepAngleFunctionTP,\n",
    "                                   myDihedralFunctionTP,\n",
    "                                   myTwistFunctionTP,\n",
    "                                   myChordFunctionTP,\n",
    "                                   myAirfoilFunctionTP,\n",
    "                                   SegmentNo=SegmentNo,\n",
    "                                   ChordFactor=TPChordFact,\n",
    "                                   ScaleFactor=TPScaleFact)\n",
    "\n",
    "# display.DisplayShape(TP.Shape, update=True)\n"
   ]
  },
  {
   "cell_type": "markdown",
   "metadata": {},
   "source": [
    "## Fuselage Transonic Airliner"
   ]
  },
  {
   "cell_type": "code",
   "execution_count": null,
   "metadata": {
    "collapsed": false
   },
   "outputs": [],
   "source": [
    "from airconics.fuselage_oml import Fuselage\n",
    "\n",
    "Fus = Fuselage(NoseLengthRatio, TailLengthRatio, Scaling=FuselageScaling,\n",
    "             NoseCoordinates=[0., 0., 0],\n",
    "             CylindricalMidSection=False,\n",
    "             Maxi_attempt=5)\n",
    "\n",
    "# from OCC.Graphic3d import Graphic3d_NOM_ALUMINIUM\n",
    "# display.DisplayShape(Fus.OMLSurf, update=True, material=Graphic3d_NOM_ALUMINIUM)\n",
    "\n",
    "act.export_STEPFile([Fus.OMLSurf], 'fuselage.stp')\n"
   ]
  },
  {
   "cell_type": "markdown",
   "metadata": {},
   "source": [
    "## Wing-Body Fairing:"
   ]
  },
  {
   "cell_type": "code",
   "execution_count": null,
   "metadata": {
    "collapsed": false
   },
   "outputs": [],
   "source": [
    "# WingBodyFairing:\n",
    "WTBFZ = RootChord*0.009 #787: 0.2\n",
    "WTBFheight = 1.8*0.1212*RootChord #787:2.7\n",
    "WTBFwidth = 1.08*FuselageWidth\n",
    "WTBFXCentre = WingApex[0] + RootChord/2.0 + RootChord*0.1297 # 787: 23.8\n",
    "WTBFlength = 1.167*RootChord #787:26\n",
    "\n",
    "WBF = act.make_ellipsoid([WTBFXCentre, 0, WTBFZ], WTBFlength, WTBFwidth, WTBFheight)\n"
   ]
  },
  {
   "cell_type": "markdown",
   "metadata": {},
   "source": [
    "## Miscelaneous operations"
   ]
  },
  {
   "cell_type": "code",
   "execution_count": null,
   "metadata": {
    "collapsed": false
   },
   "outputs": [],
   "source": [
    "# Trim the inboard section of the main wing:\n",
    "CutCirc = act.make_circle3pt([0,WTBFwidth/4.,-45], [0,WTBFwidth/4.,45], [90,WTBFwidth/4.,0])\n",
    "CutCircDisk = act.PlanarSurf(CutCirc)\n",
    "Wing.Shape = act.TrimShapebyPlane(Wing.Shape, CutCircDisk)\n",
    "\n",
    "#Mirror the main wing and tailplane:\n",
    "Wing2 = act.mirror(Wing.Shape, plane='xz')\n",
    "TP2 = act.mirror(TP.Shape, plane='xz', copy=True)\n"
   ]
  },
  {
   "cell_type": "markdown",
   "metadata": {},
   "source": [
    "## Ipython Cell Renderer:"
   ]
  },
  {
   "cell_type": "code",
   "execution_count": null,
   "metadata": {
    "collapsed": false
   },
   "outputs": [],
   "source": [
    "# Note : This seems to make objects render in ipython notebook (only works for shapes?)\n",
    "\n",
    "from airconics.Addons.WebServer import TornadoWeb\n",
    "renderer = TornadoWeb.TornadoWebRenderer()\n",
    "#    display all entities:\n",
    "# Fuselage and wing-body fairing\n",
    "renderer.DisplayShape(Fus.OMLSurf)\n",
    "renderer.DisplayShape(WBF)\n",
    "\n",
    "# #The Wings:\n",
    "renderer.DisplayShape(Wing.Shape)\n",
    "renderer.DisplayShape(Wing2)\n",
    "\n",
    "#The Tailplane:\n",
    "renderer.DisplayShape(TP.Shape)\n",
    "renderer.DisplayShape(TP2)\n",
    "\n",
    "#The Fin:\n",
    "renderer.DisplayShape(Fin.Shape)\n",
    "renderer"
   ]
  },
  {
   "cell_type": "code",
   "execution_count": null,
   "metadata": {
    "collapsed": true
   },
   "outputs": [],
   "source": []
  },
  {
   "cell_type": "markdown",
   "metadata": {
    "collapsed": false
   },
   "source": [
    "## Random things I tried out (Needs removing)"
   ]
  },
  {
   "cell_type": "code",
   "execution_count": null,
   "metadata": {
    "collapsed": false
   },
   "outputs": [],
   "source": [
    "# from OCC.gp import gp_Lin\n",
    "# from OCC.ShapeConstruct import shapeconstruct\n",
    "\n",
    "# Af2 = airconics.primitives.Airfoil([0.,0.,0.], ChordLength=3., Naca4Profile='2412')\n",
    "\n",
    "# h = Af2.curve.GetHandle()\n",
    "# EP = h.EndPoint()\n",
    "# SP = h.StartPoint()\n",
    "# closure = gp_Lin(EP, SP)\n",
    "\n",
    "# shapeconstruct.JoinCurves(h.GetObject(), closure.)\n",
    "\n",
    "# display.DisplayShape(Af2.Curve, update=True)"
   ]
  },
  {
   "cell_type": "code",
   "execution_count": null,
   "metadata": {
    "collapsed": false
   },
   "outputs": [],
   "source": [
    "# from OCC.gp import gp_Lin, gp_Ax1, gp_Dir\n",
    "# from OCC.ShapeConstruct import shapeconstruct\n",
    "# from OCC.BRepBuilderAPI import BRepBuilderAPI_MakeEdge\n",
    "\n",
    "# Af2 = airconics.primitives.Airfoil([0.,0.,0.], ChordLength=3., Naca4Profile='2412')\n",
    "\n",
    "# h = Af2.Curve.GetObject()\n",
    "# EP = h.EndPoint()\n",
    "# SP = h.StartPoint()\n",
    "# closure = BRepBuilderAPI_MakeEdge(gp_Lin(gp_Ax1(EP, gp_Dir(SP.XYZ()))) ).Edge()\n",
    "\n",
    "# display.DisplayShape(closure, update=True)\n",
    "# display.DisplayShape(Af2.Curve, update=True)"
   ]
  },
  {
   "cell_type": "code",
   "execution_count": null,
   "metadata": {
    "collapsed": false
   },
   "outputs": [],
   "source": []
  },
  {
   "cell_type": "code",
   "execution_count": null,
   "metadata": {
    "collapsed": false
   },
   "outputs": [],
   "source": [
    "# import airconics\n",
    "# import airconics.AirCONICStools as act\n",
    "# %gui qt4\n",
    "# # Initialise the display\n",
    "# from OCC.Display.SimpleGui import init_display\n",
    "# display, start_display, add_menu, add_function_to_menu = init_display()\n",
    "\n",
    "# from OCC.gp import gp_Pnt\n",
    "# c = act.points_to_BezierCurve([gp_Pnt(0, 1, 0), gp_Pnt(2, 5, 4)])\n",
    "# h = c.Copy().GetObject()\n",
    "# display.DisplayShape(h.GetObject(), update=True)"
   ]
  },
  {
   "cell_type": "code",
   "execution_count": null,
   "metadata": {
    "collapsed": true
   },
   "outputs": [],
   "source": [
    "# # This cell can be used to start a freecad window, create a new document and transfer the airconics\n",
    "# # Wing shape to the viewer\n",
    "# import sys\n",
    "# sys.path.append('/usr/lib/freecad/lib')\n",
    "# import FreeCAD\n",
    "# import FreeCADGui\n",
    "# %gui qt\n",
    "# FreeCADGui.showMainWindow()\n",
    "\n",
    "# doc = FreeCAD.newDocument()\n",
    "\n",
    "# import Part\n",
    "\n",
    "# import airconics \n",
    "# # Import all example functional definitions for the Common Research Model (CRM) Wing:\n",
    "# from airconics.examples.wing_example_transonic_airliner import *\n",
    "\n",
    "# # Position of the apex of the wing\n",
    "# P = [0., 0., 0.]\n",
    "\n",
    "# # Class definition\n",
    "# NSeg = 10\n",
    "# ChordFactor = 1\n",
    "# ScaleFactor = 50\n",
    "\n",
    "# Wing = liftingsurface.LiftingSurface(P, mySweepAngleFunctionAirliner, \n",
    "#     myDihedralFunctionAirliner, \n",
    "#     myTwistFunctionAirliner, \n",
    "#     myChordFunctionAirliner, \n",
    "#     myAirfoilFunctionAirliner, SegmentNo=NSeg, ScaleFactor=ScaleFactor)\n",
    "\n",
    "# w = Part.__fromPythonOCC__(Wing.Shape)\n",
    "# Part.show(w)"
   ]
  },
  {
   "cell_type": "code",
   "execution_count": null,
   "metadata": {
    "collapsed": true
   },
   "outputs": [],
   "source": [
    "# shape = Wing.Shape\n",
    "# from OCC.TopExp import TopExp_Explorer\n",
    "# from OCC.TopAbs import TopAbs_FACE\n",
    "# from OCC.TopoDS import TopoDS_Face\n",
    "# ex = TopExp_Explorer(shape, TopAbs_FACE)\n",
    "# ex.More()\n",
    "# currentFace = ex.Current()"
   ]
  }
 ],
 "metadata": {
  "kernelspec": {
   "display_name": "Python 2",
   "language": "python",
   "name": "python2"
  },
  "language_info": {
   "codemirror_mode": {
    "name": "ipython",
    "version": 2
   },
   "file_extension": ".py",
   "mimetype": "text/x-python",
   "name": "python",
   "nbconvert_exporter": "python",
   "pygments_lexer": "ipython2",
   "version": "2.7.11"
  }
 },
 "nbformat": 4,
 "nbformat_minor": 0
}
