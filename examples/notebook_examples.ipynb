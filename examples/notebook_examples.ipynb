{
 "cells": [
  {
   "cell_type": "markdown",
   "metadata": {},
   "source": [
    "# Notebook for Airconics examples "
   ]
  },
  {
   "cell_type": "markdown",
   "metadata": {},
   "source": [
    "IMPORTANT!: ipython notebook bug requires first code cells to be run manually (i.e. not with 'Run All' Cells). After this, all cells can be rerun with 'Run all below'. "
   ]
  },
  {
   "cell_type": "code",
   "execution_count": 3,
   "metadata": {
    "collapsed": false
   },
   "outputs": [
    {
     "name": "stdout",
     "output_type": "stream",
     "text": [
      "Using PyQt4\n"
     ]
    }
   ],
   "source": [
    "import airconics\n",
    "import airconics.AirCONICStools as act\n",
    "%gui qt4\n",
    "# Initialise the display\n",
    "from OCC.Display.SimpleGui import init_display\n",
    "display, start_display, add_menu, add_function_to_menu = init_display()"
   ]
  },
  {
   "cell_type": "markdown",
   "metadata": {},
   "source": [
    "## Airfoils"
   ]
  },
  {
   "cell_type": "code",
   "execution_count": 4,
   "metadata": {
    "collapsed": false
   },
   "outputs": [],
   "source": [
    "LEPoint = [0., 0., 0.] \n",
    "ChordLength = 1\n",
    "\n",
    "AirfoilSeligName = 'dae11'\n",
    "\n",
    "# Instantiate class to set up a generic airfoil with these basic parameters\n",
    "Af1 = airconics.primitives.Airfoil(LEPoint, ChordLength=3., SeligProfile=AirfoilSeligName)\n",
    "Af1_disp = display.DisplayShape(Af1.Curve, update=True);"
   ]
  },
  {
   "cell_type": "code",
   "execution_count": 12,
   "metadata": {
    "collapsed": false
   },
   "outputs": [],
   "source": [
    "# Remove Airfoil:\n",
    "display.Context.Erase(Af1_disp.GetObject().GetHandle())\n",
    "Af1.Curve.GetObject().Delete()   # Not sure if this truly collects the garbage yet\n",
    "\n",
    "# Or Clear the display:\n",
    "display.EraseAll()"
   ]
  },
  {
   "cell_type": "markdown",
   "metadata": {},
   "source": [
    "## Simple Lofted Wing"
   ]
  },
  {
   "cell_type": "code",
   "execution_count": 2,
   "metadata": {
    "collapsed": false
   },
   "outputs": [
    {
     "ename": "NameError",
     "evalue": "name 'airconics' is not defined",
     "output_type": "error",
     "traceback": [
      "\u001b[1;31m---------------------------------------------------------------------------\u001b[0m",
      "\u001b[1;31mNameError\u001b[0m                                 Traceback (most recent call last)",
      "\u001b[1;32m<ipython-input-2-acce6ba75372>\u001b[0m in \u001b[0;36m<module>\u001b[1;34m()\u001b[0m\n\u001b[0;32m      1\u001b[0m \u001b[1;31m# Add NACA 4 digit airfoils to loft between:\u001b[0m\u001b[1;33m\u001b[0m\u001b[1;33m\u001b[0m\u001b[0m\n\u001b[1;32m----> 2\u001b[1;33m \u001b[0mAf2\u001b[0m \u001b[1;33m=\u001b[0m \u001b[0mairconics\u001b[0m\u001b[1;33m.\u001b[0m\u001b[0mprimitives\u001b[0m\u001b[1;33m.\u001b[0m\u001b[0mAirfoil\u001b[0m\u001b[1;33m(\u001b[0m\u001b[1;33m[\u001b[0m\u001b[1;36m0.\u001b[0m\u001b[1;33m,\u001b[0m\u001b[1;36m0.\u001b[0m\u001b[1;33m,\u001b[0m\u001b[1;36m0.\u001b[0m\u001b[1;33m]\u001b[0m\u001b[1;33m,\u001b[0m \u001b[0mChordLength\u001b[0m\u001b[1;33m=\u001b[0m\u001b[1;36m3.\u001b[0m\u001b[1;33m,\u001b[0m \u001b[0mNaca4Profile\u001b[0m\u001b[1;33m=\u001b[0m\u001b[1;34m'2412'\u001b[0m\u001b[1;33m)\u001b[0m\u001b[1;33m\u001b[0m\u001b[0m\n\u001b[0m\u001b[0;32m      3\u001b[0m \u001b[0mdisplay\u001b[0m\u001b[1;33m.\u001b[0m\u001b[0mDisplayShape\u001b[0m\u001b[1;33m(\u001b[0m\u001b[0mAf2\u001b[0m\u001b[1;33m.\u001b[0m\u001b[0mCurve\u001b[0m\u001b[1;33m,\u001b[0m \u001b[0mupdate\u001b[0m\u001b[1;33m=\u001b[0m\u001b[0mTrue\u001b[0m\u001b[1;33m,\u001b[0m \u001b[0mcolor\u001b[0m\u001b[1;33m=\u001b[0m\u001b[1;34m'GREEN'\u001b[0m\u001b[1;33m)\u001b[0m\u001b[1;33m;\u001b[0m\u001b[1;33m\u001b[0m\u001b[0m\n\u001b[0;32m      4\u001b[0m \u001b[1;33m\u001b[0m\u001b[0m\n\u001b[0;32m      5\u001b[0m \u001b[0mAf3\u001b[0m \u001b[1;33m=\u001b[0m \u001b[0mairconics\u001b[0m\u001b[1;33m.\u001b[0m\u001b[0mprimitives\u001b[0m\u001b[1;33m.\u001b[0m\u001b[0mAirfoil\u001b[0m\u001b[1;33m(\u001b[0m\u001b[1;33m[\u001b[0m\u001b[1;36m0.\u001b[0m\u001b[1;33m,\u001b[0m \u001b[1;36m5.\u001b[0m\u001b[1;33m,\u001b[0m \u001b[1;36m0.\u001b[0m\u001b[1;33m]\u001b[0m\u001b[1;33m,\u001b[0m \u001b[0mChordLength\u001b[0m\u001b[1;33m=\u001b[0m\u001b[1;36m1.\u001b[0m\u001b[1;33m,\u001b[0m \u001b[0mNaca4Profile\u001b[0m\u001b[1;33m=\u001b[0m\u001b[1;34m'0012'\u001b[0m\u001b[1;33m)\u001b[0m\u001b[1;33m\u001b[0m\u001b[0m\n",
      "\u001b[1;31mNameError\u001b[0m: name 'airconics' is not defined"
     ]
    }
   ],
   "source": [
    "# Add NACA 4 digit airfoils to loft between:\n",
    "Af2 = airconics.primitives.Airfoil([0.,0.,0.], ChordLength=3., Naca4Profile='2412')\n",
    "display.DisplayShape(Af2.Curve, update=True, color='GREEN');\n",
    "\n",
    "Af3 = airconics.primitives.Airfoil([0., 5., 0.], ChordLength=1., Naca4Profile='0012')\n",
    "display.DisplayShape(Af3.Curve, update=True, color='GREEN');\n",
    "\n",
    "Af4 = airconics.primitives.Airfoil([0., 6., 0.2], ChordLength=0.2, Naca4Profile='0012')\n",
    "display.DisplayShape(Af4.Curve, update=True, color='GREEN');\n",
    "\n",
    "surf = act.AddSurfaceLoft([Af2, Af3, Af4])\n",
    "\n",
    "# # Note that surf is a TOPO_DS Shape, and hence no surf.Shape is required for display\n",
    "display.DisplayShape(surf, update=True);"
   ]
  },
  {
   "cell_type": "code",
   "execution_count": 14,
   "metadata": {
    "collapsed": false
   },
   "outputs": [],
   "source": [
    "display.EraseAll()"
   ]
  },
  {
   "cell_type": "markdown",
   "metadata": {},
   "source": [
    "## Lifting Surface, Transonic Airliner"
   ]
  },
  {
   "cell_type": "markdown",
   "metadata": {},
   "source": [
    "TODO: I tried making the lifting surface loft through airfoil sections as a solid loft, however the output stp file was not correct in Rhino (may be because TE and ends are not closed)"
   ]
  },
  {
   "cell_type": "code",
   "execution_count": 2,
   "metadata": {
    "collapsed": false,
    "scrolled": true
   },
   "outputs": [
    {
     "name": "stdout",
     "output_type": "stream",
     "text": [
      "1\n"
     ]
    },
    {
     "data": {
      "text/plain": [
       "<OCC.AIS.Handle_AIS_Shape; proxy of <Swig Object of type 'Handle_AIS_Shape *' at 0x7f03686ee330> >"
      ]
     },
     "execution_count": 2,
     "metadata": {},
     "output_type": "execute_result"
    }
   ],
   "source": [
    "# Import all example functional definitions for the Common Research Model (CRM) Wing:\n",
    "from wing_example_transonic_airliner import *\n",
    "\n",
    "# Position of the apex of the wing\n",
    "P = (0,0,0)\n",
    "\n",
    "# Class definition\n",
    "NSeg = 10\n",
    "ChordFactor = 1\n",
    "ScaleFactor = 50\n",
    "\n",
    "# Generate (surface building is done during construction of the class)\n",
    "Wing = liftingsurface.LiftingSurface(P, mySweepAngleFunctionAirliner, \n",
    "    myDihedralFunctionAirliner, \n",
    "    myTwistFunctionAirliner, \n",
    "    myChordFunctionAirliner, \n",
    "    myAirfoilFunctionAirliner, SegmentNo=NSeg, ScaleFactor=ScaleFactor)\n",
    "\n",
    "# Here the TOPO_DS Shape to be displayed is stored in the Lifting surface 'Shape' Attribute\n",
    "display.DisplayShape(Wing.Shape, update=True)"
   ]
  },
  {
   "cell_type": "markdown",
   "metadata": {},
   "source": [
    "### File input/output"
   ]
  },
  {
   "cell_type": "code",
   "execution_count": 16,
   "metadata": {
    "collapsed": false
   },
   "outputs": [
    {
     "name": "stdout",
     "output_type": "stream",
     "text": [
      " <OCC.TopoDS.TopoDS_Shape; proxy of <Swig Object of type 'TopoDS_Shape *' at 0x7f7cc40a2690> >\n"
     ]
    },
    {
     "data": {
      "text/plain": [
       "1"
      ]
     },
     "execution_count": 16,
     "metadata": {},
     "output_type": "execute_result"
    },
    {
     "name": "stdout",
     "output_type": "stream",
     "text": [
      "Current selection (single): <OCC.TopoDS.TopoDS_Shape; proxy of <Swig Object of type 'TopoDS_Shape *' at 0x7f7cc40a2480> >\n",
      "Current selection (single): <OCC.TopoDS.TopoDS_Shape; proxy of <Swig Object of type 'TopoDS_Shape *' at 0x7f7cc40b8060> >\n",
      "Current selection (single): <OCC.TopoDS.TopoDS_Shape; proxy of <Swig Object of type 'TopoDS_Shape *' at 0x7f7cc40b8f00> >\n",
      "Current selection (single): <OCC.TopoDS.TopoDS_Shape; proxy of <Swig Object of type 'TopoDS_Shape *' at 0x7f7cc40a2480> >\n",
      "key 16777249  not mapped to any function\n",
      "key"
     ]
    }
   ],
   "source": [
    "# Write Output STEP file e.g. for viewing in Rhino:\n",
    "act.export_STEPFile([Wing.Shape], 'wing.stp')"
   ]
  },
  {
   "cell_type": "code",
   "execution_count": 25,
   "metadata": {
    "collapsed": false
   },
   "outputs": [
    {
     "name": "stdout",
     "output_type": "stream",
     "text": [
      "Many colors for color name Blue, using first.\n"
     ]
    },
    {
     "data": {
      "text/plain": [
       "<OCC.AIS.Handle_AIS_Shape; proxy of <Swig Object of type 'Handle_AIS_Shape *' at 0x7f19889b8b10> >"
      ]
     },
     "execution_count": 25,
     "metadata": {},
     "output_type": "execute_result"
    }
   ],
   "source": [
    "# OR use python 'pickle' (Though for files which will be sent, STEP is probably better)\n",
    "import pickle\n",
    "\n",
    "pickle.dump(Wing, open(\"wing.p\", \"wb\"))\n",
    "\n",
    "del(Wing)\n",
    "display.EraseAll()\n",
    "\n",
    "LoadedWing = pickle.load(open(\"wing.p\", \"rb\"))\n",
    "display.DisplayShape(LoadedWing.Shape, update=True, color='Blue')"
   ]
  },
  {
   "cell_type": "code",
   "execution_count": 8,
   "metadata": {
    "collapsed": true
   },
   "outputs": [],
   "source": []
  },
  {
   "cell_type": "markdown",
   "metadata": {
    "collapsed": false
   },
   "source": [
    "## Random things I tried out (Needs removing)"
   ]
  },
  {
   "cell_type": "code",
   "execution_count": 22,
   "metadata": {
    "collapsed": false
   },
   "outputs": [],
   "source": [
    "from OCC.gp import gp_Lin\n",
    "from OCC.ShapeConstruct import shapeconstruct\n",
    "\n",
    "Af2 = airconics.primitives.Airfoil([0.,0.,0.], ChordLength=3., Naca4Profile='2412')\n",
    "\n",
    "h = Af2.curve.GetHandle()\n",
    "EP = h.EndPoint()\n",
    "SP = h.StartPoint()\n",
    "closure = gp_Lin(EP, SP)\n",
    "\n",
    "shapeconstruct.JoinCurves(h.GetObject(), closure.)\n",
    "\n",
    "display.DisplayShape(Af2.Curve, update=True)"
   ]
  },
  {
   "cell_type": "code",
   "execution_count": 42,
   "metadata": {
    "collapsed": false
   },
   "outputs": [
    {
     "data": {
      "text/plain": [
       "<OCC.AIS.Handle_AIS_Shape; proxy of <Swig Object of type 'Handle_AIS_Shape *' at 0x7f8d46e72570> >"
      ]
     },
     "execution_count": 42,
     "metadata": {},
     "output_type": "execute_result"
    },
    {
     "name": "stdout",
     "output_type": "stream",
     "text": [
      "Current selection (single): <OCC.TopoDS.TopoDS_Shape; proxy of <Swig Object of type 'TopoDS_Shape *' at 0x7f8dae1fa2d0> >\n",
      "Current selection (single):"
     ]
    }
   ],
   "source": [
    "from OCC.gp import gp_Lin, gp_Ax1, gp_Dir\n",
    "from OCC.ShapeConstruct import shapeconstruct\n",
    "from OCC.BRepBuilderAPI import BRepBuilderAPI_MakeEdge\n",
    "\n",
    "Af2 = airconics.primitives.Airfoil([0.,0.,0.], ChordLength=3., Naca4Profile='2412')\n",
    "\n",
    "h = Af2.Curve.GetObject()\n",
    "EP = h.EndPoint()\n",
    "SP = h.StartPoint()\n",
    "closure = BRepBuilderAPI_MakeEdge(gp_Lin(gp_Ax1(EP, gp_Dir(SP.XYZ()))) ).Edge()\n",
    "\n",
    "display.DisplayShape(closure, update=True)\n",
    "display.DisplayShape(Af2.Curve, update=True)"
   ]
  },
  {
   "cell_type": "code",
   "execution_count": 12,
   "metadata": {
    "collapsed": false
   },
   "outputs": [],
   "source": [
    "issubclass?\n"
   ]
  },
  {
   "cell_type": "code",
   "execution_count": 36,
   "metadata": {
    "collapsed": false
   },
   "outputs": [
    {
     "data": {
      "text/plain": [
       "OCC.gp.gp_Lin"
      ]
     },
     "execution_count": 36,
     "metadata": {},
     "output_type": "execute_result"
    }
   ],
   "source": [
    "type(closure)"
   ]
  },
  {
   "cell_type": "code",
   "execution_count": null,
   "metadata": {
    "collapsed": true
   },
   "outputs": [],
   "source": []
  }
 ],
 "metadata": {
  "kernelspec": {
   "display_name": "Python 2",
   "language": "python",
   "name": "python2"
  },
  "language_info": {
   "codemirror_mode": {
    "name": "ipython",
    "version": 2
   },
   "file_extension": ".py",
   "mimetype": "text/x-python",
   "name": "python",
   "nbconvert_exporter": "python",
   "pygments_lexer": "ipython2",
   "version": "2.7.11"
  }
 },
 "nbformat": 4,
 "nbformat_minor": 0
}
