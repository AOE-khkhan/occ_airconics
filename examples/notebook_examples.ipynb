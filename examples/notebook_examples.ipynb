{
 "cells": [
  {
   "cell_type": "markdown",
   "metadata": {},
   "source": [
    "# Notebook for Airconics examples "
   ]
  },
  {
   "cell_type": "markdown",
   "metadata": {},
   "source": [
    "IMPORTANT!: ipython notebook bug requires first code cells to be run manually (i.e. not with 'Run All' Cells). After this, all cells can be rerun with 'Run all below'. "
   ]
  },
  {
   "cell_type": "code",
   "execution_count": 1,
   "metadata": {
    "collapsed": false
   },
   "outputs": [
    {
     "name": "stdout",
     "output_type": "stream",
     "text": [
      "Using PyQt4\n"
     ]
    }
   ],
   "source": [
    "import airconics\n",
    "%gui qt4\n",
    "# Initialise the display\n",
    "from OCC.Display.SimpleGui import init_display\n",
    "display, start_display, add_menu, add_function_to_menu = init_display()"
   ]
  },
  {
   "cell_type": "markdown",
   "metadata": {},
   "source": [
    "## Airfoils"
   ]
  },
  {
   "cell_type": "code",
   "execution_count": 2,
   "metadata": {
    "collapsed": false
   },
   "outputs": [
    {
     "ename": "TypeError",
     "evalue": "in method 'Geom2d_Geometry_Translated', argument 2 of type 'gp_Vec2d const &'",
     "output_type": "error",
     "traceback": [
      "\u001b[1;31m---------------------------------------------------------------------------\u001b[0m",
      "\u001b[1;31mTypeError\u001b[0m                                 Traceback (most recent call last)",
      "\u001b[1;32m<ipython-input-2-effb84683355>\u001b[0m in \u001b[0;36m<module>\u001b[1;34m()\u001b[0m\n\u001b[0;32m     10\u001b[0m \u001b[1;31m# Instantiate class to set up a generic airfoil with these basic parameters\u001b[0m\u001b[1;33m\u001b[0m\u001b[1;33m\u001b[0m\u001b[0m\n\u001b[0;32m     11\u001b[0m Af1 = airconics.primitives.Airfoil(LEPoint, ChordLength, Rotation, Twist,\n\u001b[1;32m---> 12\u001b[1;33m                         SeligProfile=AirfoilSeligName)\n\u001b[0m\u001b[0;32m     13\u001b[0m \u001b[0mdisplay\u001b[0m\u001b[1;33m.\u001b[0m\u001b[0mDisplayShape\u001b[0m\u001b[1;33m(\u001b[0m\u001b[0mAf1\u001b[0m\u001b[1;33m.\u001b[0m\u001b[0mShape\u001b[0m\u001b[1;33m,\u001b[0m \u001b[0mupdate\u001b[0m\u001b[1;33m=\u001b[0m\u001b[0mTrue\u001b[0m\u001b[1;33m)\u001b[0m\u001b[1;33m;\u001b[0m\u001b[1;33m\u001b[0m\u001b[0m\n",
      "\u001b[1;32m/home/pchambers/git/OCC_AirCONICS/airconics/primitives.pyc\u001b[0m in \u001b[0;36m__init__\u001b[1;34m(self, LeadingEdgePoint, ChordLength, Rotation, Twist, SeligProfile, Naca4Profile, Naca5Profile, EnforceSharpTE)\u001b[0m\n\u001b[0;32m     68\u001b[0m         \u001b[0mself\u001b[0m\u001b[1;33m.\u001b[0m\u001b[0m_Twist\u001b[0m \u001b[1;33m=\u001b[0m \u001b[0mTwist\u001b[0m\u001b[1;33m\u001b[0m\u001b[0m\n\u001b[0;32m     69\u001b[0m         \u001b[0mself\u001b[0m\u001b[1;33m.\u001b[0m\u001b[0m_EnforceSharpTE\u001b[0m \u001b[1;33m=\u001b[0m \u001b[0mEnforceSharpTE\u001b[0m\u001b[1;33m\u001b[0m\u001b[0m\n\u001b[1;32m---> 70\u001b[1;33m         \u001b[0mself\u001b[0m\u001b[1;33m.\u001b[0m\u001b[0m_make_airfoil\u001b[0m\u001b[1;33m(\u001b[0m\u001b[0mSeligProfile\u001b[0m\u001b[1;33m,\u001b[0m \u001b[0mNaca4Profile\u001b[0m\u001b[1;33m,\u001b[0m \u001b[0mNaca5Profile\u001b[0m\u001b[1;33m)\u001b[0m\u001b[1;33m\u001b[0m\u001b[0m\n\u001b[0m\u001b[0;32m     71\u001b[0m \u001b[1;33m\u001b[0m\u001b[0m\n\u001b[0;32m     72\u001b[0m \u001b[1;33m\u001b[0m\u001b[0m\n",
      "\u001b[1;32m/home/pchambers/git/OCC_AirCONICS/airconics/primitives.pyc\u001b[0m in \u001b[0;36m_make_airfoil\u001b[1;34m(self, SeligProfile, Naca4Profile, Naca5Profile)\u001b[0m\n\u001b[0;32m     75\u001b[0m         \u001b[1;32mif\u001b[0m \u001b[0mSeligProfile\u001b[0m\u001b[1;33m:\u001b[0m\u001b[1;33m\u001b[0m\u001b[0m\n\u001b[0;32m     76\u001b[0m             \u001b[0mself\u001b[0m\u001b[1;33m.\u001b[0m\u001b[0m_profile\u001b[0m \u001b[1;33m=\u001b[0m \u001b[0mSeligProfile\u001b[0m\u001b[1;33m\u001b[0m\u001b[0m\n\u001b[1;32m---> 77\u001b[1;33m             \u001b[0mself\u001b[0m\u001b[1;33m.\u001b[0m\u001b[0mAddAirfoilFromSeligFile\u001b[0m\u001b[1;33m(\u001b[0m\u001b[0mSeligProfile\u001b[0m\u001b[1;33m)\u001b[0m\u001b[1;33m\u001b[0m\u001b[0m\n\u001b[0m\u001b[0;32m     78\u001b[0m         \u001b[1;32melif\u001b[0m \u001b[0mNaca4Profile\u001b[0m\u001b[1;33m:\u001b[0m\u001b[1;33m\u001b[0m\u001b[0m\n\u001b[0;32m     79\u001b[0m             \u001b[0mself\u001b[0m\u001b[1;33m.\u001b[0m\u001b[0m_profile\u001b[0m \u001b[1;33m=\u001b[0m \u001b[0mNaca4Profile\u001b[0m\u001b[1;33m\u001b[0m\u001b[0m\n",
      "\u001b[1;32m/home/pchambers/git/OCC_AirCONICS/airconics/primitives.pyc\u001b[0m in \u001b[0;36mAddAirfoilFromSeligFile\u001b[1;34m(self, SeligProfile, Smoothing)\u001b[0m\n\u001b[0;32m    301\u001b[0m         \u001b[0mx\u001b[0m\u001b[1;33m,\u001b[0m \u001b[0mz\u001b[0m \u001b[1;33m=\u001b[0m \u001b[0mself\u001b[0m\u001b[1;33m.\u001b[0m\u001b[0m_AirfoilPointsSeligFormat\u001b[0m\u001b[1;33m(\u001b[0m\u001b[0mSeligProfile\u001b[0m\u001b[1;33m)\u001b[0m\u001b[1;33m\u001b[0m\u001b[0m\n\u001b[0;32m    302\u001b[0m         \u001b[0mself\u001b[0m\u001b[1;33m.\u001b[0m\u001b[0mCurve\u001b[0m \u001b[1;33m=\u001b[0m \u001b[0mself\u001b[0m\u001b[1;33m.\u001b[0m\u001b[0m_fitAirfoiltoPoints\u001b[0m\u001b[1;33m(\u001b[0m\u001b[0mx\u001b[0m\u001b[1;33m,\u001b[0m \u001b[0mz\u001b[0m\u001b[1;33m)\u001b[0m\u001b[1;33m\u001b[0m\u001b[0m\n\u001b[1;32m--> 303\u001b[1;33m         \u001b[0mself\u001b[0m\u001b[1;33m.\u001b[0m\u001b[0m_TransformAirfoil\u001b[0m\u001b[1;33m(\u001b[0m\u001b[1;33m)\u001b[0m\u001b[1;33m\u001b[0m\u001b[0m\n\u001b[0m\u001b[0;32m    304\u001b[0m         \u001b[1;32mreturn\u001b[0m \u001b[0mNone\u001b[0m\u001b[1;33m\u001b[0m\u001b[0m\n\u001b[0;32m    305\u001b[0m \u001b[1;33m\u001b[0m\u001b[0m\n",
      "\u001b[1;32m/home/pchambers/git/OCC_AirCONICS/airconics/primitives.pyc\u001b[0m in \u001b[0;36m_TransformAirfoil\u001b[1;34m(self)\u001b[0m\n\u001b[0;32m    282\u001b[0m         \u001b[0mCurve\u001b[0m \u001b[1;33m=\u001b[0m \u001b[0mself\u001b[0m\u001b[1;33m.\u001b[0m\u001b[0mCurve\u001b[0m\u001b[1;33m.\u001b[0m\u001b[0mGetObject\u001b[0m\u001b[1;33m(\u001b[0m\u001b[1;33m)\u001b[0m\u001b[1;33m\u001b[0m\u001b[0m\n\u001b[0;32m    283\u001b[0m         self.Curve = Handle_Geom_BSplineCurve_DownCast(Curve.Translated(\n\u001b[1;32m--> 284\u001b[1;33m                                                         gp_Vec(*self._LE))\n\u001b[0m\u001b[0;32m    285\u001b[0m                                                         )\n\u001b[0;32m    286\u001b[0m \u001b[1;33m\u001b[0m\u001b[0m\n",
      "\u001b[1;31mTypeError\u001b[0m: in method 'Geom2d_Geometry_Translated', argument 2 of type 'gp_Vec2d const &'"
     ]
    }
   ],
   "source": [
    "# Note these sizing variables aren't used yet\n",
    "LEPoint = [0., 0., 0.] \n",
    "ChordLength = 1\n",
    "Rotation = 0\n",
    "Twist = 0\n",
    "\n",
    "AirfoilSeligName = 'dae11'\n",
    "# SmoothingPasses = 1   #TODO\n",
    "\n",
    "# Instantiate class to set up a generic airfoil with these basic parameters\n",
    "Af1 = airconics.primitives.Airfoil(LEPoint, ChordLength, Rotation, Twist,\n",
    "                        SeligProfile=AirfoilSeligName)\n",
    "display.DisplayShape(Af1.Shape, update=True);"
   ]
  },
  {
   "cell_type": "code",
   "execution_count": 13,
   "metadata": {
    "collapsed": false
   },
   "outputs": [
    {
     "ename": "TypeError",
     "evalue": "__init__() got an unexpected keyword argument 'LEPoint'",
     "output_type": "error",
     "traceback": [
      "\u001b[1;31m---------------------------------------------------------------------------\u001b[0m",
      "\u001b[1;31mTypeError\u001b[0m                                 Traceback (most recent call last)",
      "\u001b[1;32m<ipython-input-13-6dd5d9776fa1>\u001b[0m in \u001b[0;36m<module>\u001b[1;34m()\u001b[0m\n\u001b[0;32m      1\u001b[0m \u001b[1;31m# Add another one (just to test display):\u001b[0m\u001b[1;33m\u001b[0m\u001b[1;33m\u001b[0m\u001b[0m\n\u001b[0;32m      2\u001b[0m Af2 = airconics.primitives.Airfoil(LEPoint=[0.,1.,2.], ChordLength=2,\n\u001b[1;32m----> 3\u001b[1;33m                         SeligProfile='b707a')\n\u001b[0m\u001b[0;32m      4\u001b[0m \u001b[0mdisplay\u001b[0m\u001b[1;33m.\u001b[0m\u001b[0mDisplayShape\u001b[0m\u001b[1;33m(\u001b[0m\u001b[0mAf2\u001b[0m\u001b[1;33m.\u001b[0m\u001b[0mCurve\u001b[0m\u001b[1;33m,\u001b[0m \u001b[0mupdate\u001b[0m\u001b[1;33m=\u001b[0m\u001b[0mTrue\u001b[0m\u001b[1;33m,\u001b[0m \u001b[0mcolor\u001b[0m\u001b[1;33m=\u001b[0m\u001b[1;34m'BLUE'\u001b[0m\u001b[1;33m)\u001b[0m\u001b[1;33m;\u001b[0m\u001b[1;33m\u001b[0m\u001b[0m\n",
      "\u001b[1;31mTypeError\u001b[0m: __init__() got an unexpected keyword argument 'LEPoint'"
     ]
    }
   ],
   "source": [
    "# Add another one (just to test display):\n",
    "Af2 = airconics.primitives.Airfoil([0.,1.,2.], ChordLength=2,\n",
    "                        SeligProfile='b707a')\n",
    "display.DisplayShape(Af2.Curve, update=True, color='BLUE');"
   ]
  },
  {
   "cell_type": "code",
   "execution_count": 9,
   "metadata": {
    "collapsed": false
   },
   "outputs": [
    {
     "ename": "AttributeError",
     "evalue": "Airfoil instance has no attribute 'Curve'",
     "output_type": "error",
     "traceback": [
      "\u001b[1;31m---------------------------------------------------------------------------\u001b[0m",
      "\u001b[1;31mAttributeError\u001b[0m                            Traceback (most recent call last)",
      "\u001b[1;32m<ipython-input-9-4a545d4be013>\u001b[0m in \u001b[0;36m<module>\u001b[1;34m()\u001b[0m\n\u001b[0;32m      1\u001b[0m \u001b[1;31m# Add NACA 4 digit airfoil:\u001b[0m\u001b[1;33m\u001b[0m\u001b[1;33m\u001b[0m\u001b[0m\n\u001b[0;32m      2\u001b[0m \u001b[0mAf3\u001b[0m \u001b[1;33m=\u001b[0m \u001b[0mairconics\u001b[0m\u001b[1;33m.\u001b[0m\u001b[0mprimitives\u001b[0m\u001b[1;33m.\u001b[0m\u001b[0mAirfoil\u001b[0m\u001b[1;33m(\u001b[0m\u001b[0mLEPoint\u001b[0m\u001b[1;33m,\u001b[0m \u001b[0mChordLength\u001b[0m\u001b[1;33m=\u001b[0m\u001b[1;36m3\u001b[0m\u001b[1;33m,\u001b[0m \u001b[0mNaca4Profile\u001b[0m\u001b[1;33m=\u001b[0m\u001b[1;34m'2412'\u001b[0m\u001b[1;33m,\u001b[0m \u001b[0mEnforceSharpTE\u001b[0m\u001b[1;33m=\u001b[0m\u001b[0mTrue\u001b[0m\u001b[1;33m)\u001b[0m\u001b[1;33m\u001b[0m\u001b[0m\n\u001b[1;32m----> 3\u001b[1;33m \u001b[0mdisplay\u001b[0m\u001b[1;33m.\u001b[0m\u001b[0mDisplayShape\u001b[0m\u001b[1;33m(\u001b[0m\u001b[0mAf3\u001b[0m\u001b[1;33m.\u001b[0m\u001b[0mCurve\u001b[0m\u001b[1;33m,\u001b[0m \u001b[0mupdate\u001b[0m\u001b[1;33m=\u001b[0m\u001b[0mTrue\u001b[0m\u001b[1;33m,\u001b[0m \u001b[0mcolor\u001b[0m\u001b[1;33m=\u001b[0m\u001b[1;34m'GREEN'\u001b[0m\u001b[1;33m)\u001b[0m\u001b[1;33m;\u001b[0m\u001b[1;33m\u001b[0m\u001b[0m\n\u001b[0m",
      "\u001b[1;31mAttributeError\u001b[0m: Airfoil instance has no attribute 'Curve'"
     ]
    }
   ],
   "source": [
    "# Add NACA 4 digit airfoil:\n",
    "Af3 = airconics.primitives.Airfoil(LEPoint, ChordLength=3, Naca4Profile='2412', EnforceSharpTE=True)\n",
    "display.DisplayShape(Af3.Curve, update=True, color='GREEN');"
   ]
  },
  {
   "cell_type": "markdown",
   "metadata": {},
   "source": [
    "## Lofted Wing"
   ]
  },
  {
   "cell_type": "code",
   "execution_count": null,
   "metadata": {
    "collapsed": true
   },
   "outputs": [],
   "source": [
    "import airconics.AirCONICStools as act\n",
    "\n",
    "# root airfoil:\n",
    "Af_root = \n",
    "\n",
    "# tip airfoil:\n",
    "\n",
    "act.surface_from_airofils(Af)"
   ]
  },
  {
   "cell_type": "code",
   "execution_count": null,
   "metadata": {
    "collapsed": false
   },
   "outputs": [],
   "source": [
    "# Write Output STEP file:\n",
    "act.export_STEPFile([Af1,Af2,Af3], 'airfoils.stp')"
   ]
  },
  {
   "cell_type": "code",
   "execution_count": 5,
   "metadata": {
    "collapsed": false
   },
   "outputs": [
    {
     "name": "stdout",
     "output_type": "stream",
     "text": [
      " <OCC.TopoDS.TopoDS_Shape; proxy of <Swig Object of type 'TopoDS_Shape *' at 0x7f5fecf07bd0> >\n"
     ]
    },
    {
     "data": {
      "text/plain": [
       "<airconics.primitives.Airfoil instance at 0x7f5fecf0c488>"
      ]
     },
     "execution_count": 5,
     "metadata": {},
     "output_type": "execute_result"
    }
   ],
   "source": []
  },
  {
   "cell_type": "code",
   "execution_count": 7,
   "metadata": {
    "collapsed": false
   },
   "outputs": [
    {
     "data": {
      "text/plain": [
       "<OCC.Geom2d.Handle_Geom2d_BSplineCurve; proxy of <Swig Object of type 'Handle_Geom2d_BSplineCurve *' at 0x7f5fecf1e630> >"
      ]
     },
     "execution_count": 7,
     "metadata": {},
     "output_type": "execute_result"
    }
   ],
   "source": []
  },
  {
   "cell_type": "code",
   "execution_count": null,
   "metadata": {
    "collapsed": true
   },
   "outputs": [],
   "source": []
  }
 ],
 "metadata": {
  "kernelspec": {
   "display_name": "Python 2",
   "language": "python",
   "name": "python2"
  },
  "language_info": {
   "codemirror_mode": {
    "name": "ipython",
    "version": 2
   },
   "file_extension": ".py",
   "mimetype": "text/x-python",
   "name": "python",
   "nbconvert_exporter": "python",
   "pygments_lexer": "ipython2",
   "version": "2.7.11"
  }
 },
 "nbformat": 4,
 "nbformat_minor": 0
}
