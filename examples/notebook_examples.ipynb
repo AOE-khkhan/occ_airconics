{
 "cells": [
  {
   "cell_type": "markdown",
   "metadata": {},
   "source": [
    "# Notebook for Airconics examples "
   ]
  },
  {
   "cell_type": "markdown",
   "metadata": {},
   "source": [
    "IMPORTANT!: ipython notebook bug requires first code cells to be run manually (i.e. not with 'Run All' Cells). After this, all cells can be rerun with 'Run all below'. "
   ]
  },
  {
   "cell_type": "code",
   "execution_count": 4,
   "metadata": {
    "collapsed": false
   },
   "outputs": [],
   "source": [
    "import airconics\n",
    "import airconics.AirCONICStools as act\n",
    "%gui qt4\n",
    "# Initialise the display\n",
    "from OCC.Display.SimpleGui import init_display\n",
    "display, start_display, add_menu, add_function_to_menu = init_display()"
   ]
  },
  {
   "cell_type": "markdown",
   "metadata": {},
   "source": [
    "## Airfoils"
   ]
  },
  {
   "cell_type": "code",
   "execution_count": null,
   "metadata": {
    "collapsed": false
   },
   "outputs": [],
   "source": [
    "LEPoint = [0., 0., 0.] \n",
    "ChordLength = 1\n",
    "\n",
    "AirfoilSeligName = 'dae11'\n",
    "\n",
    "# Instantiate class to set up a generic airfoil with these basic parameters\n",
    "Af1 = airconics.primitives.Airfoil(LEPoint, ChordLength=3., SeligProfile=AirfoilSeligName)\n",
    "Af1_disp = display.DisplayShape(Af1.Curve, update=True);\n",
    "\n",
    "HAf1 = Af1.Curve.GetObject()\n"
   ]
  },
  {
   "cell_type": "code",
   "execution_count": null,
   "metadata": {
    "collapsed": false
   },
   "outputs": [],
   "source": [
    "# Remove Airfoil:\n",
    "display.Context.Erase(Af1_disp.GetObject().GetHandle())\n",
    "Af1.Curve.GetObject().Delete()   # Not sure if this truly collects the garbage yet\n",
    "\n",
    "# Or Clear the display:\n",
    "display.EraseAll()"
   ]
  },
  {
   "cell_type": "markdown",
   "metadata": {},
   "source": [
    "## Simple Lofted Wing"
   ]
  },
  {
   "cell_type": "code",
   "execution_count": 2,
   "metadata": {
    "collapsed": false
   },
   "outputs": [],
   "source": [
    "# Add NACA 4 digit airfoils to loft between:\n",
    "Af2 = airconics.primitives.Airfoil([0.,0.,0.], ChordLength=3., Naca4Profile='2412')\n",
    "display.DisplayShape(Af2.Curve, update=True, color='GREEN');\n",
    "\n",
    "Af3 = airconics.primitives.Airfoil([0., 5., 0.], ChordLength=1., Naca4Profile='0012')\n",
    "display.DisplayShape(Af3.Curve, update=True, color='GREEN');\n",
    "\n",
    "Af4 = airconics.primitives.Airfoil([0., 6., 0.2], ChordLength=0.2, Naca4Profile='0012')\n",
    "display.DisplayShape(Af4.Curve, update=True, color='GREEN');\n",
    "\n",
    "surf = act.AddSurfaceLoft([Af2, Af3, Af4])\n",
    "\n",
    "# Note that surf is a TOPO_DS Shape, and hence no surf.Shape is required for display\n",
    "display.DisplayShape(surf, update=True);"
   ]
  },
  {
   "cell_type": "code",
   "execution_count": 3,
   "metadata": {
    "collapsed": false
   },
   "outputs": [],
   "source": [
    "display.EraseAll()\n"
   ]
  },
  {
   "cell_type": "markdown",
   "metadata": {},
   "source": [
    "## Wing, Transonic Airliner"
   ]
  },
  {
   "cell_type": "markdown",
   "metadata": {},
   "source": [
    "TODO: I tried making the lifting surface loft through airfoil sections as a solid loft, however the output stp file was not correct in Rhino (may be because TE and ends are not closed)"
   ]
  },
  {
   "cell_type": "code",
   "execution_count": 5,
   "metadata": {
    "collapsed": false,
    "scrolled": true
   },
   "outputs": [
    {
     "name": "stdout",
     "output_type": "stream",
     "text": [
      "<bound method BRepOffsetAPI_ThruSections.BRepOffsetAPI_ThruSections_CriteriumWeight of <OCC.BRepOffsetAPI.BRepOffsetAPI_ThruSections; proxy of <Swig Object of type 'BRepOffsetAPI_ThruSections *' at 0x7f5779c674b0> >>\n"
     ]
    }
   ],
   "source": [
    "import airconics\n",
    "import airconics.AirCONICStools as act\n",
    "%gui qt4\n",
    "# Initialise the display\n",
    "from OCC.Display.SimpleGui import init_display\n",
    "display, start_display, add_menu, add_function_to_menu = init_display()\n",
    "# Import all example functional definitions for the Common Research Model (CRM) Wing:\n",
    "from airconics.examples.wing_example_transonic_airliner import *\n",
    "\n",
    "# Position of the apex of the wing\n",
    "P = [0., 0., 0.]\n",
    "\n",
    "# Class definition\n",
    "NSeg = 10\n",
    "ChordFactor = 1\n",
    "ScaleFactor = 50\n",
    "\n",
    "# Generate (surface building is done during construction of the class)\n",
    "Wing = liftingsurface.LiftingSurface(P, mySweepAngleFunctionAirliner, \n",
    "    myDihedralFunctionAirliner, \n",
    "    myTwistFunctionAirliner, \n",
    "    myChordFunctionAirliner, \n",
    "    myAirfoilFunctionAirliner, SegmentNo=NSeg, ScaleFactor=ScaleFactor)\n",
    "\n",
    "# Here the TOPO_DS Shape to be displayed is stored in the Lifting surface 'Shape' Attribute\n",
    "from OCC.Graphic3d import Graphic3d_NOM_ALUMINIUM\n",
    "display.DisplayShape(Wing.Shape, update=True, material=Graphic3d_NOM_ALUMINIUM)\n",
    "for section in Wing._Sections:\n",
    "    display.DisplayShape(act.make_edge(section), color='Black', update=True)\n",
    "# Mirror the wing:\n",
    "# W2 = act.mirror(Wing.Shape, plane='xz')\n",
    "# # from OCC.AIS import AIS_WireFrame\n",
    "# # display.Context.SetDisplayMode(AIS_WireFrame)\n",
    "# # display.Repaint()\n",
    "# display.DisplayShape(W2, update=True)"
   ]
  },
  {
   "cell_type": "markdown",
   "metadata": {},
   "source": [
    "### File input/output"
   ]
  },
  {
   "cell_type": "code",
   "execution_count": 6,
   "metadata": {
    "collapsed": false
   },
   "outputs": [
    {
     "data": {
      "text/plain": [
       "1"
      ]
     },
     "execution_count": 6,
     "metadata": {},
     "output_type": "execute_result"
    }
   ],
   "source": [
    "# Write Output STEP file e.g. for viewing in Rhino:\n",
    "act.export_STEPFile([Wing.Shape], 'wing.stp')\n"
   ]
  },
  {
   "cell_type": "markdown",
   "metadata": {
    "collapsed": false
   },
   "source": [
    "## Tailplane, Transonic Airliner"
   ]
  },
  {
   "cell_type": "code",
   "execution_count": null,
   "metadata": {
    "collapsed": false
   },
   "outputs": [],
   "source": [
    "from OCC.gp import gp_Ax1, gp_Pnt, gp_Dir\n",
    "from airconics.examples.tailplane_example_transonic_airliner import *\n",
    "\n",
    "# Position of the apex of the fin\n",
    "P = [36.98-0.49-0.02, 0.0, 2.395-0.141]\n",
    "\n",
    "SegmentNo = 100\n",
    "ChordFact = 1.01\n",
    "ScaleFact = 21.93\n",
    "\n",
    "Fin = liftingsurface.LiftingSurface(P, mySweepAngleFunctionFin,\n",
    "                                    myDihedralFunctionFin,\n",
    "                                    myTwistFunctionFin,\n",
    "                                    myChordFunctionFin,\n",
    "                                    myAirfoilFunctionFin,\n",
    "                                    SegmentNo=SegmentNo,\n",
    "                                    ChordFactor=ChordFact,\n",
    "                                    ScaleFactor=ScaleFact)\n",
    "\n",
    "#    Create the rotation axis centered at the apex point in the x direction\n",
    "RotAxis = gp_Ax1(gp_Pnt(*P), gp_Dir(1, 0, 0))\n",
    "\n",
    "# Having some problem with the fin loft: display some airfoils\n",
    "# to figure out what's going on:\n",
    "#    for section in Fin._Sections:\n",
    "#        curve = section.Curve.GetObject()\n",
    "#        curve.Scale(gp_Pnt(0., 0., 0.), ScaleFact)\n",
    "#        display.DisplayShape(section.Curve, update=True)\n",
    "\n",
    "Fin.Rotate(RotAxis, 90)\n",
    "display.DisplayShape(Fin.Shape, update=True)\n",
    "\n",
    "# Position of the apex of the tailplane\n",
    "P = [43, 0.000, 1.633+0.02]\n",
    "\n",
    "SegmentNo = 100\n",
    "ChordFactor = 1.01\n",
    "ScaleFactor = 17.3\n",
    "\n",
    "TP = liftingsurface.LiftingSurface(P, mySweepAngleFunctionTP,\n",
    "                                   myDihedralFunctionTP,\n",
    "                                   myTwistFunctionTP,\n",
    "                                   myChordFunctionTP,\n",
    "                                   myAirfoilFunctionTP,\n",
    "                                   SegmentNo=SegmentNo,\n",
    "                                   ChordFactor=ChordFact,\n",
    "                                   ScaleFactor=ScaleFact)\n",
    "\n",
    "display.DisplayShape(TP.Shape, update=True)\n",
    "\n",
    "TP2 = act.mirror(TP.Shape, plane='xz', copy=True)\n",
    "\n",
    "# Note: TP2 is a TopoDS_Shape, not a wing and DisplayShape is called as:\n",
    "display.DisplayShape(TP2, update=True)"
   ]
  },
  {
   "cell_type": "markdown",
   "metadata": {},
   "source": [
    "## Fuselage Transonic Airliner"
   ]
  },
  {
   "cell_type": "code",
   "execution_count": null,
   "metadata": {
    "collapsed": false
   },
   "outputs": [],
   "source": [
    "# Adding this here so I dont have to keep scrolling down: remove later\n",
    "import airconics\n",
    "import airconics.AirCONICStools as act\n",
    "%gui qt4\n",
    "# Initialise the display\n",
    "from OCC.Display.SimpleGui import init_display\n",
    "display, start_display, add_menu, add_function_to_menu = init_display()\n"
   ]
  },
  {
   "cell_type": "code",
   "execution_count": null,
   "metadata": {
    "collapsed": false
   },
   "outputs": [],
   "source": [
    "Fus = airconics.fuselage_oml.Fuselage()\n",
    "\n",
    "# display.DisplayShape(Fus.PortCurve, update=True)\n",
    "\n",
    "L = len(Fus._SectionPlanes)\n",
    "P = Fus._SectionPlanes[0]\n",
    "# curve = Fus.PortCurve\n",
    "display.DisplayShape(Fus.FSVUCurve, update=True)\n",
    "display.DisplayShape(Fus.FSVLCurve, update=True)\n",
    "display.DisplayShape(Fus.FSVMeanCurve, update=True)\n",
    "type(P)\n",
    "display.DisplayShape(P, update=True)\n"
   ]
  },
  {
   "cell_type": "code",
   "execution_count": null,
   "metadata": {
    "collapsed": false
   },
   "outputs": [],
   "source": [
    "Af1"
   ]
  },
  {
   "cell_type": "code",
   "execution_count": null,
   "metadata": {
    "collapsed": false
   },
   "outputs": [],
   "source": [
    "from OCC.GeomAdaptor import GeomAdaptor_HCurve\n",
    "hcurve= GeomAdaptor_HCurve(curve.GetHandle())\n",
    "type(hcurve)\n",
    "hcurve.GetHandle()\n",
    "\n",
    "\n",
    "def intersect_shape_by_curve(topods_shape, curve, low_parameter=0.0, hi_parameter=float(\"+inf\")):\n",
    "    \"\"\"\n",
    "    finds the intersection of a shape and a line\n",
    "    :param shape: any TopoDS_*\n",
    "    :param curve: gp_Lin\n",
    "    :param low_parameter:\n",
    "    :param hi_parameter:\n",
    "    :return: a list with a number of tuples that corresponds to the number\n",
    "    of intersections found\n",
    "    the tuple contains ( gp_Pnt, TopoDS_Face, u,v,w ), respectively the\n",
    "    intersection point, the intersecting face\n",
    "    and the u,v,w parameters of the intersection point\n",
    "    :raise:\n",
    "    \"\"\"\n",
    "    from OCC.IntCurvesFace import IntCurvesFace_ShapeIntersector\n",
    "    shape_inter = IntCurvesFace_ShapeIntersector()\n",
    "    shape_inter.Load(topods_shape, 1e-6)\n",
    "    shape_inter.Perform(curve, low_parameter, hi_parameter)\n",
    "\n",
    "    with assert_isdone(shape_inter, \"failed to computer shape / line intersection\"):\n",
    "        return (shape_inter.Pnt(1),\n",
    "                shape_inter.Face(1),\n",
    "                shape_inter.UParameter(1),\n",
    "                shape_inter.VParameter(1),\n",
    "                shape_inter.WParameter(1))\n",
    "\n",
    "intersect_shape_by_curve(P, hcurve)\n"
   ]
  },
  {
   "cell_type": "code",
   "execution_count": null,
   "metadata": {
    "collapsed": false
   },
   "outputs": [],
   "source": []
  },
  {
   "cell_type": "code",
   "execution_count": null,
   "metadata": {
    "collapsed": true
   },
   "outputs": [],
   "source": []
  },
  {
   "cell_type": "code",
   "execution_count": null,
   "metadata": {
    "collapsed": false
   },
   "outputs": [],
   "source": [
    "# Testing stuff(remove later)\n",
    "\n",
    "from OCC.Geom2d import Geom2d_BezierCurve\n",
    "from OCC.TColgp import TColgp_Array1OfPnt2d\n",
    "from OCC.Geom2d import Handle_Geom2d_Curve\n",
    "from OCC.gp import gp_Pnt2d\n",
    "from OCC.BRepBuilderAPI import BRepBuilderAPI_MakeEdge2d\n",
    "import numpy as np \n",
    "from OCC.Bnd import Bnd_Box2d\n",
    "from OCC.BRepBndLib import brepbndlib_Add\n",
    "\n",
    "NoseLengthRatio = 0.182\n",
    "TailLengthRatio = 0.293\n",
    "kN = NoseLengthRatio / 0.182\n",
    "tN = TailLengthRatio / 0.293\n",
    "AFSVUpper = np.array([[0,                 0, 0],\n",
    "                      [0,                 0, 0.3],\n",
    "                      [1.395*kN,          0, 1.547],\n",
    "                      [4*kN,              0, 1.686],\n",
    "                      [4*kN,              0, 1.686],\n",
    "                      # parallel section here\n",
    "                      [22-(22-15.55)*tN,  0, 1.686],\n",
    "                      [22-(22-15.55)*tN,  0, 1.686],\n",
    "                      [22-(22-19.195)*tN, 0, 1.549],\n",
    "                      [22,                0, 0.904]])\n",
    "#        Scale:\n",
    "AFSVUpper *= 2.541\n",
    "\n",
    "# The lower contour control points\n",
    "# of the fuselage in side view\n",
    "AFSVLower = np.array([[0,                0,  0],\n",
    "                      [0,                0, -0.3],\n",
    "                      [0.947*kN,         0, -0.517],\n",
    "                      [4*kN,             0, -0.654],\n",
    "                      [4*kN,             0, -0.654],\n",
    "                      # Parallel sides section\n",
    "                      [22-(22-15.55)*tN, 0, -0.654],\n",
    "                      [22-(22-15.55)*tN, 0, -0.654],\n",
    "                      # Tailstrike slope section\n",
    "                      [22-(22-18.787)*tN,0, -0.256],\n",
    "                      [22,               0,  0.694]])\n",
    "AFSVLower *= 2.541\n",
    "\n",
    "FSVMean = (AFSVUpper + AFSVLower)/2.\n",
    "FSVMeanCurve = act.points_to_BezierCurve(FSVMean)\n",
    "\n",
    "display.DisplayShape(Fus.FSVMeanCurve, update=True)"
   ]
  },
  {
   "cell_type": "markdown",
   "metadata": {
    "collapsed": false
   },
   "source": [
    "## Random things I tried out (Needs removing)"
   ]
  },
  {
   "cell_type": "code",
   "execution_count": null,
   "metadata": {
    "collapsed": false
   },
   "outputs": [],
   "source": [
    "# from OCC.gp import gp_Lin\n",
    "# from OCC.ShapeConstruct import shapeconstruct\n",
    "\n",
    "# Af2 = airconics.primitives.Airfoil([0.,0.,0.], ChordLength=3., Naca4Profile='2412')\n",
    "\n",
    "# h = Af2.curve.GetHandle()\n",
    "# EP = h.EndPoint()\n",
    "# SP = h.StartPoint()\n",
    "# closure = gp_Lin(EP, SP)\n",
    "\n",
    "# shapeconstruct.JoinCurves(h.GetObject(), closure.)\n",
    "\n",
    "# display.DisplayShape(Af2.Curve, update=True)"
   ]
  },
  {
   "cell_type": "code",
   "execution_count": null,
   "metadata": {
    "collapsed": false
   },
   "outputs": [],
   "source": [
    "# from OCC.gp import gp_Lin, gp_Ax1, gp_Dir\n",
    "# from OCC.ShapeConstruct import shapeconstruct\n",
    "# from OCC.BRepBuilderAPI import BRepBuilderAPI_MakeEdge\n",
    "\n",
    "# Af2 = airconics.primitives.Airfoil([0.,0.,0.], ChordLength=3., Naca4Profile='2412')\n",
    "\n",
    "# h = Af2.Curve.GetObject()\n",
    "# EP = h.EndPoint()\n",
    "# SP = h.StartPoint()\n",
    "# closure = BRepBuilderAPI_MakeEdge(gp_Lin(gp_Ax1(EP, gp_Dir(SP.XYZ()))) ).Edge()\n",
    "\n",
    "# display.DisplayShape(closure, update=True)\n",
    "# display.DisplayShape(Af2.Curve, update=True)"
   ]
  },
  {
   "cell_type": "code",
   "execution_count": null,
   "metadata": {
    "collapsed": false
   },
   "outputs": [],
   "source": [
    "# # Note : This seems to make objects render in ipython notebook (only works for shapes? only works if %gui qt4 has npt)\n",
    "import sys\n",
    "import os\n",
    "\n",
    "# Change this to path to pythonocc-contrib repository\n",
    "pythonocc_contrib_dir = os.path.abspath('/home/pchambers/git/pythonocc-contrib')\n",
    "sys.path.append(pythonocc_contrib_dir)\n",
    "\n",
    "# Create the wing:\n",
    "from airconics.examples.wing_example_transonic_airliner import *\n",
    "\n",
    "# Position of the apex of the wing\n",
    "P = (0,0,0)\n",
    "NSeg = 10\n",
    "ChordFactor = 1\n",
    "ScaleFactor = 50\n",
    "Wing = liftingsurface.LiftingSurface(P, mySweepAngleFunctionAirliner, \n",
    "    myDihedralFunctionAirliner, \n",
    "    myTwistFunctionAirliner, \n",
    "    myChordFunctionAirliner, \n",
    "    myAirfoilFunctionAirliner, SegmentNo=NSeg, ScaleFactor=ScaleFactor)\n",
    "\n",
    "import WebServer.TornadoWeb\n",
    "renderer = WebServer.TornadoWeb.TornadoWebRenderer()\n",
    "renderer.DisplayShape(Wing.Shape)\n",
    "renderer"
   ]
  },
  {
   "cell_type": "code",
   "execution_count": null,
   "metadata": {
    "collapsed": false
   },
   "outputs": [],
   "source": [
    "import airconics\n",
    "import airconics.AirCONICStools as act\n",
    "%gui qt4\n",
    "# Initialise the display\n",
    "from OCC.Display.SimpleGui import init_display\n",
    "display, start_display, add_menu, add_function_to_menu = init_display()\n",
    "\n",
    "from OCC.gp import gp_Pnt\n",
    "c = act.points_to_BezierCurve([gp_Pnt(0, 1, 0), gp_Pnt(2, 5, 4)])\n",
    "h = c.Copy().GetObject()\n",
    "display.DisplayShape(h.GetObject(), update=True)"
   ]
  },
  {
   "cell_type": "code",
   "execution_count": null,
   "metadata": {
    "collapsed": false
   },
   "outputs": [],
   "source": [
    "from OCC.Geom import Handle_Geom_BezierCurve\n",
    "h2 = Handle_Geom_BezierCurve(h.GetHandle())"
   ]
  },
  {
   "cell_type": "code",
   "execution_count": null,
   "metadata": {
    "collapsed": true
   },
   "outputs": [],
   "source": [
    "# # This cell can be used to start a freecad window, create a new document and transfer the airconics\n",
    "# # Wing shape to the viewer\n",
    "# import sys\n",
    "# sys.path.append('/usr/lib/freecad/lib')\n",
    "# import FreeCAD\n",
    "# import FreeCADGui\n",
    "# %gui qt\n",
    "# FreeCADGui.showMainWindow()\n",
    "\n",
    "# doc = FreeCAD.newDocument()\n",
    "\n",
    "# import Part\n",
    "\n",
    "# import airconics \n",
    "# # Import all example functional definitions for the Common Research Model (CRM) Wing:\n",
    "# from airconics.examples.wing_example_transonic_airliner import *\n",
    "\n",
    "# # Position of the apex of the wing\n",
    "# P = [0., 0., 0.]\n",
    "\n",
    "# # Class definition\n",
    "# NSeg = 10\n",
    "# ChordFactor = 1\n",
    "# ScaleFactor = 50\n",
    "\n",
    "# Wing = liftingsurface.LiftingSurface(P, mySweepAngleFunctionAirliner, \n",
    "#     myDihedralFunctionAirliner, \n",
    "#     myTwistFunctionAirliner, \n",
    "#     myChordFunctionAirliner, \n",
    "#     myAirfoilFunctionAirliner, SegmentNo=NSeg, ScaleFactor=ScaleFactor)\n",
    "\n",
    "# w = Part.__fromPythonOCC__(Wing.Shape)\n",
    "# Part.show(w)"
   ]
  },
  {
   "cell_type": "code",
   "execution_count": null,
   "metadata": {
    "collapsed": true
   },
   "outputs": [],
   "source": [
    "# shape = Wing.Shape\n",
    "# from OCC.TopExp import TopExp_Explorer\n",
    "# from OCC.TopAbs import TopAbs_FACE\n",
    "# from OCC.TopoDS import TopoDS_Face\n",
    "# ex = TopExp_Explorer(shape, TopAbs_FACE)\n",
    "# ex.More()\n",
    "# currentFace = ex.Current()"
   ]
  }
 ],
 "metadata": {
  "kernelspec": {
   "display_name": "Python 2",
   "language": "python",
   "name": "python2"
  },
  "language_info": {
   "codemirror_mode": {
    "name": "ipython",
    "version": 2
   },
   "file_extension": ".py",
   "mimetype": "text/x-python",
   "name": "python",
   "nbconvert_exporter": "python",
   "pygments_lexer": "ipython2",
   "version": "2.7.11"
  }
 },
 "nbformat": 4,
 "nbformat_minor": 0
}
