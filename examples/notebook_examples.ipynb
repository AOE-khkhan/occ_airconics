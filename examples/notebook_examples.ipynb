{
 "cells": [
  {
   "cell_type": "markdown",
   "metadata": {},
   "source": [
    "# Notebook for Airconics examples "
   ]
  },
  {
   "cell_type": "markdown",
   "metadata": {},
   "source": [
    "IMPORTANT!: ipython notebook bug requires first code cells to be run manually (i.e. not with 'Run All' Cells). After this, all cells can be rerun with 'Run all below'. "
   ]
  },
  {
   "cell_type": "code",
   "execution_count": 1,
   "metadata": {
    "collapsed": false
   },
   "outputs": [
    {
     "name": "stdout",
     "output_type": "stream",
     "text": [
      "Using PyQt4\n"
     ]
    }
   ],
   "source": [
    "import airconics\n",
    "import airconics.AirCONICStools as act\n",
    "%gui qt4\n",
    "# Initialise the display\n",
    "from OCC.Display.SimpleGui import init_display\n",
    "display, start_display, add_menu, add_function_to_menu = init_display()"
   ]
  },
  {
   "cell_type": "markdown",
   "metadata": {},
   "source": [
    "## Airfoils"
   ]
  },
  {
   "cell_type": "code",
   "execution_count": null,
   "metadata": {
    "collapsed": false
   },
   "outputs": [],
   "source": [
    "LEPoint = [0., 0., 0.] \n",
    "ChordLength = 1\n",
    "\n",
    "AirfoilSeligName = 'dae11'\n",
    "\n",
    "# Instantiate class to set up a generic airfoil with these basic parameters\n",
    "Af1 = airconics.primitives.Airfoil(LEPoint, ChordLength=3., SeligProfile=AirfoilSeligName)\n",
    "Af1_disp = display.DisplayShape(Af1.Curve, update=True);"
   ]
  },
  {
   "cell_type": "code",
   "execution_count": null,
   "metadata": {
    "collapsed": false
   },
   "outputs": [],
   "source": [
    "# Remove Airfoil:\n",
    "display.Context.Erase(Af1_disp.GetObject().GetHandle())\n",
    "Af1.Curve.GetObject().Delete()   # Not sure if this truly collects the garbage yet\n",
    "\n",
    "# Or Clear the display:\n",
    "display.EraseAll()"
   ]
  },
  {
   "cell_type": "markdown",
   "metadata": {},
   "source": [
    "## Simple Lofted Wing"
   ]
  },
  {
   "cell_type": "code",
   "execution_count": null,
   "metadata": {
    "collapsed": false
   },
   "outputs": [],
   "source": [
    "# Add NACA 4 digit airfoils to loft between:\n",
    "Af2 = airconics.primitives.Airfoil([0.,0.,0.], ChordLength=3., Naca4Profile='2412')\n",
    "display.DisplayShape(Af2.Curve, update=True, color='GREEN');\n",
    "\n",
    "Af3 = airconics.primitives.Airfoil([0., 5., 0.], ChordLength=1., Naca4Profile='0012')\n",
    "display.DisplayShape(Af3.Curve, update=True, color='GREEN');\n",
    "\n",
    "Af4 = airconics.primitives.Airfoil([0., 6., 0.2], ChordLength=0.2, Naca4Profile='0012')\n",
    "display.DisplayShape(Af4.Curve, update=True, color='GREEN');\n",
    "\n",
    "surf = act.AddSurfaceLoft([Af2, Af3, Af4])\n",
    "\n",
    "# Note that surf is a TOPO_DS Shape, and hence no surf.Shape is required for display\n",
    "display.DisplayShape(surf, update=True);"
   ]
  },
  {
   "cell_type": "code",
   "execution_count": null,
   "metadata": {
    "collapsed": false
   },
   "outputs": [],
   "source": [
    "display.EraseAll()"
   ]
  },
  {
   "cell_type": "markdown",
   "metadata": {},
   "source": [
    "## Wing, Transonic Airliner"
   ]
  },
  {
   "cell_type": "markdown",
   "metadata": {},
   "source": [
    "TODO: I tried making the lifting surface loft through airfoil sections as a solid loft, however the output stp file was not correct in Rhino (may be because TE and ends are not closed)"
   ]
  },
  {
   "cell_type": "code",
   "execution_count": null,
   "metadata": {
    "collapsed": false,
    "scrolled": true
   },
   "outputs": [],
   "source": [
    "# Import all example functional definitions for the Common Research Model (CRM) Wing:\n",
    "from airconics.examples.wing_example_transonic_airliner import *\n",
    "\n",
    "# Position of the apex of the wing\n",
    "P = [0., 0., 0.]\n",
    "\n",
    "# Class definition\n",
    "NSeg = 10\n",
    "ChordFactor = 1\n",
    "ScaleFactor = 50\n",
    "\n",
    "# Generate (surface building is done during construction of the class)\n",
    "Wing = liftingsurface.LiftingSurface(P, mySweepAngleFunctionAirliner, \n",
    "    myDihedralFunctionAirliner, \n",
    "    myTwistFunctionAirliner, \n",
    "    myChordFunctionAirliner, \n",
    "    myAirfoilFunctionAirliner, SegmentNo=NSeg, ScaleFactor=ScaleFactor)\n",
    "\n",
    "# Here the TOPO_DS Shape to be displayed is stored in the Lifting surface 'Shape' Attribute\n",
    "c = display.DisplayShape(Wing.Shape, update=True)\n",
    "\n",
    "# Mirror the wing:\n",
    "W2 = act.mirror(Wing.Shape, plane='xz')\n",
    "# from OCC.AIS import AIS_WireFrame\n",
    "# display.Context.SetDisplayMode(AIS_WireFrame)\n",
    "# display.Repaint()\n",
    "display.DisplayShape(W2, update=True)"
   ]
  },
  {
   "cell_type": "markdown",
   "metadata": {},
   "source": [
    "### File input/output"
   ]
  },
  {
   "cell_type": "code",
   "execution_count": null,
   "metadata": {
    "collapsed": false
   },
   "outputs": [],
   "source": [
    "# Write Output STEP file e.g. for viewing in Rhino:\n",
    "act.export_STEPFile([Wing.Shape], 'wing.stp')"
   ]
  },
  {
   "cell_type": "code",
   "execution_count": null,
   "metadata": {
    "collapsed": false
   },
   "outputs": [],
   "source": [
    "# # OR use python 'pickle' (Though for files which will be sent, STEP is probably better)\n",
    "# import pickle\n",
    "\n",
    "# pickle.dump(Wing, open(\"wing.p\", \"wb\"))\n",
    "\n",
    "# del(Wing)\n",
    "# display.EraseAll()\n",
    "\n",
    "# LoadedWing = pickle.load(open(\"wing.p\", \"rb\"))\n",
    "# display.DisplayShape(LoadedWing.Shape, update=True, color='Blue')"
   ]
  },
  {
   "cell_type": "markdown",
   "metadata": {
    "collapsed": false
   },
   "source": [
    "## Tailplane, Transonic Airliner"
   ]
  },
  {
   "cell_type": "code",
   "execution_count": null,
   "metadata": {
    "collapsed": false
   },
   "outputs": [],
   "source": [
    "from OCC.gp import gp_Ax1, gp_Pnt, gp_Dir\n",
    "from airconics.examples.tailplane_example_transonic_airliner import *\n",
    "\n",
    "# Position of the apex of the fin\n",
    "P = [36.98-0.49-0.02, 0.0, 2.395-0.141]\n",
    "\n",
    "SegmentNo = 100\n",
    "ChordFact = 1.01\n",
    "ScaleFact = 21.93\n",
    "\n",
    "Fin = liftingsurface.LiftingSurface(P, mySweepAngleFunctionFin,\n",
    "                                    myDihedralFunctionFin,\n",
    "                                    myTwistFunctionFin,\n",
    "                                    myChordFunctionFin,\n",
    "                                    myAirfoilFunctionFin,\n",
    "                                    SegmentNo=SegmentNo,\n",
    "                                    ChordFactor=ChordFact,\n",
    "                                    ScaleFactor=ScaleFact)\n",
    "\n",
    "#    Create the rotation axis centered at the apex point in the x direction\n",
    "RotAxis = gp_Ax1(gp_Pnt(*P), gp_Dir(1, 0, 0))\n",
    "\n",
    "# Having some problem with the fin loft: display some airfoils\n",
    "# to figure out what's going on:\n",
    "#    for section in Fin._Sections:\n",
    "#        curve = section.Curve.GetObject()\n",
    "#        curve.Scale(gp_Pnt(0., 0., 0.), ScaleFact)\n",
    "#        display.DisplayShape(section.Curve, update=True)\n",
    "\n",
    "Fin.Rotate(RotAxis, 90)\n",
    "display.DisplayShape(Fin.Shape, update=True)\n",
    "\n",
    "# Position of the apex of the tailplane\n",
    "P = [43, 0.000, 1.633+0.02]\n",
    "\n",
    "SegmentNo = 100\n",
    "ChordFactor = 1.01\n",
    "ScaleFactor = 17.3\n",
    "\n",
    "TP = liftingsurface.LiftingSurface(P, mySweepAngleFunctionTP,\n",
    "                                   myDihedralFunctionTP,\n",
    "                                   myTwistFunctionTP,\n",
    "                                   myChordFunctionTP,\n",
    "                                   myAirfoilFunctionTP,\n",
    "                                   SegmentNo=SegmentNo,\n",
    "                                   ChordFactor=ChordFact,\n",
    "                                   ScaleFactor=ScaleFact)\n",
    "\n",
    "display.DisplayShape(TP.Shape, update=True)\n",
    "\n",
    "TP2 = act.mirror(TP.Shape, plane='xz', copy=True)\n",
    "\n",
    "# Note: TP2 is a TopoDS_Shape, not a wing and DisplayShape is called as:\n",
    "display.DisplayShape(TP2, update=True)"
   ]
  },
  {
   "cell_type": "markdown",
   "metadata": {},
   "source": [
    "## Fuselage Transonic Airliner"
   ]
  },
  {
   "cell_type": "code",
   "execution_count": 1,
   "metadata": {
    "collapsed": false
   },
   "outputs": [
    {
     "name": "stdout",
     "output_type": "stream",
     "text": [
      "Using PyQt4\n"
     ]
    }
   ],
   "source": [
    "# Adding this here so I dont have to keep scrolling down: remove later\n",
    "import airconics\n",
    "import airconics.AirCONICStools as act\n",
    "%gui qt4\n",
    "# Initialise the display\n",
    "from OCC.Display.SimpleGui import init_display\n",
    "display, start_display, add_menu, add_function_to_menu = init_display()\n"
   ]
  },
  {
   "cell_type": "code",
   "execution_count": 5,
   "metadata": {
    "collapsed": false
   },
   "outputs": [
    {
     "name": "stdout",
     "output_type": "stream",
     "text": [
      "(0.0, -2.9221499999999998, 0.0, 55.902000000000001, 0.0, 0.0)\n"
     ]
    },
    {
     "data": {
      "text/plain": [
       "OCC.TopoDS.TopoDS_Face"
      ]
     },
     "execution_count": 5,
     "metadata": {},
     "output_type": "execute_result"
    }
   ],
   "source": [
    "Fus = airconics.fuselage_oml.Fuselage()\n",
    "\n",
    "display.DisplayShape(Fus.PortCurve, update=True)\n",
    "\n",
    "L = len(Fus._SectionPlanes)\n",
    "face = Fus._SectionPlanes[L/2]\n",
    "    \n",
    "type(face)"
   ]
  },
  {
   "cell_type": "code",
   "execution_count": null,
   "metadata": {
    "collapsed": true
   },
   "outputs": [],
   "source": [
    "# Testing stuff(remove later)\n",
    "\n",
    "from OCC.Geom2d import Geom2d_BezierCurve\n",
    "from OCC.TColgp import TColgp_Array1OfPnt2d\n",
    "from OCC.Geom2d import Handle_Geom2d_Curve\n",
    "from OCC.gp import gp_Pnt2d\n",
    "from OCC.BRepBuilderAPI import BRepBuilderAPI_MakeEdge2d\n",
    "import numpy as np \n",
    "from OCC.Bnd import Bnd_Box2d\n",
    "from OCC.BRepBndLib import brepbndlib_Add\n",
    "\n",
    "NoseLengthRatio = 0.182\n",
    "TailLengthRatio = 0.293\n",
    "kN = NoseLengthRatio / 0.182\n",
    "tN = TailLengthRatio / 0.293\n",
    "PlanPort = np.array([[0,                  0,     0],\n",
    "                     [0*kN,              -0.1,   0],\n",
    "                     [0.332*kN,          -0.395, 0],\n",
    "                     [1.250*kN,          -0.810, 0],\n",
    "                     [2.517*kN,          -1.074, 0],\n",
    "                     [4*kN,              -1.15,  0],\n",
    "                     [4*kN,              -1.15,  0],\n",
    "                     # Parallel sided section here\n",
    "                     [22-(22-15.55)*tN,  -1.15,   0],\n",
    "                     [22-(22-15.55)*tN,  -1.15,   0],\n",
    "                     [22-(22-16.428)*tN, -1.126,  0],\n",
    "                     [22-(22-20.3362)*tN,-0.483,  0],\n",
    "                     [22,                -0.0987, 0]])\n",
    "\n",
    "array = PlanPort[:, 0:2]\n",
    "N = array.shape[0]\n",
    "pt_arr = TColgp_Array1OfPnt2d(0, N-1)\n",
    "for i, pt in enumerate(array):\n",
    "    pt_arr.SetValue(i, gp_Pnt2d(*pt))\n",
    "\n",
    "PlanPortCurve = Geom2d_BezierCurve(pt_arr)\n",
    "H_PlanPortCurve = Handle_Geom2d_Curve(PlanPortCurve)      # Get handle of curve      \n",
    "PP_Edge = BRepBuilderAPI_MakeEdge2d(PlanPortCurve.GetHandle()).Edge()\n",
    "\n",
    "display.DisplayShape(PlanPortCurve)"
   ]
  },
  {
   "cell_type": "markdown",
   "metadata": {
    "collapsed": false
   },
   "source": [
    "## Random things I tried out (Needs removing)"
   ]
  },
  {
   "cell_type": "code",
   "execution_count": null,
   "metadata": {
    "collapsed": false
   },
   "outputs": [],
   "source": [
    "# from OCC.gp import gp_Lin\n",
    "# from OCC.ShapeConstruct import shapeconstruct\n",
    "\n",
    "# Af2 = airconics.primitives.Airfoil([0.,0.,0.], ChordLength=3., Naca4Profile='2412')\n",
    "\n",
    "# h = Af2.curve.GetHandle()\n",
    "# EP = h.EndPoint()\n",
    "# SP = h.StartPoint()\n",
    "# closure = gp_Lin(EP, SP)\n",
    "\n",
    "# shapeconstruct.JoinCurves(h.GetObject(), closure.)\n",
    "\n",
    "# display.DisplayShape(Af2.Curve, update=True)"
   ]
  },
  {
   "cell_type": "code",
   "execution_count": null,
   "metadata": {
    "collapsed": false
   },
   "outputs": [],
   "source": [
    "# from OCC.gp import gp_Lin, gp_Ax1, gp_Dir\n",
    "# from OCC.ShapeConstruct import shapeconstruct\n",
    "# from OCC.BRepBuilderAPI import BRepBuilderAPI_MakeEdge\n",
    "\n",
    "# Af2 = airconics.primitives.Airfoil([0.,0.,0.], ChordLength=3., Naca4Profile='2412')\n",
    "\n",
    "# h = Af2.Curve.GetObject()\n",
    "# EP = h.EndPoint()\n",
    "# SP = h.StartPoint()\n",
    "# closure = BRepBuilderAPI_MakeEdge(gp_Lin(gp_Ax1(EP, gp_Dir(SP.XYZ()))) ).Edge()\n",
    "\n",
    "# display.DisplayShape(closure, update=True)\n",
    "# display.DisplayShape(Af2.Curve, update=True)"
   ]
  },
  {
   "cell_type": "code",
   "execution_count": null,
   "metadata": {
    "collapsed": false
   },
   "outputs": [],
   "source": [
    "# # Note : This seems to make objects render in ipython notebook (only works for shapes? only works if %gui qt4 has npt)\n",
    "import sys\n",
    "import os\n",
    "\n",
    "# Change this to path to pythonocc-contrib repository\n",
    "pythonocc_contrib_dir = os.path.abspath('/home/pchambers/git/pythonocc-contrib')\n",
    "sys.path.append(pythonocc_contrib_dir)\n",
    "\n",
    "# Create the wing:\n",
    "from airconics.examples.wing_example_transonic_airliner import *\n",
    "\n",
    "# Position of the apex of the wing\n",
    "P = (0,0,0)\n",
    "NSeg = 10\n",
    "ChordFactor = 1\n",
    "ScaleFactor = 50\n",
    "Wing = liftingsurface.LiftingSurface(P, mySweepAngleFunctionAirliner, \n",
    "    myDihedralFunctionAirliner, \n",
    "    myTwistFunctionAirliner, \n",
    "    myChordFunctionAirliner, \n",
    "    myAirfoilFunctionAirliner, SegmentNo=NSeg, ScaleFactor=ScaleFactor)\n",
    "\n",
    "import WebServer.TornadoWeb\n",
    "renderer = WebServer.TornadoWeb.TornadoWebRenderer()\n",
    "renderer.DisplayShape(Wing.Shape)\n",
    "renderer"
   ]
  },
  {
   "cell_type": "code",
   "execution_count": null,
   "metadata": {
    "collapsed": false
   },
   "outputs": [],
   "source": [
    "orient = Wing.Shape.Orientation()"
   ]
  },
  {
   "cell_type": "code",
   "execution_count": null,
   "metadata": {
    "collapsed": false
   },
   "outputs": [],
   "source": [
    "type(Af1.Curve)"
   ]
  },
  {
   "cell_type": "code",
   "execution_count": null,
   "metadata": {
    "collapsed": true
   },
   "outputs": [],
   "source": []
  }
 ],
 "metadata": {
  "kernelspec": {
   "display_name": "Python 2",
   "language": "python",
   "name": "python2"
  },
  "language_info": {
   "codemirror_mode": {
    "name": "ipython",
    "version": 2
   },
   "file_extension": ".py",
   "mimetype": "text/x-python",
   "name": "python",
   "nbconvert_exporter": "python",
   "pygments_lexer": "ipython2",
   "version": "2.7.11"
  }
 },
 "nbformat": 4,
 "nbformat_minor": 0
}
