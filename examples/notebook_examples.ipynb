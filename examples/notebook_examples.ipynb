{
 "cells": [
  {
   "cell_type": "markdown",
   "metadata": {},
   "source": [
    "# Notebook for testing Airconics examples "
   ]
  },
  {
   "cell_type": "markdown",
   "metadata": {},
   "source": [
    "IMPORTANT!: ipython notebook bug requires first code cells to be run manually (i.e. not with 'Run All' Cells). After this, all cells can be rerun with 'Run all below'. "
   ]
  },
  {
   "cell_type": "code",
   "execution_count": 1,
   "metadata": {
    "collapsed": false
   },
   "outputs": [
    {
     "name": "stdout",
     "output_type": "stream",
     "text": [
      "Using PyQt4\n"
     ]
    }
   ],
   "source": [
    "import airconics\n",
    "%gui qt4\n",
    "# Initialise the display\n",
    "from OCC.Display.SimpleGui import init_display\n",
    "display, start_display, add_menu, add_function_to_menu = init_display()"
   ]
  },
  {
   "cell_type": "code",
   "execution_count": 2,
   "metadata": {
    "collapsed": false
   },
   "outputs": [
    {
     "ename": "AssertionError",
     "evalue": "Airfoil database for dae11.dat not found.",
     "output_type": "error",
     "traceback": [
      "\u001b[1;31m---------------------------------------------------------------------------\u001b[0m",
      "\u001b[1;31mAssertionError\u001b[0m                            Traceback (most recent call last)",
      "\u001b[1;32m<ipython-input-2-8cbc52e13fba>\u001b[0m in \u001b[0;36m<module>\u001b[1;34m()\u001b[0m\n\u001b[0;32m     10\u001b[0m \u001b[1;31m# Instantiate class to set up a generic airfoil with these basic parameters\u001b[0m\u001b[1;33m\u001b[0m\u001b[1;33m\u001b[0m\u001b[0m\n\u001b[0;32m     11\u001b[0m Af = airconics.primitives.Airfoil(LEPoint, ChordLength, Rotation, Twist,\n\u001b[1;32m---> 12\u001b[1;33m                         SeligProfile=AirfoilSeligName)\n\u001b[0m\u001b[0;32m     13\u001b[0m \u001b[0mdisplay\u001b[0m\u001b[1;33m.\u001b[0m\u001b[0mDisplayShape\u001b[0m\u001b[1;33m(\u001b[0m\u001b[0mAf\u001b[0m\u001b[1;33m.\u001b[0m\u001b[0mshape\u001b[0m\u001b[1;33m,\u001b[0m \u001b[0mupdate\u001b[0m\u001b[1;33m=\u001b[0m\u001b[0mTrue\u001b[0m\u001b[1;33m)\u001b[0m\u001b[1;33m;\u001b[0m\u001b[1;33m\u001b[0m\u001b[0m\n",
      "\u001b[1;32m/home/pchambers/anaconda2/lib/python2.7/site-packages/airconics-0.21-py2.7.egg/airconics/primitives.pyc\u001b[0m in \u001b[0;36m__init__\u001b[1;34m(self, LeadingEdgePoint, ChordLength, Rotation, Twist, SeligProfile, Naca4Profile, Naca5Profile, EnforceSharpTE)\u001b[0m\n\u001b[0;32m     66\u001b[0m \u001b[1;31m#        self.EnforceSharpTE = EnforceSharpTE\u001b[0m\u001b[1;33m\u001b[0m\u001b[1;33m\u001b[0m\u001b[0m\n\u001b[0;32m     67\u001b[0m         self.shape, self._ChordLength = self._make_airfoil(SeligProfile, \n\u001b[1;32m---> 68\u001b[1;33m                                             Naca4Profile, Naca5Profile)\n\u001b[0m\u001b[0;32m     69\u001b[0m \u001b[1;33m\u001b[0m\u001b[0m\n\u001b[0;32m     70\u001b[0m \u001b[1;33m\u001b[0m\u001b[0m\n",
      "\u001b[1;32m/home/pchambers/anaconda2/lib/python2.7/site-packages/airconics-0.21-py2.7.egg/airconics/primitives.pyc\u001b[0m in \u001b[0;36m_make_airfoil\u001b[1;34m(self, SeligProfile, Naca4Profile, Naca5Profile)\u001b[0m\n\u001b[0;32m     72\u001b[0m         \u001b[1;34m\"\"\"Selects airfoil 'add' function based on Profile specified \"\"\"\u001b[0m\u001b[1;33m\u001b[0m\u001b[0m\n\u001b[0;32m     73\u001b[0m         \u001b[1;32mif\u001b[0m \u001b[0mSeligProfile\u001b[0m\u001b[1;33m:\u001b[0m\u001b[1;33m\u001b[0m\u001b[0m\n\u001b[1;32m---> 74\u001b[1;33m             \u001b[1;32mreturn\u001b[0m \u001b[0mself\u001b[0m\u001b[1;33m.\u001b[0m\u001b[0m_AddAirfoilFromSeligFile\u001b[0m\u001b[1;33m(\u001b[0m\u001b[0mSeligProfile\u001b[0m\u001b[1;33m)\u001b[0m\u001b[1;33m\u001b[0m\u001b[0m\n\u001b[0m\u001b[0;32m     75\u001b[0m         \u001b[1;32melif\u001b[0m \u001b[0mNaca4Profile\u001b[0m\u001b[1;33m:\u001b[0m\u001b[1;33m\u001b[0m\u001b[0m\n\u001b[0;32m     76\u001b[0m             raise NotImplementedError(\"Oops, This function is not yet\\\n",
      "\u001b[1;32m/home/pchambers/anaconda2/lib/python2.7/site-packages/airconics-0.21-py2.7.egg/airconics/primitives.pyc\u001b[0m in \u001b[0;36m_AddAirfoilFromSeligFile\u001b[1;34m(self, SeligProfile, Smoothing)\u001b[0m\n\u001b[0;32m    167\u001b[0m         \"\"\"\n\u001b[0;32m    168\u001b[0m         \u001b[1;32massert\u001b[0m\u001b[1;33m(\u001b[0m\u001b[0mSeligProfile\u001b[0m \u001b[1;33m!=\u001b[0m \u001b[1;34m''\u001b[0m\u001b[1;33m)\u001b[0m\u001b[1;33m,\u001b[0m \u001b[1;34m\"No Selig Profile given (string)\"\u001b[0m\u001b[1;33m\u001b[0m\u001b[0m\n\u001b[1;32m--> 169\u001b[1;33m         \u001b[0mC\u001b[0m \u001b[1;33m=\u001b[0m \u001b[0mself\u001b[0m\u001b[1;33m.\u001b[0m\u001b[0m_BsplineFromSeligAirfoil\u001b[0m\u001b[1;33m(\u001b[0m\u001b[0mSeligProfile\u001b[0m\u001b[1;33m)\u001b[0m\u001b[1;33m\u001b[0m\u001b[0m\n\u001b[0m\u001b[0;32m    170\u001b[0m \u001b[1;31m#        C = self._fitAirfoiltoPoints(x, z)  #Removed for speed!\u001b[0m\u001b[1;33m\u001b[0m\u001b[1;33m\u001b[0m\u001b[0m\n\u001b[0;32m    171\u001b[0m         \u001b[0mChrd\u001b[0m \u001b[1;33m=\u001b[0m \u001b[1;36m1\u001b[0m    \u001b[1;31m#TODO: chord transform, smoothing\u001b[0m\u001b[1;33m\u001b[0m\u001b[0m\n",
      "\u001b[1;32m/home/pchambers/anaconda2/lib/python2.7/site-packages/airconics-0.21-py2.7.egg/airconics/primitives.pyc\u001b[0m in \u001b[0;36m_BsplineFromSeligAirfoil\u001b[1;34m(self, SeligProfile)\u001b[0m\n\u001b[0;32m    133\u001b[0m         \u001b[0mSeligProfile\u001b[0m \u001b[1;33m=\u001b[0m \u001b[0mSeligProfile\u001b[0m \u001b[1;33m+\u001b[0m \u001b[1;34m'.dat'\u001b[0m\u001b[1;33m\u001b[0m\u001b[0m\n\u001b[0;32m    134\u001b[0m         \u001b[1;32massert\u001b[0m\u001b[1;33m(\u001b[0m\u001b[0mresource_exists\u001b[0m\u001b[1;33m(\u001b[0m\u001b[0mres_pkg\u001b[0m\u001b[1;33m,\u001b[0m \u001b[0mSeligProfile\u001b[0m\u001b[1;33m)\u001b[0m\u001b[1;33m)\u001b[0m\u001b[1;33m,\u001b[0m\u001b[0;31m\\\u001b[0m\u001b[1;33m\u001b[0m\u001b[0m\n\u001b[1;32m--> 135\u001b[1;33m             \u001b[1;34m\"Airfoil database for {} not found.\"\u001b[0m\u001b[1;33m.\u001b[0m\u001b[0mformat\u001b[0m\u001b[1;33m(\u001b[0m\u001b[0mSeligProfile\u001b[0m\u001b[1;33m)\u001b[0m\u001b[1;33m\u001b[0m\u001b[0m\n\u001b[0m\u001b[0;32m    136\u001b[0m \u001b[1;33m\u001b[0m\u001b[0m\n\u001b[0;32m    137\u001b[0m         \u001b[0mdata\u001b[0m \u001b[1;33m=\u001b[0m \u001b[0mresource_string\u001b[0m\u001b[1;33m(\u001b[0m\u001b[0mres_pkg\u001b[0m\u001b[1;33m,\u001b[0m \u001b[0mSeligProfile\u001b[0m\u001b[1;33m)\u001b[0m\u001b[1;33m\u001b[0m\u001b[0m\n",
      "\u001b[1;31mAssertionError\u001b[0m: Airfoil database for dae11.dat not found."
     ]
    }
   ],
   "source": [
    "# Note these sizing variables aren't used yet\n",
    "LEPoint = [0., 0., 0.] \n",
    "ChordLength = 1\n",
    "Rotation = 0\n",
    "Twist = 0\n",
    "\n",
    "AirfoilSeligName = 'dae11'\n",
    "# SmoothingPasses = 1   #TODO\n",
    "\n",
    "# Instantiate class to set up a generic airfoil with these basic parameters\n",
    "Af = airconics.primitives.Airfoil(LEPoint, ChordLength, Rotation, Twist,\n",
    "                        SeligProfile=AirfoilSeligName)\n",
    "display.DisplayShape(Af.shape, update=True);"
   ]
  },
  {
   "cell_type": "code",
   "execution_count": 3,
   "metadata": {
    "collapsed": false
   },
   "outputs": [
    {
     "name": "stdout",
     "output_type": "stream",
     "text": [
      "Many colors for color name BLUE, using first.\n"
     ]
    }
   ],
   "source": [
    "# Add another one (just to test display):\n",
    "Af2 = airconics.primitives.Airfoil(LEPoint, ChordLength, Rotation, Twist,\n",
    "                        SeligProfile='b707a')\n",
    "display.DisplayShape(Af2.shape, update=True, color='BLUE');"
   ]
  },
  {
   "cell_type": "code",
   "execution_count": 4,
   "metadata": {
    "collapsed": false
   },
   "outputs": [],
   "source": [
    "# Add another one (just to test display):\n",
    "Af3 = airconics.primitives.Airfoil(LEPoint, ChordLength, Rotation, Twist,\n",
    "                        SeligProfile='naca0024')\n",
    "display.DisplayShape(Af3.shape, update=True, color='GREEN');"
   ]
  },
  {
   "cell_type": "code",
   "execution_count": null,
   "metadata": {
    "collapsed": true
   },
   "outputs": [],
   "source": []
  }
 ],
 "metadata": {
  "kernelspec": {
   "display_name": "Python 2",
   "language": "python",
   "name": "python2"
  },
  "language_info": {
   "codemirror_mode": {
    "name": "ipython",
    "version": 2
   },
   "file_extension": ".py",
   "mimetype": "text/x-python",
   "name": "python",
   "nbconvert_exporter": "python",
   "pygments_lexer": "ipython2",
   "version": "2.7.11"
  }
 },
 "nbformat": 4,
 "nbformat_minor": 0
}
